{
 "cells": [
  {
   "attachments": {
    "airbnb%20pic.jpeg": {
     "image/jpeg": "[encoded data removed]"
    }
   },
   "cell_type": "markdown",
   "id": "6c51650a",
   "metadata": {},
   "source": [
    "![airbnb%20pic.jpeg](attachment:airbnb%20pic.jpeg)"
   ]
  },
  {
   "cell_type": "markdown",
   "id": "f3b0b134",
   "metadata": {},
   "source": [
    "# What is Airbnb?"
   ]
  },
  {
   "cell_type": "markdown",
   "id": "626f1b61",
   "metadata": {},
   "source": [
    "### Airbnb was founded in 2008 as a platform enabling locals to list their homes for short term rental and travelers to have a lodging option alternative to hotels. Today, it is a 2.6 billion dollar travel empire (Business Insider 2018) and the largest provider of rooms available to travelers (Airbnb: 3M, three times as much as Mariott’s 1M) (Str 2019). Along with homes for rent, Airbnb.com allows its users to search through “Experiences”, which include pre-arranged multi destination trips, “Restaurants,” and recently even “Animals,” which stands for experiences where travelers can meet and interact with animals local to their travel destination (e.g., Zoo visit).\n",
    "\n"
   ]
  },
  {
   "cell_type": "markdown",
   "id": "b4562e42",
   "metadata": {},
   "source": [
    "## Importing Libraries"
   ]
  },
  {
   "cell_type": "code",
   "execution_count": 1,
   "id": "e445577d",
   "metadata": {},
   "outputs": [],
   "source": [
    "import numpy as np\n",
    "import pandas as pd\n",
    "import matplotlib.pyplot as plt\n",
    "%matplotlib inline\n",
    "import seaborn as sns"
   ]
  },
  {
   "cell_type": "markdown",
   "id": "16fa0f34",
   "metadata": {},
   "source": [
    "## Loading and reading the Dataset"
   ]
  },
  {
   "cell_type": "code",
   "execution_count": 2,
   "id": "b60e16e0",
   "metadata": {},
   "outputs": [
    {
     "data": {
      "text/html": [
       "<div>\n",
       "<style scoped>\n",
       "    .dataframe tbody tr th:only-of-type {\n",
       "        vertical-align: middle;\n",
       "    }\n",
       "\n",
       "    .dataframe tbody tr th {\n",
       "        vertical-align: top;\n",
       "    }\n",
       "\n",
       "    .dataframe thead th {\n",
       "        text-align: right;\n",
       "    }\n",
       "</style>\n",
       "<table border=\"1\" class=\"dataframe\">\n",
       "  <thead>\n",
       "    <tr style=\"text-align: right;\">\n",
       "      <th></th>\n",
       "      <th>id</th>\n",
       "      <th>NAME</th>\n",
       "      <th>host id</th>\n",
       "      <th>host_identity_verified</th>\n",
       "      <th>host name</th>\n",
       "      <th>neighbourhood group</th>\n",
       "      <th>neighbourhood</th>\n",
       "      <th>lat</th>\n",
       "      <th>long</th>\n",
       "      <th>country</th>\n",
       "      <th>...</th>\n",
       "      <th>service fee</th>\n",
       "      <th>minimum nights</th>\n",
       "      <th>number of reviews</th>\n",
       "      <th>last review</th>\n",
       "      <th>reviews per month</th>\n",
       "      <th>review rate number</th>\n",
       "      <th>calculated host listings count</th>\n",
       "      <th>availability 365</th>\n",
       "      <th>house_rules</th>\n",
       "      <th>license</th>\n",
       "    </tr>\n",
       "  </thead>\n",
       "  <tbody>\n",
       "    <tr>\n",
       "      <th>0</th>\n",
       "      <td>1001254</td>\n",
       "      <td>Clean &amp; quiet apt home by the park</td>\n",
       "      <td>80014485718</td>\n",
       "      <td>unconfirmed</td>\n",
       "      <td>Madaline</td>\n",
       "      <td>Brooklyn</td>\n",
       "      <td>Kensington</td>\n",
       "      <td>40.64749</td>\n",
       "      <td>-73.97237</td>\n",
       "      <td>United States</td>\n",
       "      <td>...</td>\n",
       "      <td>$193</td>\n",
       "      <td>10.0</td>\n",
       "      <td>9.0</td>\n",
       "      <td>10/19/2021</td>\n",
       "      <td>0.21</td>\n",
       "      <td>4.0</td>\n",
       "      <td>6.0</td>\n",
       "      <td>286.0</td>\n",
       "      <td>Clean up and treat the home the way you'd like...</td>\n",
       "      <td>NaN</td>\n",
       "    </tr>\n",
       "    <tr>\n",
       "      <th>1</th>\n",
       "      <td>1002102</td>\n",
       "      <td>Skylit Midtown Castle</td>\n",
       "      <td>52335172823</td>\n",
       "      <td>verified</td>\n",
       "      <td>Jenna</td>\n",
       "      <td>Manhattan</td>\n",
       "      <td>Midtown</td>\n",
       "      <td>40.75362</td>\n",
       "      <td>-73.98377</td>\n",
       "      <td>United States</td>\n",
       "      <td>...</td>\n",
       "      <td>$28</td>\n",
       "      <td>30.0</td>\n",
       "      <td>45.0</td>\n",
       "      <td>5/21/2022</td>\n",
       "      <td>0.38</td>\n",
       "      <td>4.0</td>\n",
       "      <td>2.0</td>\n",
       "      <td>228.0</td>\n",
       "      <td>Pet friendly but please confirm with me if the...</td>\n",
       "      <td>NaN</td>\n",
       "    </tr>\n",
       "    <tr>\n",
       "      <th>2</th>\n",
       "      <td>1002403</td>\n",
       "      <td>THE VILLAGE OF HARLEM....NEW YORK !</td>\n",
       "      <td>78829239556</td>\n",
       "      <td>NaN</td>\n",
       "      <td>Elise</td>\n",
       "      <td>Manhattan</td>\n",
       "      <td>Harlem</td>\n",
       "      <td>40.80902</td>\n",
       "      <td>-73.94190</td>\n",
       "      <td>United States</td>\n",
       "      <td>...</td>\n",
       "      <td>$124</td>\n",
       "      <td>3.0</td>\n",
       "      <td>0.0</td>\n",
       "      <td>NaN</td>\n",
       "      <td>NaN</td>\n",
       "      <td>5.0</td>\n",
       "      <td>1.0</td>\n",
       "      <td>352.0</td>\n",
       "      <td>I encourage you to use my kitchen, cooking and...</td>\n",
       "      <td>NaN</td>\n",
       "    </tr>\n",
       "    <tr>\n",
       "      <th>3</th>\n",
       "      <td>1002755</td>\n",
       "      <td>NaN</td>\n",
       "      <td>85098326012</td>\n",
       "      <td>unconfirmed</td>\n",
       "      <td>Garry</td>\n",
       "      <td>Brooklyn</td>\n",
       "      <td>Clinton Hill</td>\n",
       "      <td>40.68514</td>\n",
       "      <td>-73.95976</td>\n",
       "      <td>United States</td>\n",
       "      <td>...</td>\n",
       "      <td>$74</td>\n",
       "      <td>30.0</td>\n",
       "      <td>270.0</td>\n",
       "      <td>07/05/2019</td>\n",
       "      <td>4.64</td>\n",
       "      <td>4.0</td>\n",
       "      <td>1.0</td>\n",
       "      <td>322.0</td>\n",
       "      <td>NaN</td>\n",
       "      <td>NaN</td>\n",
       "    </tr>\n",
       "    <tr>\n",
       "      <th>4</th>\n",
       "      <td>1003689</td>\n",
       "      <td>Entire Apt: Spacious Studio/Loft by central park</td>\n",
       "      <td>92037596077</td>\n",
       "      <td>verified</td>\n",
       "      <td>Lyndon</td>\n",
       "      <td>Manhattan</td>\n",
       "      <td>East Harlem</td>\n",
       "      <td>40.79851</td>\n",
       "      <td>-73.94399</td>\n",
       "      <td>United States</td>\n",
       "      <td>...</td>\n",
       "      <td>$41</td>\n",
       "      <td>10.0</td>\n",
       "      <td>9.0</td>\n",
       "      <td>11/19/2018</td>\n",
       "      <td>0.10</td>\n",
       "      <td>3.0</td>\n",
       "      <td>1.0</td>\n",
       "      <td>289.0</td>\n",
       "      <td>Please no smoking in the house, porch or on th...</td>\n",
       "      <td>NaN</td>\n",
       "    </tr>\n",
       "    <tr>\n",
       "      <th>...</th>\n",
       "      <td>...</td>\n",
       "      <td>...</td>\n",
       "      <td>...</td>\n",
       "      <td>...</td>\n",
       "      <td>...</td>\n",
       "      <td>...</td>\n",
       "      <td>...</td>\n",
       "      <td>...</td>\n",
       "      <td>...</td>\n",
       "      <td>...</td>\n",
       "      <td>...</td>\n",
       "      <td>...</td>\n",
       "      <td>...</td>\n",
       "      <td>...</td>\n",
       "      <td>...</td>\n",
       "      <td>...</td>\n",
       "      <td>...</td>\n",
       "      <td>...</td>\n",
       "      <td>...</td>\n",
       "      <td>...</td>\n",
       "      <td>...</td>\n",
       "    </tr>\n",
       "    <tr>\n",
       "      <th>102594</th>\n",
       "      <td>6092437</td>\n",
       "      <td>Spare room in Williamsburg</td>\n",
       "      <td>12312296767</td>\n",
       "      <td>verified</td>\n",
       "      <td>Krik</td>\n",
       "      <td>Brooklyn</td>\n",
       "      <td>Williamsburg</td>\n",
       "      <td>40.70862</td>\n",
       "      <td>-73.94651</td>\n",
       "      <td>United States</td>\n",
       "      <td>...</td>\n",
       "      <td>$169</td>\n",
       "      <td>1.0</td>\n",
       "      <td>0.0</td>\n",
       "      <td>NaN</td>\n",
       "      <td>NaN</td>\n",
       "      <td>3.0</td>\n",
       "      <td>1.0</td>\n",
       "      <td>227.0</td>\n",
       "      <td>No Smoking No Parties or Events of any kind Pl...</td>\n",
       "      <td>NaN</td>\n",
       "    </tr>\n",
       "    <tr>\n",
       "      <th>102595</th>\n",
       "      <td>6092990</td>\n",
       "      <td>Best Location near Columbia U</td>\n",
       "      <td>77864383453</td>\n",
       "      <td>unconfirmed</td>\n",
       "      <td>Mifan</td>\n",
       "      <td>Manhattan</td>\n",
       "      <td>Morningside Heights</td>\n",
       "      <td>40.80460</td>\n",
       "      <td>-73.96545</td>\n",
       "      <td>United States</td>\n",
       "      <td>...</td>\n",
       "      <td>$167</td>\n",
       "      <td>1.0</td>\n",
       "      <td>1.0</td>\n",
       "      <td>07/06/2015</td>\n",
       "      <td>0.02</td>\n",
       "      <td>2.0</td>\n",
       "      <td>2.0</td>\n",
       "      <td>395.0</td>\n",
       "      <td>House rules: Guests agree to the following ter...</td>\n",
       "      <td>NaN</td>\n",
       "    </tr>\n",
       "    <tr>\n",
       "      <th>102596</th>\n",
       "      <td>6093542</td>\n",
       "      <td>Comfy, bright room in Brooklyn</td>\n",
       "      <td>69050334417</td>\n",
       "      <td>unconfirmed</td>\n",
       "      <td>Megan</td>\n",
       "      <td>Brooklyn</td>\n",
       "      <td>Park Slope</td>\n",
       "      <td>40.67505</td>\n",
       "      <td>-73.98045</td>\n",
       "      <td>United States</td>\n",
       "      <td>...</td>\n",
       "      <td>$198</td>\n",
       "      <td>3.0</td>\n",
       "      <td>0.0</td>\n",
       "      <td>NaN</td>\n",
       "      <td>NaN</td>\n",
       "      <td>5.0</td>\n",
       "      <td>1.0</td>\n",
       "      <td>342.0</td>\n",
       "      <td>NaN</td>\n",
       "      <td>NaN</td>\n",
       "    </tr>\n",
       "    <tr>\n",
       "      <th>102597</th>\n",
       "      <td>6094094</td>\n",
       "      <td>Big Studio-One Stop from Midtown</td>\n",
       "      <td>11160591270</td>\n",
       "      <td>unconfirmed</td>\n",
       "      <td>Christopher</td>\n",
       "      <td>Queens</td>\n",
       "      <td>Long Island City</td>\n",
       "      <td>40.74989</td>\n",
       "      <td>-73.93777</td>\n",
       "      <td>United States</td>\n",
       "      <td>...</td>\n",
       "      <td>$109</td>\n",
       "      <td>2.0</td>\n",
       "      <td>5.0</td>\n",
       "      <td>10/11/2015</td>\n",
       "      <td>0.10</td>\n",
       "      <td>3.0</td>\n",
       "      <td>1.0</td>\n",
       "      <td>386.0</td>\n",
       "      <td>NaN</td>\n",
       "      <td>NaN</td>\n",
       "    </tr>\n",
       "    <tr>\n",
       "      <th>102598</th>\n",
       "      <td>6094647</td>\n",
       "      <td>585 sf Luxury Studio</td>\n",
       "      <td>68170633372</td>\n",
       "      <td>unconfirmed</td>\n",
       "      <td>Rebecca</td>\n",
       "      <td>Manhattan</td>\n",
       "      <td>Upper West Side</td>\n",
       "      <td>40.76807</td>\n",
       "      <td>-73.98342</td>\n",
       "      <td>United States</td>\n",
       "      <td>...</td>\n",
       "      <td>$206</td>\n",
       "      <td>1.0</td>\n",
       "      <td>0.0</td>\n",
       "      <td>NaN</td>\n",
       "      <td>NaN</td>\n",
       "      <td>3.0</td>\n",
       "      <td>1.0</td>\n",
       "      <td>69.0</td>\n",
       "      <td>NaN</td>\n",
       "      <td>NaN</td>\n",
       "    </tr>\n",
       "  </tbody>\n",
       "</table>\n",
       "<p>102599 rows × 26 columns</p>\n",
       "</div>"
      ],
      "text/plain": [
       "             id                                              NAME  \\\n",
       "0       1001254                Clean & quiet apt home by the park   \n",
       "1       1002102                             Skylit Midtown Castle   \n",
       "2       1002403               THE VILLAGE OF HARLEM....NEW YORK !   \n",
       "3       1002755                                               NaN   \n",
       "4       1003689  Entire Apt: Spacious Studio/Loft by central park   \n",
       "...         ...                                               ...   \n",
       "102594  6092437                        Spare room in Williamsburg   \n",
       "102595  6092990                     Best Location near Columbia U   \n",
       "102596  6093542                    Comfy, bright room in Brooklyn   \n",
       "102597  6094094                  Big Studio-One Stop from Midtown   \n",
       "102598  6094647                              585 sf Luxury Studio   \n",
       "\n",
       "            host id host_identity_verified    host name neighbourhood group  \\\n",
       "0       80014485718            unconfirmed     Madaline            Brooklyn   \n",
       "1       52335172823               verified        Jenna           Manhattan   \n",
       "2       78829239556                    NaN        Elise           Manhattan   \n",
       "3       85098326012            unconfirmed        Garry            Brooklyn   \n",
       "4       92037596077               verified       Lyndon           Manhattan   \n",
       "...             ...                    ...          ...                 ...   \n",
       "102594  12312296767               verified         Krik            Brooklyn   \n",
       "102595  77864383453            unconfirmed        Mifan           Manhattan   \n",
       "102596  69050334417            unconfirmed        Megan            Brooklyn   \n",
       "102597  11160591270            unconfirmed  Christopher              Queens   \n",
       "102598  68170633372            unconfirmed      Rebecca           Manhattan   \n",
       "\n",
       "              neighbourhood       lat      long        country  ...  \\\n",
       "0                Kensington  40.64749 -73.97237  United States  ...   \n",
       "1                   Midtown  40.75362 -73.98377  United States  ...   \n",
       "2                    Harlem  40.80902 -73.94190  United States  ...   \n",
       "3              Clinton Hill  40.68514 -73.95976  United States  ...   \n",
       "4               East Harlem  40.79851 -73.94399  United States  ...   \n",
       "...                     ...       ...       ...            ...  ...   \n",
       "102594         Williamsburg  40.70862 -73.94651  United States  ...   \n",
       "102595  Morningside Heights  40.80460 -73.96545  United States  ...   \n",
       "102596           Park Slope  40.67505 -73.98045  United States  ...   \n",
       "102597     Long Island City  40.74989 -73.93777  United States  ...   \n",
       "102598      Upper West Side  40.76807 -73.98342  United States  ...   \n",
       "\n",
       "       service fee minimum nights number of reviews last review  \\\n",
       "0            $193            10.0               9.0  10/19/2021   \n",
       "1             $28            30.0              45.0   5/21/2022   \n",
       "2            $124             3.0               0.0         NaN   \n",
       "3             $74            30.0             270.0  07/05/2019   \n",
       "4             $41            10.0               9.0  11/19/2018   \n",
       "...            ...            ...               ...         ...   \n",
       "102594       $169             1.0               0.0         NaN   \n",
       "102595       $167             1.0               1.0  07/06/2015   \n",
       "102596       $198             3.0               0.0         NaN   \n",
       "102597       $109             2.0               5.0  10/11/2015   \n",
       "102598       $206             1.0               0.0         NaN   \n",
       "\n",
       "        reviews per month review rate number calculated host listings count  \\\n",
       "0                    0.21                4.0                            6.0   \n",
       "1                    0.38                4.0                            2.0   \n",
       "2                     NaN                5.0                            1.0   \n",
       "3                    4.64                4.0                            1.0   \n",
       "4                    0.10                3.0                            1.0   \n",
       "...                   ...                ...                            ...   \n",
       "102594                NaN                3.0                            1.0   \n",
       "102595               0.02                2.0                            2.0   \n",
       "102596                NaN                5.0                            1.0   \n",
       "102597               0.10                3.0                            1.0   \n",
       "102598                NaN                3.0                            1.0   \n",
       "\n",
       "        availability 365                                        house_rules  \\\n",
       "0                  286.0  Clean up and treat the home the way you'd like...   \n",
       "1                  228.0  Pet friendly but please confirm with me if the...   \n",
       "2                  352.0  I encourage you to use my kitchen, cooking and...   \n",
       "3                  322.0                                                NaN   \n",
       "4                  289.0  Please no smoking in the house, porch or on th...   \n",
       "...                  ...                                                ...   \n",
       "102594             227.0  No Smoking No Parties or Events of any kind Pl...   \n",
       "102595             395.0  House rules: Guests agree to the following ter...   \n",
       "102596             342.0                                                NaN   \n",
       "102597             386.0                                                NaN   \n",
       "102598              69.0                                                NaN   \n",
       "\n",
       "       license  \n",
       "0          NaN  \n",
       "1          NaN  \n",
       "2          NaN  \n",
       "3          NaN  \n",
       "4          NaN  \n",
       "...        ...  \n",
       "102594     NaN  \n",
       "102595     NaN  \n",
       "102596     NaN  \n",
       "102597     NaN  \n",
       "102598     NaN  \n",
       "\n",
       "[102599 rows x 26 columns]"
      ]
     },
     "execution_count": 2,
     "metadata": {},
     "output_type": "execute_result"
    }
   ],
   "source": [
    "df = pd.read_csv('airbnb_dataset.csv', low_memory=False)\n",
    "df"
   ]
  },
  {
   "cell_type": "markdown",
   "id": "6da1de06",
   "metadata": {},
   "source": [
    "## Making a copy of the Dataset"
   ]
  },
  {
   "cell_type": "code",
   "execution_count": 3,
   "id": "44ba5150",
   "metadata": {},
   "outputs": [],
   "source": [
    "ds = df.copy()"
   ]
  },
  {
   "cell_type": "markdown",
   "id": "f7cca442",
   "metadata": {},
   "source": [
    "## Exploring the Dataset"
   ]
  },
  {
   "cell_type": "code",
   "execution_count": 4,
   "id": "e9d663ff",
   "metadata": {},
   "outputs": [
    {
     "data": {
      "text/html": [
       "<div>\n",
       "<style scoped>\n",
       "    .dataframe tbody tr th:only-of-type {\n",
       "        vertical-align: middle;\n",
       "    }\n",
       "\n",
       "    .dataframe tbody tr th {\n",
       "        vertical-align: top;\n",
       "    }\n",
       "\n",
       "    .dataframe thead th {\n",
       "        text-align: right;\n",
       "    }\n",
       "</style>\n",
       "<table border=\"1\" class=\"dataframe\">\n",
       "  <thead>\n",
       "    <tr style=\"text-align: right;\">\n",
       "      <th></th>\n",
       "      <th>id</th>\n",
       "      <th>NAME</th>\n",
       "      <th>host id</th>\n",
       "      <th>host_identity_verified</th>\n",
       "      <th>host name</th>\n",
       "      <th>neighbourhood group</th>\n",
       "      <th>neighbourhood</th>\n",
       "      <th>lat</th>\n",
       "      <th>long</th>\n",
       "      <th>country</th>\n",
       "      <th>...</th>\n",
       "      <th>service fee</th>\n",
       "      <th>minimum nights</th>\n",
       "      <th>number of reviews</th>\n",
       "      <th>last review</th>\n",
       "      <th>reviews per month</th>\n",
       "      <th>review rate number</th>\n",
       "      <th>calculated host listings count</th>\n",
       "      <th>availability 365</th>\n",
       "      <th>house_rules</th>\n",
       "      <th>license</th>\n",
       "    </tr>\n",
       "  </thead>\n",
       "  <tbody>\n",
       "    <tr>\n",
       "      <th>0</th>\n",
       "      <td>1001254</td>\n",
       "      <td>Clean &amp; quiet apt home by the park</td>\n",
       "      <td>80014485718</td>\n",
       "      <td>unconfirmed</td>\n",
       "      <td>Madaline</td>\n",
       "      <td>Brooklyn</td>\n",
       "      <td>Kensington</td>\n",
       "      <td>40.64749</td>\n",
       "      <td>-73.97237</td>\n",
       "      <td>United States</td>\n",
       "      <td>...</td>\n",
       "      <td>$193</td>\n",
       "      <td>10.0</td>\n",
       "      <td>9.0</td>\n",
       "      <td>10/19/2021</td>\n",
       "      <td>0.21</td>\n",
       "      <td>4.0</td>\n",
       "      <td>6.0</td>\n",
       "      <td>286.0</td>\n",
       "      <td>Clean up and treat the home the way you'd like...</td>\n",
       "      <td>NaN</td>\n",
       "    </tr>\n",
       "    <tr>\n",
       "      <th>1</th>\n",
       "      <td>1002102</td>\n",
       "      <td>Skylit Midtown Castle</td>\n",
       "      <td>52335172823</td>\n",
       "      <td>verified</td>\n",
       "      <td>Jenna</td>\n",
       "      <td>Manhattan</td>\n",
       "      <td>Midtown</td>\n",
       "      <td>40.75362</td>\n",
       "      <td>-73.98377</td>\n",
       "      <td>United States</td>\n",
       "      <td>...</td>\n",
       "      <td>$28</td>\n",
       "      <td>30.0</td>\n",
       "      <td>45.0</td>\n",
       "      <td>5/21/2022</td>\n",
       "      <td>0.38</td>\n",
       "      <td>4.0</td>\n",
       "      <td>2.0</td>\n",
       "      <td>228.0</td>\n",
       "      <td>Pet friendly but please confirm with me if the...</td>\n",
       "      <td>NaN</td>\n",
       "    </tr>\n",
       "    <tr>\n",
       "      <th>2</th>\n",
       "      <td>1002403</td>\n",
       "      <td>THE VILLAGE OF HARLEM....NEW YORK !</td>\n",
       "      <td>78829239556</td>\n",
       "      <td>NaN</td>\n",
       "      <td>Elise</td>\n",
       "      <td>Manhattan</td>\n",
       "      <td>Harlem</td>\n",
       "      <td>40.80902</td>\n",
       "      <td>-73.94190</td>\n",
       "      <td>United States</td>\n",
       "      <td>...</td>\n",
       "      <td>$124</td>\n",
       "      <td>3.0</td>\n",
       "      <td>0.0</td>\n",
       "      <td>NaN</td>\n",
       "      <td>NaN</td>\n",
       "      <td>5.0</td>\n",
       "      <td>1.0</td>\n",
       "      <td>352.0</td>\n",
       "      <td>I encourage you to use my kitchen, cooking and...</td>\n",
       "      <td>NaN</td>\n",
       "    </tr>\n",
       "    <tr>\n",
       "      <th>3</th>\n",
       "      <td>1002755</td>\n",
       "      <td>NaN</td>\n",
       "      <td>85098326012</td>\n",
       "      <td>unconfirmed</td>\n",
       "      <td>Garry</td>\n",
       "      <td>Brooklyn</td>\n",
       "      <td>Clinton Hill</td>\n",
       "      <td>40.68514</td>\n",
       "      <td>-73.95976</td>\n",
       "      <td>United States</td>\n",
       "      <td>...</td>\n",
       "      <td>$74</td>\n",
       "      <td>30.0</td>\n",
       "      <td>270.0</td>\n",
       "      <td>07/05/2019</td>\n",
       "      <td>4.64</td>\n",
       "      <td>4.0</td>\n",
       "      <td>1.0</td>\n",
       "      <td>322.0</td>\n",
       "      <td>NaN</td>\n",
       "      <td>NaN</td>\n",
       "    </tr>\n",
       "    <tr>\n",
       "      <th>4</th>\n",
       "      <td>1003689</td>\n",
       "      <td>Entire Apt: Spacious Studio/Loft by central park</td>\n",
       "      <td>92037596077</td>\n",
       "      <td>verified</td>\n",
       "      <td>Lyndon</td>\n",
       "      <td>Manhattan</td>\n",
       "      <td>East Harlem</td>\n",
       "      <td>40.79851</td>\n",
       "      <td>-73.94399</td>\n",
       "      <td>United States</td>\n",
       "      <td>...</td>\n",
       "      <td>$41</td>\n",
       "      <td>10.0</td>\n",
       "      <td>9.0</td>\n",
       "      <td>11/19/2018</td>\n",
       "      <td>0.10</td>\n",
       "      <td>3.0</td>\n",
       "      <td>1.0</td>\n",
       "      <td>289.0</td>\n",
       "      <td>Please no smoking in the house, porch or on th...</td>\n",
       "      <td>NaN</td>\n",
       "    </tr>\n",
       "  </tbody>\n",
       "</table>\n",
       "<p>5 rows × 26 columns</p>\n",
       "</div>"
      ],
      "text/plain": [
       "        id                                              NAME      host id  \\\n",
       "0  1001254                Clean & quiet apt home by the park  80014485718   \n",
       "1  1002102                             Skylit Midtown Castle  52335172823   \n",
       "2  1002403               THE VILLAGE OF HARLEM....NEW YORK !  78829239556   \n",
       "3  1002755                                               NaN  85098326012   \n",
       "4  1003689  Entire Apt: Spacious Studio/Loft by central park  92037596077   \n",
       "\n",
       "  host_identity_verified host name neighbourhood group neighbourhood  \\\n",
       "0            unconfirmed  Madaline            Brooklyn    Kensington   \n",
       "1               verified     Jenna           Manhattan       Midtown   \n",
       "2                    NaN     Elise           Manhattan        Harlem   \n",
       "3            unconfirmed     Garry            Brooklyn  Clinton Hill   \n",
       "4               verified    Lyndon           Manhattan   East Harlem   \n",
       "\n",
       "        lat      long        country  ... service fee minimum nights  \\\n",
       "0  40.64749 -73.97237  United States  ...       $193            10.0   \n",
       "1  40.75362 -73.98377  United States  ...        $28            30.0   \n",
       "2  40.80902 -73.94190  United States  ...       $124             3.0   \n",
       "3  40.68514 -73.95976  United States  ...        $74            30.0   \n",
       "4  40.79851 -73.94399  United States  ...        $41            10.0   \n",
       "\n",
       "  number of reviews last review  reviews per month review rate number  \\\n",
       "0               9.0  10/19/2021               0.21                4.0   \n",
       "1              45.0   5/21/2022               0.38                4.0   \n",
       "2               0.0         NaN                NaN                5.0   \n",
       "3             270.0  07/05/2019               4.64                4.0   \n",
       "4               9.0  11/19/2018               0.10                3.0   \n",
       "\n",
       "  calculated host listings count  availability 365  \\\n",
       "0                            6.0             286.0   \n",
       "1                            2.0             228.0   \n",
       "2                            1.0             352.0   \n",
       "3                            1.0             322.0   \n",
       "4                            1.0             289.0   \n",
       "\n",
       "                                         house_rules license  \n",
       "0  Clean up and treat the home the way you'd like...     NaN  \n",
       "1  Pet friendly but please confirm with me if the...     NaN  \n",
       "2  I encourage you to use my kitchen, cooking and...     NaN  \n",
       "3                                                NaN     NaN  \n",
       "4  Please no smoking in the house, porch or on th...     NaN  \n",
       "\n",
       "[5 rows x 26 columns]"
      ]
     },
     "execution_count": 4,
     "metadata": {},
     "output_type": "execute_result"
    }
   ],
   "source": [
    "# Displaying the first 5 rows of the dataset\n",
    "ds.head()"
   ]
  },
  {
   "cell_type": "code",
   "execution_count": 5,
   "id": "06b2b9ac",
   "metadata": {},
   "outputs": [
    {
     "data": {
      "text/plain": [
       "(102599, 26)"
      ]
     },
     "execution_count": 5,
     "metadata": {},
     "output_type": "execute_result"
    }
   ],
   "source": [
    "# Checking for the total number of rows and columns in Dataset\n",
    "ds.shape"
   ]
  },
  {
   "cell_type": "code",
   "execution_count": 6,
   "id": "934cbd29",
   "metadata": {
    "scrolled": false
   },
   "outputs": [
    {
     "data": {
      "text/html": [
       "<div>\n",
       "<style scoped>\n",
       "    .dataframe tbody tr th:only-of-type {\n",
       "        vertical-align: middle;\n",
       "    }\n",
       "\n",
       "    .dataframe tbody tr th {\n",
       "        vertical-align: top;\n",
       "    }\n",
       "\n",
       "    .dataframe thead th {\n",
       "        text-align: right;\n",
       "    }\n",
       "</style>\n",
       "<table border=\"1\" class=\"dataframe\">\n",
       "  <thead>\n",
       "    <tr style=\"text-align: right;\">\n",
       "      <th></th>\n",
       "      <th>id</th>\n",
       "      <th>host id</th>\n",
       "      <th>lat</th>\n",
       "      <th>long</th>\n",
       "      <th>Construction year</th>\n",
       "      <th>minimum nights</th>\n",
       "      <th>number of reviews</th>\n",
       "      <th>reviews per month</th>\n",
       "      <th>review rate number</th>\n",
       "      <th>calculated host listings count</th>\n",
       "      <th>availability 365</th>\n",
       "    </tr>\n",
       "  </thead>\n",
       "  <tbody>\n",
       "    <tr>\n",
       "      <th>count</th>\n",
       "      <td>1.025990e+05</td>\n",
       "      <td>1.025990e+05</td>\n",
       "      <td>102591.000000</td>\n",
       "      <td>102591.000000</td>\n",
       "      <td>102385.000000</td>\n",
       "      <td>102190.000000</td>\n",
       "      <td>102416.000000</td>\n",
       "      <td>86720.000000</td>\n",
       "      <td>102273.000000</td>\n",
       "      <td>102280.000000</td>\n",
       "      <td>102151.000000</td>\n",
       "    </tr>\n",
       "    <tr>\n",
       "      <th>mean</th>\n",
       "      <td>2.914623e+07</td>\n",
       "      <td>4.925411e+10</td>\n",
       "      <td>40.728094</td>\n",
       "      <td>-73.949644</td>\n",
       "      <td>2012.487464</td>\n",
       "      <td>8.135845</td>\n",
       "      <td>27.483743</td>\n",
       "      <td>1.374022</td>\n",
       "      <td>3.279106</td>\n",
       "      <td>7.936605</td>\n",
       "      <td>141.133254</td>\n",
       "    </tr>\n",
       "    <tr>\n",
       "      <th>std</th>\n",
       "      <td>1.625751e+07</td>\n",
       "      <td>2.853900e+10</td>\n",
       "      <td>0.055857</td>\n",
       "      <td>0.049521</td>\n",
       "      <td>5.765556</td>\n",
       "      <td>30.553781</td>\n",
       "      <td>49.508954</td>\n",
       "      <td>1.746621</td>\n",
       "      <td>1.284657</td>\n",
       "      <td>32.218780</td>\n",
       "      <td>135.435024</td>\n",
       "    </tr>\n",
       "    <tr>\n",
       "      <th>min</th>\n",
       "      <td>1.001254e+06</td>\n",
       "      <td>1.236005e+08</td>\n",
       "      <td>40.499790</td>\n",
       "      <td>-74.249840</td>\n",
       "      <td>2003.000000</td>\n",
       "      <td>-1223.000000</td>\n",
       "      <td>0.000000</td>\n",
       "      <td>0.010000</td>\n",
       "      <td>1.000000</td>\n",
       "      <td>1.000000</td>\n",
       "      <td>-10.000000</td>\n",
       "    </tr>\n",
       "    <tr>\n",
       "      <th>25%</th>\n",
       "      <td>1.508581e+07</td>\n",
       "      <td>2.458333e+10</td>\n",
       "      <td>40.688740</td>\n",
       "      <td>-73.982580</td>\n",
       "      <td>2007.000000</td>\n",
       "      <td>2.000000</td>\n",
       "      <td>1.000000</td>\n",
       "      <td>0.220000</td>\n",
       "      <td>2.000000</td>\n",
       "      <td>1.000000</td>\n",
       "      <td>3.000000</td>\n",
       "    </tr>\n",
       "    <tr>\n",
       "      <th>50%</th>\n",
       "      <td>2.913660e+07</td>\n",
       "      <td>4.911774e+10</td>\n",
       "      <td>40.722290</td>\n",
       "      <td>-73.954440</td>\n",
       "      <td>2012.000000</td>\n",
       "      <td>3.000000</td>\n",
       "      <td>7.000000</td>\n",
       "      <td>0.740000</td>\n",
       "      <td>3.000000</td>\n",
       "      <td>1.000000</td>\n",
       "      <td>96.000000</td>\n",
       "    </tr>\n",
       "    <tr>\n",
       "      <th>75%</th>\n",
       "      <td>4.320120e+07</td>\n",
       "      <td>7.399650e+10</td>\n",
       "      <td>40.762760</td>\n",
       "      <td>-73.932350</td>\n",
       "      <td>2017.000000</td>\n",
       "      <td>5.000000</td>\n",
       "      <td>30.000000</td>\n",
       "      <td>2.000000</td>\n",
       "      <td>4.000000</td>\n",
       "      <td>2.000000</td>\n",
       "      <td>269.000000</td>\n",
       "    </tr>\n",
       "    <tr>\n",
       "      <th>max</th>\n",
       "      <td>5.736742e+07</td>\n",
       "      <td>9.876313e+10</td>\n",
       "      <td>40.916970</td>\n",
       "      <td>-73.705220</td>\n",
       "      <td>2022.000000</td>\n",
       "      <td>5645.000000</td>\n",
       "      <td>1024.000000</td>\n",
       "      <td>90.000000</td>\n",
       "      <td>5.000000</td>\n",
       "      <td>332.000000</td>\n",
       "      <td>3677.000000</td>\n",
       "    </tr>\n",
       "  </tbody>\n",
       "</table>\n",
       "</div>"
      ],
      "text/plain": [
       "                 id       host id            lat           long  \\\n",
       "count  1.025990e+05  1.025990e+05  102591.000000  102591.000000   \n",
       "mean   2.914623e+07  4.925411e+10      40.728094     -73.949644   \n",
       "std    1.625751e+07  2.853900e+10       0.055857       0.049521   \n",
       "min    1.001254e+06  1.236005e+08      40.499790     -74.249840   \n",
       "25%    1.508581e+07  2.458333e+10      40.688740     -73.982580   \n",
       "50%    2.913660e+07  4.911774e+10      40.722290     -73.954440   \n",
       "75%    4.320120e+07  7.399650e+10      40.762760     -73.932350   \n",
       "max    5.736742e+07  9.876313e+10      40.916970     -73.705220   \n",
       "\n",
       "       Construction year  minimum nights  number of reviews  \\\n",
       "count      102385.000000   102190.000000      102416.000000   \n",
       "mean         2012.487464        8.135845          27.483743   \n",
       "std             5.765556       30.553781          49.508954   \n",
       "min          2003.000000    -1223.000000           0.000000   \n",
       "25%          2007.000000        2.000000           1.000000   \n",
       "50%          2012.000000        3.000000           7.000000   \n",
       "75%          2017.000000        5.000000          30.000000   \n",
       "max          2022.000000     5645.000000        1024.000000   \n",
       "\n",
       "       reviews per month  review rate number  calculated host listings count  \\\n",
       "count       86720.000000       102273.000000                   102280.000000   \n",
       "mean            1.374022            3.279106                        7.936605   \n",
       "std             1.746621            1.284657                       32.218780   \n",
       "min             0.010000            1.000000                        1.000000   \n",
       "25%             0.220000            2.000000                        1.000000   \n",
       "50%             0.740000            3.000000                        1.000000   \n",
       "75%             2.000000            4.000000                        2.000000   \n",
       "max            90.000000            5.000000                      332.000000   \n",
       "\n",
       "       availability 365  \n",
       "count     102151.000000  \n",
       "mean         141.133254  \n",
       "std          135.435024  \n",
       "min          -10.000000  \n",
       "25%            3.000000  \n",
       "50%           96.000000  \n",
       "75%          269.000000  \n",
       "max         3677.000000  "
      ]
     },
     "execution_count": 6,
     "metadata": {},
     "output_type": "execute_result"
    }
   ],
   "source": [
    "# Showing the statistics of all the numerical columns in the dataset\n",
    "ds.describe()"
   ]
  },
  {
   "cell_type": "code",
   "execution_count": 7,
   "id": "736239e6",
   "metadata": {},
   "outputs": [
    {
     "data": {
      "text/plain": [
       "id                                  int64\n",
       "NAME                               object\n",
       "host id                             int64\n",
       "host_identity_verified             object\n",
       "host name                          object\n",
       "neighbourhood group                object\n",
       "neighbourhood                      object\n",
       "lat                               float64\n",
       "long                              float64\n",
       "country                            object\n",
       "country code                       object\n",
       "instant_bookable                   object\n",
       "cancellation_policy                object\n",
       "room type                          object\n",
       "Construction year                 float64\n",
       "price                              object\n",
       "service fee                        object\n",
       "minimum nights                    float64\n",
       "number of reviews                 float64\n",
       "last review                        object\n",
       "reviews per month                 float64\n",
       "review rate number                float64\n",
       "calculated host listings count    float64\n",
       "availability 365                  float64\n",
       "house_rules                        object\n",
       "license                            object\n",
       "dtype: object"
      ]
     },
     "execution_count": 7,
     "metadata": {},
     "output_type": "execute_result"
    }
   ],
   "source": [
    "# Checking the data types of all columns in the dataset\n",
    "ds.dtypes"
   ]
  },
  {
   "cell_type": "code",
   "execution_count": 8,
   "id": "24a02ad4",
   "metadata": {
    "scrolled": true
   },
   "outputs": [
    {
     "data": {
      "text/plain": [
       "id                                102058\n",
       "host id                           102057\n",
       "NAME                               61281\n",
       "lat                                21991\n",
       "long                               17774\n",
       "host name                          13190\n",
       "last review                         2477\n",
       "house_rules                         1976\n",
       "price                               1151\n",
       "reviews per month                   1016\n",
       "number of reviews                    476\n",
       "availability 365                     438\n",
       "service fee                          231\n",
       "neighbourhood                        224\n",
       "minimum nights                       153\n",
       "calculated host listings count        78\n",
       "Construction year                     20\n",
       "neighbourhood group                    7\n",
       "review rate number                     5\n",
       "room type                              4\n",
       "cancellation_policy                    3\n",
       "instant_bookable                       2\n",
       "host_identity_verified                 2\n",
       "country code                           1\n",
       "country                                1\n",
       "license                                1\n",
       "dtype: int64"
      ]
     },
     "execution_count": 8,
     "metadata": {},
     "output_type": "execute_result"
    }
   ],
   "source": [
    "# Checking for the total number of unique values of all columns\n",
    "ds.nunique().sort_values(ascending=False)"
   ]
  },
  {
   "cell_type": "code",
   "execution_count": 9,
   "id": "ab49f343",
   "metadata": {},
   "outputs": [
    {
     "data": {
      "text/plain": [
       "541"
      ]
     },
     "execution_count": 9,
     "metadata": {},
     "output_type": "execute_result"
    }
   ],
   "source": [
    "# Checking for the total number of duplicates in the dataset\n",
    "ds.duplicated().sum()"
   ]
  },
  {
   "cell_type": "code",
   "execution_count": 10,
   "id": "53f71781",
   "metadata": {
    "scrolled": true
   },
   "outputs": [
    {
     "name": "stdout",
     "output_type": "stream",
     "text": [
      "<class 'pandas.core.frame.DataFrame'>\n",
      "RangeIndex: 102599 entries, 0 to 102598\n",
      "Data columns (total 26 columns):\n",
      " #   Column                          Non-Null Count   Dtype  \n",
      "---  ------                          --------------   -----  \n",
      " 0   id                              102599 non-null  int64  \n",
      " 1   NAME                            102349 non-null  object \n",
      " 2   host id                         102599 non-null  int64  \n",
      " 3   host_identity_verified          102310 non-null  object \n",
      " 4   host name                       102193 non-null  object \n",
      " 5   neighbourhood group             102570 non-null  object \n",
      " 6   neighbourhood                   102583 non-null  object \n",
      " 7   lat                             102591 non-null  float64\n",
      " 8   long                            102591 non-null  float64\n",
      " 9   country                         102067 non-null  object \n",
      " 10  country code                    102468 non-null  object \n",
      " 11  instant_bookable                102494 non-null  object \n",
      " 12  cancellation_policy             102523 non-null  object \n",
      " 13  room type                       102599 non-null  object \n",
      " 14  Construction year               102385 non-null  float64\n",
      " 15  price                           102352 non-null  object \n",
      " 16  service fee                     102326 non-null  object \n",
      " 17  minimum nights                  102190 non-null  float64\n",
      " 18  number of reviews               102416 non-null  float64\n",
      " 19  last review                     86706 non-null   object \n",
      " 20  reviews per month               86720 non-null   float64\n",
      " 21  review rate number              102273 non-null  float64\n",
      " 22  calculated host listings count  102280 non-null  float64\n",
      " 23  availability 365                102151 non-null  float64\n",
      " 24  house_rules                     50468 non-null   object \n",
      " 25  license                         2 non-null       object \n",
      "dtypes: float64(9), int64(2), object(15)\n",
      "memory usage: 20.4+ MB\n"
     ]
    }
   ],
   "source": [
    "# Displaying the summary of the dataset\n",
    "ds.info()"
   ]
  },
  {
   "cell_type": "code",
   "execution_count": 11,
   "id": "9bc6b1df",
   "metadata": {},
   "outputs": [
    {
     "data": {
      "text/plain": [
       "license                           102597\n",
       "house_rules                        52131\n",
       "last review                        15893\n",
       "reviews per month                  15879\n",
       "country                              532\n",
       "availability 365                     448\n",
       "minimum nights                       409\n",
       "host name                            406\n",
       "review rate number                   326\n",
       "calculated host listings count       319\n",
       "host_identity_verified               289\n",
       "service fee                          273\n",
       "NAME                                 250\n",
       "price                                247\n",
       "Construction year                    214\n",
       "number of reviews                    183\n",
       "country code                         131\n",
       "instant_bookable                     105\n",
       "cancellation_policy                   76\n",
       "neighbourhood group                   29\n",
       "neighbourhood                         16\n",
       "long                                   8\n",
       "lat                                    8\n",
       "id                                     0\n",
       "host id                                0\n",
       "room type                              0\n",
       "dtype: int64"
      ]
     },
     "execution_count": 11,
     "metadata": {},
     "output_type": "execute_result"
    }
   ],
   "source": [
    "# Checking for the total number of null values in the dataset\n",
    "ds.isna().sum().sort_values(ascending=False)"
   ]
  },
  {
   "cell_type": "code",
   "execution_count": 12,
   "id": "f6a1b3ae",
   "metadata": {},
   "outputs": [
    {
     "data": {
      "text/html": [
       "<div>\n",
       "<style scoped>\n",
       "    .dataframe tbody tr th:only-of-type {\n",
       "        vertical-align: middle;\n",
       "    }\n",
       "\n",
       "    .dataframe tbody tr th {\n",
       "        vertical-align: top;\n",
       "    }\n",
       "\n",
       "    .dataframe thead th {\n",
       "        text-align: right;\n",
       "    }\n",
       "</style>\n",
       "<table border=\"1\" class=\"dataframe\">\n",
       "  <thead>\n",
       "    <tr style=\"text-align: right;\">\n",
       "      <th></th>\n",
       "      <th>columns</th>\n",
       "      <th>%</th>\n",
       "    </tr>\n",
       "  </thead>\n",
       "  <tbody>\n",
       "    <tr>\n",
       "      <th>0</th>\n",
       "      <td>id</td>\n",
       "      <td>0.000000</td>\n",
       "    </tr>\n",
       "    <tr>\n",
       "      <th>1</th>\n",
       "      <td>NAME</td>\n",
       "      <td>0.243667</td>\n",
       "    </tr>\n",
       "    <tr>\n",
       "      <th>2</th>\n",
       "      <td>host id</td>\n",
       "      <td>0.000000</td>\n",
       "    </tr>\n",
       "    <tr>\n",
       "      <th>3</th>\n",
       "      <td>host_identity_verified</td>\n",
       "      <td>0.281679</td>\n",
       "    </tr>\n",
       "    <tr>\n",
       "      <th>4</th>\n",
       "      <td>host name</td>\n",
       "      <td>0.395715</td>\n",
       "    </tr>\n",
       "    <tr>\n",
       "      <th>5</th>\n",
       "      <td>neighbourhood group</td>\n",
       "      <td>0.028265</td>\n",
       "    </tr>\n",
       "    <tr>\n",
       "      <th>6</th>\n",
       "      <td>neighbourhood</td>\n",
       "      <td>0.015595</td>\n",
       "    </tr>\n",
       "    <tr>\n",
       "      <th>7</th>\n",
       "      <td>lat</td>\n",
       "      <td>0.007797</td>\n",
       "    </tr>\n",
       "    <tr>\n",
       "      <th>8</th>\n",
       "      <td>long</td>\n",
       "      <td>0.007797</td>\n",
       "    </tr>\n",
       "    <tr>\n",
       "      <th>9</th>\n",
       "      <td>country</td>\n",
       "      <td>0.518524</td>\n",
       "    </tr>\n",
       "    <tr>\n",
       "      <th>10</th>\n",
       "      <td>country code</td>\n",
       "      <td>0.127682</td>\n",
       "    </tr>\n",
       "    <tr>\n",
       "      <th>11</th>\n",
       "      <td>instant_bookable</td>\n",
       "      <td>0.102340</td>\n",
       "    </tr>\n",
       "    <tr>\n",
       "      <th>12</th>\n",
       "      <td>cancellation_policy</td>\n",
       "      <td>0.074075</td>\n",
       "    </tr>\n",
       "    <tr>\n",
       "      <th>13</th>\n",
       "      <td>room type</td>\n",
       "      <td>0.000000</td>\n",
       "    </tr>\n",
       "    <tr>\n",
       "      <th>14</th>\n",
       "      <td>Construction year</td>\n",
       "      <td>0.208579</td>\n",
       "    </tr>\n",
       "    <tr>\n",
       "      <th>15</th>\n",
       "      <td>price</td>\n",
       "      <td>0.240743</td>\n",
       "    </tr>\n",
       "    <tr>\n",
       "      <th>16</th>\n",
       "      <td>service fee</td>\n",
       "      <td>0.266084</td>\n",
       "    </tr>\n",
       "    <tr>\n",
       "      <th>17</th>\n",
       "      <td>minimum nights</td>\n",
       "      <td>0.398639</td>\n",
       "    </tr>\n",
       "    <tr>\n",
       "      <th>18</th>\n",
       "      <td>number of reviews</td>\n",
       "      <td>0.178364</td>\n",
       "    </tr>\n",
       "    <tr>\n",
       "      <th>19</th>\n",
       "      <td>last review</td>\n",
       "      <td>15.490404</td>\n",
       "    </tr>\n",
       "    <tr>\n",
       "      <th>20</th>\n",
       "      <td>reviews per month</td>\n",
       "      <td>15.476759</td>\n",
       "    </tr>\n",
       "    <tr>\n",
       "      <th>21</th>\n",
       "      <td>review rate number</td>\n",
       "      <td>0.317742</td>\n",
       "    </tr>\n",
       "    <tr>\n",
       "      <th>22</th>\n",
       "      <td>calculated host listings count</td>\n",
       "      <td>0.310919</td>\n",
       "    </tr>\n",
       "    <tr>\n",
       "      <th>23</th>\n",
       "      <td>availability 365</td>\n",
       "      <td>0.436651</td>\n",
       "    </tr>\n",
       "    <tr>\n",
       "      <th>24</th>\n",
       "      <td>house_rules</td>\n",
       "      <td>50.810437</td>\n",
       "    </tr>\n",
       "    <tr>\n",
       "      <th>25</th>\n",
       "      <td>license</td>\n",
       "      <td>99.998051</td>\n",
       "    </tr>\n",
       "  </tbody>\n",
       "</table>\n",
       "</div>"
      ],
      "text/plain": [
       "                           columns          %\n",
       "0                               id   0.000000\n",
       "1                             NAME   0.243667\n",
       "2                          host id   0.000000\n",
       "3           host_identity_verified   0.281679\n",
       "4                        host name   0.395715\n",
       "5              neighbourhood group   0.028265\n",
       "6                    neighbourhood   0.015595\n",
       "7                              lat   0.007797\n",
       "8                             long   0.007797\n",
       "9                          country   0.518524\n",
       "10                    country code   0.127682\n",
       "11                instant_bookable   0.102340\n",
       "12             cancellation_policy   0.074075\n",
       "13                       room type   0.000000\n",
       "14               Construction year   0.208579\n",
       "15                           price   0.240743\n",
       "16                     service fee   0.266084\n",
       "17                  minimum nights   0.398639\n",
       "18               number of reviews   0.178364\n",
       "19                     last review  15.490404\n",
       "20               reviews per month  15.476759\n",
       "21              review rate number   0.317742\n",
       "22  calculated host listings count   0.310919\n",
       "23                availability 365   0.436651\n",
       "24                     house_rules  50.810437\n",
       "25                         license  99.998051"
      ]
     },
     "execution_count": 12,
     "metadata": {},
     "output_type": "execute_result"
    }
   ],
   "source": [
    "# Checking for the percentage of missing values in the dataset\n",
    "# calculate the % missing values\n",
    "percentage_result = ds.isnull().sum()/ds.shape[0] * 100\n",
    "# create a DataFrame to show case the result\n",
    "percentage_result = pd.DataFrame({\"columns\": percentage_result.keys(), \"%\": percentage_result})\n",
    "percentage_result.reset_index(drop=True, inplace=True)\n",
    "percentage_result"
   ]
  },
  {
   "cell_type": "markdown",
   "id": "98cd7372",
   "metadata": {},
   "source": [
    "## Cleaning the dataset"
   ]
  },
  {
   "cell_type": "code",
   "execution_count": 13,
   "id": "9e4a8b4e",
   "metadata": {
    "scrolled": false
   },
   "outputs": [
    {
     "data": {
      "text/plain": [
       "Index(['id', 'NAME', 'host id', 'host_identity_verified', 'host name',\n",
       "       'neighbourhood group', 'neighbourhood', 'lat', 'long', 'country',\n",
       "       'country code', 'instant_bookable', 'cancellation_policy', 'room type',\n",
       "       'Construction year', 'price', 'service fee', 'minimum nights',\n",
       "       'number of reviews', 'last review', 'reviews per month',\n",
       "       'review rate number', 'calculated host listings count',\n",
       "       'availability 365', 'house_rules', 'license'],\n",
       "      dtype='object')"
      ]
     },
     "execution_count": 13,
     "metadata": {},
     "output_type": "execute_result"
    }
   ],
   "source": [
    "# Displaying all columns in the dataset\n",
    "ds.columns"
   ]
  },
  {
   "cell_type": "code",
   "execution_count": 14,
   "id": "232e6a7e",
   "metadata": {
    "scrolled": true
   },
   "outputs": [
    {
     "data": {
      "text/html": [
       "<div>\n",
       "<style scoped>\n",
       "    .dataframe tbody tr th:only-of-type {\n",
       "        vertical-align: middle;\n",
       "    }\n",
       "\n",
       "    .dataframe tbody tr th {\n",
       "        vertical-align: top;\n",
       "    }\n",
       "\n",
       "    .dataframe thead th {\n",
       "        text-align: right;\n",
       "    }\n",
       "</style>\n",
       "<table border=\"1\" class=\"dataframe\">\n",
       "  <thead>\n",
       "    <tr style=\"text-align: right;\">\n",
       "      <th></th>\n",
       "      <th>id</th>\n",
       "      <th>name</th>\n",
       "      <th>host_id</th>\n",
       "      <th>host_identity_verified</th>\n",
       "      <th>host_name</th>\n",
       "      <th>neighbourhood_group</th>\n",
       "      <th>neighbourhood</th>\n",
       "      <th>lat</th>\n",
       "      <th>long</th>\n",
       "      <th>country</th>\n",
       "      <th>...</th>\n",
       "      <th>service_fee</th>\n",
       "      <th>minimum_nights</th>\n",
       "      <th>number_of_reviews</th>\n",
       "      <th>last_review</th>\n",
       "      <th>reviews_per_month</th>\n",
       "      <th>review_rate_number</th>\n",
       "      <th>calculated_host_listings_count</th>\n",
       "      <th>availability_365</th>\n",
       "      <th>house_rules</th>\n",
       "      <th>license</th>\n",
       "    </tr>\n",
       "  </thead>\n",
       "  <tbody>\n",
       "    <tr>\n",
       "      <th>0</th>\n",
       "      <td>1001254</td>\n",
       "      <td>Clean &amp; quiet apt home by the park</td>\n",
       "      <td>80014485718</td>\n",
       "      <td>unconfirmed</td>\n",
       "      <td>Madaline</td>\n",
       "      <td>Brooklyn</td>\n",
       "      <td>Kensington</td>\n",
       "      <td>40.64749</td>\n",
       "      <td>-73.97237</td>\n",
       "      <td>United States</td>\n",
       "      <td>...</td>\n",
       "      <td>$193</td>\n",
       "      <td>10.0</td>\n",
       "      <td>9.0</td>\n",
       "      <td>10/19/2021</td>\n",
       "      <td>0.21</td>\n",
       "      <td>4.0</td>\n",
       "      <td>6.0</td>\n",
       "      <td>286.0</td>\n",
       "      <td>Clean up and treat the home the way you'd like...</td>\n",
       "      <td>NaN</td>\n",
       "    </tr>\n",
       "    <tr>\n",
       "      <th>1</th>\n",
       "      <td>1002102</td>\n",
       "      <td>Skylit Midtown Castle</td>\n",
       "      <td>52335172823</td>\n",
       "      <td>verified</td>\n",
       "      <td>Jenna</td>\n",
       "      <td>Manhattan</td>\n",
       "      <td>Midtown</td>\n",
       "      <td>40.75362</td>\n",
       "      <td>-73.98377</td>\n",
       "      <td>United States</td>\n",
       "      <td>...</td>\n",
       "      <td>$28</td>\n",
       "      <td>30.0</td>\n",
       "      <td>45.0</td>\n",
       "      <td>5/21/2022</td>\n",
       "      <td>0.38</td>\n",
       "      <td>4.0</td>\n",
       "      <td>2.0</td>\n",
       "      <td>228.0</td>\n",
       "      <td>Pet friendly but please confirm with me if the...</td>\n",
       "      <td>NaN</td>\n",
       "    </tr>\n",
       "    <tr>\n",
       "      <th>2</th>\n",
       "      <td>1002403</td>\n",
       "      <td>THE VILLAGE OF HARLEM....NEW YORK !</td>\n",
       "      <td>78829239556</td>\n",
       "      <td>NaN</td>\n",
       "      <td>Elise</td>\n",
       "      <td>Manhattan</td>\n",
       "      <td>Harlem</td>\n",
       "      <td>40.80902</td>\n",
       "      <td>-73.94190</td>\n",
       "      <td>United States</td>\n",
       "      <td>...</td>\n",
       "      <td>$124</td>\n",
       "      <td>3.0</td>\n",
       "      <td>0.0</td>\n",
       "      <td>NaN</td>\n",
       "      <td>NaN</td>\n",
       "      <td>5.0</td>\n",
       "      <td>1.0</td>\n",
       "      <td>352.0</td>\n",
       "      <td>I encourage you to use my kitchen, cooking and...</td>\n",
       "      <td>NaN</td>\n",
       "    </tr>\n",
       "    <tr>\n",
       "      <th>3</th>\n",
       "      <td>1002755</td>\n",
       "      <td>NaN</td>\n",
       "      <td>85098326012</td>\n",
       "      <td>unconfirmed</td>\n",
       "      <td>Garry</td>\n",
       "      <td>Brooklyn</td>\n",
       "      <td>Clinton Hill</td>\n",
       "      <td>40.68514</td>\n",
       "      <td>-73.95976</td>\n",
       "      <td>United States</td>\n",
       "      <td>...</td>\n",
       "      <td>$74</td>\n",
       "      <td>30.0</td>\n",
       "      <td>270.0</td>\n",
       "      <td>07/05/2019</td>\n",
       "      <td>4.64</td>\n",
       "      <td>4.0</td>\n",
       "      <td>1.0</td>\n",
       "      <td>322.0</td>\n",
       "      <td>NaN</td>\n",
       "      <td>NaN</td>\n",
       "    </tr>\n",
       "    <tr>\n",
       "      <th>4</th>\n",
       "      <td>1003689</td>\n",
       "      <td>Entire Apt: Spacious Studio/Loft by central park</td>\n",
       "      <td>92037596077</td>\n",
       "      <td>verified</td>\n",
       "      <td>Lyndon</td>\n",
       "      <td>Manhattan</td>\n",
       "      <td>East Harlem</td>\n",
       "      <td>40.79851</td>\n",
       "      <td>-73.94399</td>\n",
       "      <td>United States</td>\n",
       "      <td>...</td>\n",
       "      <td>$41</td>\n",
       "      <td>10.0</td>\n",
       "      <td>9.0</td>\n",
       "      <td>11/19/2018</td>\n",
       "      <td>0.10</td>\n",
       "      <td>3.0</td>\n",
       "      <td>1.0</td>\n",
       "      <td>289.0</td>\n",
       "      <td>Please no smoking in the house, porch or on th...</td>\n",
       "      <td>NaN</td>\n",
       "    </tr>\n",
       "  </tbody>\n",
       "</table>\n",
       "<p>5 rows × 26 columns</p>\n",
       "</div>"
      ],
      "text/plain": [
       "        id                                              name      host_id  \\\n",
       "0  1001254                Clean & quiet apt home by the park  80014485718   \n",
       "1  1002102                             Skylit Midtown Castle  52335172823   \n",
       "2  1002403               THE VILLAGE OF HARLEM....NEW YORK !  78829239556   \n",
       "3  1002755                                               NaN  85098326012   \n",
       "4  1003689  Entire Apt: Spacious Studio/Loft by central park  92037596077   \n",
       "\n",
       "  host_identity_verified host_name neighbourhood_group neighbourhood  \\\n",
       "0            unconfirmed  Madaline            Brooklyn    Kensington   \n",
       "1               verified     Jenna           Manhattan       Midtown   \n",
       "2                    NaN     Elise           Manhattan        Harlem   \n",
       "3            unconfirmed     Garry            Brooklyn  Clinton Hill   \n",
       "4               verified    Lyndon           Manhattan   East Harlem   \n",
       "\n",
       "        lat      long        country  ... service_fee minimum_nights  \\\n",
       "0  40.64749 -73.97237  United States  ...       $193            10.0   \n",
       "1  40.75362 -73.98377  United States  ...        $28            30.0   \n",
       "2  40.80902 -73.94190  United States  ...       $124             3.0   \n",
       "3  40.68514 -73.95976  United States  ...        $74            30.0   \n",
       "4  40.79851 -73.94399  United States  ...        $41            10.0   \n",
       "\n",
       "  number_of_reviews last_review  reviews_per_month review_rate_number  \\\n",
       "0               9.0  10/19/2021               0.21                4.0   \n",
       "1              45.0   5/21/2022               0.38                4.0   \n",
       "2               0.0         NaN                NaN                5.0   \n",
       "3             270.0  07/05/2019               4.64                4.0   \n",
       "4               9.0  11/19/2018               0.10                3.0   \n",
       "\n",
       "  calculated_host_listings_count  availability_365  \\\n",
       "0                            6.0             286.0   \n",
       "1                            2.0             228.0   \n",
       "2                            1.0             352.0   \n",
       "3                            1.0             322.0   \n",
       "4                            1.0             289.0   \n",
       "\n",
       "                                         house_rules license  \n",
       "0  Clean up and treat the home the way you'd like...     NaN  \n",
       "1  Pet friendly but please confirm with me if the...     NaN  \n",
       "2  I encourage you to use my kitchen, cooking and...     NaN  \n",
       "3                                                NaN     NaN  \n",
       "4  Please no smoking in the house, porch or on th...     NaN  \n",
       "\n",
       "[5 rows x 26 columns]"
      ]
     },
     "execution_count": 14,
     "metadata": {},
     "output_type": "execute_result"
    }
   ],
   "source": [
    "# Renaming the columns and replacing the white spaces to improve consistency\n",
    "ds.columns = ds.columns.str.replace(' ', '_').str.lower()\n",
    "ds.head()"
   ]
  },
  {
   "cell_type": "markdown",
   "id": "a5e3f2de",
   "metadata": {},
   "source": [
    "### Since id, host_id and room_type columns have no null values, we will just leave them."
   ]
  },
  {
   "cell_type": "code",
   "execution_count": 15,
   "id": "0a205b9c",
   "metadata": {
    "scrolled": true
   },
   "outputs": [
    {
     "data": {
      "text/html": [
       "<div>\n",
       "<style scoped>\n",
       "    .dataframe tbody tr th:only-of-type {\n",
       "        vertical-align: middle;\n",
       "    }\n",
       "\n",
       "    .dataframe tbody tr th {\n",
       "        vertical-align: top;\n",
       "    }\n",
       "\n",
       "    .dataframe thead th {\n",
       "        text-align: right;\n",
       "    }\n",
       "</style>\n",
       "<table border=\"1\" class=\"dataframe\">\n",
       "  <thead>\n",
       "    <tr style=\"text-align: right;\">\n",
       "      <th></th>\n",
       "      <th>id</th>\n",
       "      <th>NAME</th>\n",
       "      <th>host id</th>\n",
       "      <th>host_identity_verified</th>\n",
       "      <th>host name</th>\n",
       "      <th>neighbourhood group</th>\n",
       "      <th>neighbourhood</th>\n",
       "      <th>lat</th>\n",
       "      <th>long</th>\n",
       "      <th>country</th>\n",
       "      <th>...</th>\n",
       "      <th>service fee</th>\n",
       "      <th>minimum nights</th>\n",
       "      <th>number of reviews</th>\n",
       "      <th>last review</th>\n",
       "      <th>reviews per month</th>\n",
       "      <th>review rate number</th>\n",
       "      <th>calculated host listings count</th>\n",
       "      <th>availability 365</th>\n",
       "      <th>house_rules</th>\n",
       "      <th>license</th>\n",
       "    </tr>\n",
       "  </thead>\n",
       "  <tbody>\n",
       "    <tr>\n",
       "      <th>11114</th>\n",
       "      <td>7139598</td>\n",
       "      <td>Cozy 1 BR on Bedford Avenue, Wburg</td>\n",
       "      <td>73023181304</td>\n",
       "      <td>verified</td>\n",
       "      <td>Christina</td>\n",
       "      <td>Brooklyn</td>\n",
       "      <td>Williamsburg</td>\n",
       "      <td>40.71764</td>\n",
       "      <td>-73.95689</td>\n",
       "      <td>United States</td>\n",
       "      <td>...</td>\n",
       "      <td>$140</td>\n",
       "      <td>1.0</td>\n",
       "      <td>1.0</td>\n",
       "      <td>01/03/2016</td>\n",
       "      <td>0.02</td>\n",
       "      <td>1.0</td>\n",
       "      <td>1.0</td>\n",
       "      <td>191.0</td>\n",
       "      <td>Dear Guest, Thank you for appreciating that I ...</td>\n",
       "      <td>41662/AL</td>\n",
       "    </tr>\n",
       "    <tr>\n",
       "      <th>72947</th>\n",
       "      <td>41289964</td>\n",
       "      <td>Cozy 1 BR on Bedford Avenue, Wburg</td>\n",
       "      <td>25804773951</td>\n",
       "      <td>unconfirmed</td>\n",
       "      <td>Christina</td>\n",
       "      <td>Brooklyn</td>\n",
       "      <td>Williamsburg</td>\n",
       "      <td>40.71764</td>\n",
       "      <td>-73.95689</td>\n",
       "      <td>United States</td>\n",
       "      <td>...</td>\n",
       "      <td>$140</td>\n",
       "      <td>1.0</td>\n",
       "      <td>1.0</td>\n",
       "      <td>01/03/2016</td>\n",
       "      <td>0.02</td>\n",
       "      <td>1.0</td>\n",
       "      <td>1.0</td>\n",
       "      <td>0.0</td>\n",
       "      <td>NaN</td>\n",
       "      <td>41662/AL</td>\n",
       "    </tr>\n",
       "  </tbody>\n",
       "</table>\n",
       "<p>2 rows × 26 columns</p>\n",
       "</div>"
      ],
      "text/plain": [
       "             id                                NAME      host id  \\\n",
       "11114   7139598  Cozy 1 BR on Bedford Avenue, Wburg  73023181304   \n",
       "72947  41289964  Cozy 1 BR on Bedford Avenue, Wburg  25804773951   \n",
       "\n",
       "      host_identity_verified  host name neighbourhood group neighbourhood  \\\n",
       "11114               verified  Christina            Brooklyn  Williamsburg   \n",
       "72947            unconfirmed  Christina            Brooklyn  Williamsburg   \n",
       "\n",
       "            lat      long        country  ... service fee minimum nights  \\\n",
       "11114  40.71764 -73.95689  United States  ...       $140             1.0   \n",
       "72947  40.71764 -73.95689  United States  ...       $140             1.0   \n",
       "\n",
       "      number of reviews last review  reviews per month review rate number  \\\n",
       "11114               1.0  01/03/2016               0.02                1.0   \n",
       "72947               1.0  01/03/2016               0.02                1.0   \n",
       "\n",
       "      calculated host listings count  availability 365  \\\n",
       "11114                            1.0             191.0   \n",
       "72947                            1.0               0.0   \n",
       "\n",
       "                                             house_rules   license  \n",
       "11114  Dear Guest, Thank you for appreciating that I ...  41662/AL  \n",
       "72947                                                NaN  41662/AL  \n",
       "\n",
       "[2 rows x 26 columns]"
      ]
     },
     "execution_count": 15,
     "metadata": {},
     "output_type": "execute_result"
    }
   ],
   "source": [
    "# Displaying the entries in the column\n",
    "df.loc[~df.license.isnull()]"
   ]
  },
  {
   "cell_type": "markdown",
   "id": "6c112aea",
   "metadata": {},
   "source": [
    "#### From here, we can see that the host \"Christina\" created 2 different IDs for the same listing. We will delete one of the rows(duplicate) and drop the column since it is not useful."
   ]
  },
  {
   "cell_type": "code",
   "execution_count": 16,
   "id": "bf4673d7",
   "metadata": {},
   "outputs": [],
   "source": [
    "# To remove duplicate\n",
    "ds.drop(ds.index[72947], inplace=True)\n",
    "\n",
    "# To drop the column\n",
    "ds.drop('license', axis=1, inplace=True)"
   ]
  },
  {
   "cell_type": "markdown",
   "id": "7542fa59",
   "metadata": {},
   "source": [
    "### Checking the Last review column"
   ]
  },
  {
   "cell_type": "code",
   "execution_count": 17,
   "id": "f887a6da",
   "metadata": {
    "scrolled": true
   },
   "outputs": [
    {
     "data": {
      "text/plain": [
       "0         10/19/2021\n",
       "1          5/21/2022\n",
       "2                NaN\n",
       "3         07/05/2019\n",
       "4         11/19/2018\n",
       "             ...    \n",
       "102594           NaN\n",
       "102595    07/06/2015\n",
       "102596           NaN\n",
       "102597    10/11/2015\n",
       "102598           NaN\n",
       "Name: last_review, Length: 102598, dtype: object"
      ]
     },
     "execution_count": 17,
     "metadata": {},
     "output_type": "execute_result"
    }
   ],
   "source": [
    "# Checking the column\n",
    "ds['last_review']"
   ]
  },
  {
   "cell_type": "markdown",
   "id": "6f850aa4",
   "metadata": {},
   "source": [
    "#### From this, we can see that the column is a date column instead of \"object\" column. Also the null values will be replaced with the first date in the listing."
   ]
  },
  {
   "cell_type": "code",
   "execution_count": 18,
   "id": "f776729e",
   "metadata": {},
   "outputs": [
    {
     "data": {
      "text/plain": [
       "(Timestamp('2058-06-16 00:00:00'), Timestamp('2012-07-11 00:00:00'))"
      ]
     },
     "execution_count": 18,
     "metadata": {},
     "output_type": "execute_result"
    }
   ],
   "source": [
    "# Transforming the column to datetime\n",
    "ds['last_review'] = pd.to_datetime(ds['last_review'])\n",
    "\n",
    "# Checking for the min and max datetime\n",
    "ds['last_review'].max(), ds['last_review'].min()\n"
   ]
  },
  {
   "cell_type": "markdown",
   "id": "2b85fabd",
   "metadata": {},
   "source": [
    "#### From this, we can see that the maximum date is 2058 which is an error(outlier). So we need to check for other outliers in the column and replace them."
   ]
  },
  {
   "cell_type": "code",
   "execution_count": 19,
   "id": "6c5792f6",
   "metadata": {
    "scrolled": true
   },
   "outputs": [
    {
     "data": {
      "text/html": [
       "<div>\n",
       "<style scoped>\n",
       "    .dataframe tbody tr th:only-of-type {\n",
       "        vertical-align: middle;\n",
       "    }\n",
       "\n",
       "    .dataframe tbody tr th {\n",
       "        vertical-align: top;\n",
       "    }\n",
       "\n",
       "    .dataframe thead th {\n",
       "        text-align: right;\n",
       "    }\n",
       "</style>\n",
       "<table border=\"1\" class=\"dataframe\">\n",
       "  <thead>\n",
       "    <tr style=\"text-align: right;\">\n",
       "      <th></th>\n",
       "      <th>id</th>\n",
       "      <th>name</th>\n",
       "      <th>host_id</th>\n",
       "      <th>host_identity_verified</th>\n",
       "      <th>host_name</th>\n",
       "      <th>neighbourhood_group</th>\n",
       "      <th>neighbourhood</th>\n",
       "      <th>lat</th>\n",
       "      <th>long</th>\n",
       "      <th>country</th>\n",
       "      <th>...</th>\n",
       "      <th>price</th>\n",
       "      <th>service_fee</th>\n",
       "      <th>minimum_nights</th>\n",
       "      <th>number_of_reviews</th>\n",
       "      <th>last_review</th>\n",
       "      <th>reviews_per_month</th>\n",
       "      <th>review_rate_number</th>\n",
       "      <th>calculated_host_listings_count</th>\n",
       "      <th>availability_365</th>\n",
       "      <th>house_rules</th>\n",
       "    </tr>\n",
       "  </thead>\n",
       "  <tbody>\n",
       "    <tr>\n",
       "      <th>127</th>\n",
       "      <td>1071478</td>\n",
       "      <td>Garden studio in the Upper East Sid</td>\n",
       "      <td>77172555024</td>\n",
       "      <td>unconfirmed</td>\n",
       "      <td>Miller</td>\n",
       "      <td>Manhattan</td>\n",
       "      <td>Upper East Side</td>\n",
       "      <td>40.77800</td>\n",
       "      <td>-73.94822</td>\n",
       "      <td>United States</td>\n",
       "      <td>...</td>\n",
       "      <td>$571</td>\n",
       "      <td>$114</td>\n",
       "      <td>5.0</td>\n",
       "      <td>21.0</td>\n",
       "      <td>2024-08-15</td>\n",
       "      <td>0.19</td>\n",
       "      <td>4.0</td>\n",
       "      <td>NaN</td>\n",
       "      <td>395.0</td>\n",
       "      <td>Dear Guests, Welcome to 62 Cornwall St! I hope...</td>\n",
       "    </tr>\n",
       "    <tr>\n",
       "      <th>191</th>\n",
       "      <td>1106825</td>\n",
       "      <td>LUX APT IN TIMES SQUARE NEW BUILDING</td>\n",
       "      <td>93725364475</td>\n",
       "      <td>unconfirmed</td>\n",
       "      <td>Aiden</td>\n",
       "      <td>Manhattan</td>\n",
       "      <td>Hell's Kitchen</td>\n",
       "      <td>40.76307</td>\n",
       "      <td>-73.99665</td>\n",
       "      <td>United States</td>\n",
       "      <td>...</td>\n",
       "      <td>$539</td>\n",
       "      <td>$108</td>\n",
       "      <td>NaN</td>\n",
       "      <td>41.0</td>\n",
       "      <td>2025-06-26</td>\n",
       "      <td>0.38</td>\n",
       "      <td>2.0</td>\n",
       "      <td>1.0</td>\n",
       "      <td>NaN</td>\n",
       "      <td>You will be sharing a bathroom, so you must be...</td>\n",
       "    </tr>\n",
       "    <tr>\n",
       "      <th>255</th>\n",
       "      <td>1142173</td>\n",
       "      <td>Beautiful Landmarked Duplex</td>\n",
       "      <td>87944779917</td>\n",
       "      <td>NaN</td>\n",
       "      <td>Baker</td>\n",
       "      <td>Brooklyn</td>\n",
       "      <td>Greenpoint</td>\n",
       "      <td>40.72945</td>\n",
       "      <td>-73.95511</td>\n",
       "      <td>United States</td>\n",
       "      <td>...</td>\n",
       "      <td>$842</td>\n",
       "      <td>$168</td>\n",
       "      <td>3.0</td>\n",
       "      <td>124.0</td>\n",
       "      <td>2058-06-16</td>\n",
       "      <td>1.22</td>\n",
       "      <td>4.0</td>\n",
       "      <td>3.0</td>\n",
       "      <td>230.0</td>\n",
       "      <td>No rules per say. I just ask that you respect ...</td>\n",
       "    </tr>\n",
       "    <tr>\n",
       "      <th>318</th>\n",
       "      <td>1176967</td>\n",
       "      <td>NaN</td>\n",
       "      <td>70084472212</td>\n",
       "      <td>verified</td>\n",
       "      <td>Barnes</td>\n",
       "      <td>Brooklyn</td>\n",
       "      <td>Greenpoint</td>\n",
       "      <td>40.72488</td>\n",
       "      <td>-73.95018</td>\n",
       "      <td>United States</td>\n",
       "      <td>...</td>\n",
       "      <td>$920</td>\n",
       "      <td>$184</td>\n",
       "      <td>2.0</td>\n",
       "      <td>1.0</td>\n",
       "      <td>2026-03-28</td>\n",
       "      <td>0.01</td>\n",
       "      <td>3.0</td>\n",
       "      <td>1.0</td>\n",
       "      <td>73.0</td>\n",
       "      <td>Check-In is 3pm.  Check-Out is 12 Noon.  In or...</td>\n",
       "    </tr>\n",
       "    <tr>\n",
       "      <th>483</th>\n",
       "      <td>1268097</td>\n",
       "      <td>Modern Space in Charming Pre-war</td>\n",
       "      <td>13746585241</td>\n",
       "      <td>verified</td>\n",
       "      <td>Adelaide</td>\n",
       "      <td>Manhattan</td>\n",
       "      <td>Harlem</td>\n",
       "      <td>40.82411</td>\n",
       "      <td>-73.94934</td>\n",
       "      <td>United States</td>\n",
       "      <td>...</td>\n",
       "      <td>$721</td>\n",
       "      <td>$144</td>\n",
       "      <td>2.0</td>\n",
       "      <td>41.0</td>\n",
       "      <td>2040-06-16</td>\n",
       "      <td>0.43</td>\n",
       "      <td>3.0</td>\n",
       "      <td>2.0</td>\n",
       "      <td>47.0</td>\n",
       "      <td>NaN</td>\n",
       "    </tr>\n",
       "  </tbody>\n",
       "</table>\n",
       "<p>5 rows × 25 columns</p>\n",
       "</div>"
      ],
      "text/plain": [
       "          id                                  name      host_id  \\\n",
       "127  1071478   Garden studio in the Upper East Sid  77172555024   \n",
       "191  1106825  LUX APT IN TIMES SQUARE NEW BUILDING  93725364475   \n",
       "255  1142173           Beautiful Landmarked Duplex  87944779917   \n",
       "318  1176967                                   NaN  70084472212   \n",
       "483  1268097      Modern Space in Charming Pre-war  13746585241   \n",
       "\n",
       "    host_identity_verified host_name neighbourhood_group    neighbourhood  \\\n",
       "127            unconfirmed    Miller           Manhattan  Upper East Side   \n",
       "191            unconfirmed     Aiden           Manhattan   Hell's Kitchen   \n",
       "255                    NaN     Baker            Brooklyn       Greenpoint   \n",
       "318               verified    Barnes            Brooklyn       Greenpoint   \n",
       "483               verified  Adelaide           Manhattan           Harlem   \n",
       "\n",
       "          lat      long        country  ...  price service_fee minimum_nights  \\\n",
       "127  40.77800 -73.94822  United States  ...  $571        $114             5.0   \n",
       "191  40.76307 -73.99665  United States  ...  $539        $108             NaN   \n",
       "255  40.72945 -73.95511  United States  ...  $842        $168             3.0   \n",
       "318  40.72488 -73.95018  United States  ...  $920        $184             2.0   \n",
       "483  40.82411 -73.94934  United States  ...  $721        $144             2.0   \n",
       "\n",
       "    number_of_reviews  last_review reviews_per_month review_rate_number  \\\n",
       "127              21.0   2024-08-15              0.19                4.0   \n",
       "191              41.0   2025-06-26              0.38                2.0   \n",
       "255             124.0   2058-06-16              1.22                4.0   \n",
       "318               1.0   2026-03-28              0.01                3.0   \n",
       "483              41.0   2040-06-16              0.43                3.0   \n",
       "\n",
       "     calculated_host_listings_count  availability_365  \\\n",
       "127                             NaN             395.0   \n",
       "191                             1.0               NaN   \n",
       "255                             3.0             230.0   \n",
       "318                             1.0              73.0   \n",
       "483                             2.0              47.0   \n",
       "\n",
       "                                           house_rules  \n",
       "127  Dear Guests, Welcome to 62 Cornwall St! I hope...  \n",
       "191  You will be sharing a bathroom, so you must be...  \n",
       "255  No rules per say. I just ask that you respect ...  \n",
       "318  Check-In is 3pm.  Check-Out is 12 Noon.  In or...  \n",
       "483                                                NaN  \n",
       "\n",
       "[5 rows x 25 columns]"
      ]
     },
     "execution_count": 19,
     "metadata": {},
     "output_type": "execute_result"
    }
   ],
   "source": [
    "# Checking for outliers\n",
    "ds[ds['last_review'].apply(lambda x: x.year) > 2022]"
   ]
  },
  {
   "cell_type": "code",
   "execution_count": 20,
   "id": "2e333c0f",
   "metadata": {},
   "outputs": [],
   "source": [
    "# Replacing the outliers with the median date of this column\n",
    "ds.loc[ds[ds['last_review'].apply(lambda x:x.year) > 2022].index, 'last_review'] = ds['last_review'].median()\n",
    "\n",
    "# Replacing null values in the column with the median date\n",
    "ds.loc[ds.last_review.isnull(),'last_review'] = ds['last_review'].median()"
   ]
  },
  {
   "cell_type": "markdown",
   "id": "7180e40a",
   "metadata": {},
   "source": [
    "### Checking the Profit and Service Fee columns "
   ]
  },
  {
   "cell_type": "markdown",
   "id": "2f62b537",
   "metadata": {},
   "source": [
    "#### For these columns, we would have to change the values to numeric values"
   ]
  },
  {
   "cell_type": "code",
   "execution_count": 21,
   "id": "3913d256",
   "metadata": {},
   "outputs": [],
   "source": [
    "# creating a function to remove the $ and other unnecessary characters and change the dtype to float\n",
    "def remove_dollar_sign(value):\n",
    "    if pd.isna(value):\n",
    "        return np.NaN\n",
    "    else:\n",
    "        return float(value.replace('$', ' ').replace(',', ' ').replace(' ', ''))\n",
    "    \n",
    "# for price column\n",
    "ds[\"price\"] = ds[\"price\"].apply(lambda x: remove_dollar_sign(x))\n",
    "\n",
    "# for service_fee column\n",
    "ds[\"service_fee\"] = ds[\"service_fee\"].apply(lambda x: remove_dollar_sign(x))"
   ]
  },
  {
   "cell_type": "markdown",
   "id": "47cc78e8",
   "metadata": {},
   "source": [
    "### Checking the Neighbourhood group column"
   ]
  },
  {
   "cell_type": "code",
   "execution_count": 22,
   "id": "d4cd5535",
   "metadata": {},
   "outputs": [
    {
     "data": {
      "text/plain": [
       "Manhattan        43792\n",
       "Brooklyn         41841\n",
       "Queens           13267\n",
       "Bronx             2712\n",
       "Staten Island      955\n",
       "brookln              1\n",
       "manhatan             1\n",
       "Name: neighbourhood_group, dtype: int64"
      ]
     },
     "execution_count": 22,
     "metadata": {},
     "output_type": "execute_result"
    }
   ],
   "source": [
    "# Checking for each unique value in the column\n",
    "ds['neighbourhood_group'].value_counts()"
   ]
  },
  {
   "cell_type": "markdown",
   "id": "1ed5e365",
   "metadata": {},
   "source": [
    "#### We can see that 'manhatan' and 'brookln' were wrongly spelt. this needs to be handled."
   ]
  },
  {
   "cell_type": "code",
   "execution_count": 23,
   "id": "1e9f2fa2",
   "metadata": {},
   "outputs": [
    {
     "data": {
      "text/plain": [
       "Manhattan        43793\n",
       "Brooklyn         41842\n",
       "Queens           13267\n",
       "Bronx             2712\n",
       "Staten Island      955\n",
       "Name: neighbourhood_group, dtype: int64"
      ]
     },
     "execution_count": 23,
     "metadata": {},
     "output_type": "execute_result"
    }
   ],
   "source": [
    "ds['neighbourhood_group'].replace({'manhatan':'Manhattan', 'brookln':'Brooklyn'}, inplace=True)\n",
    "\n",
    "ds['neighbourhood_group'].value_counts()"
   ]
  },
  {
   "cell_type": "markdown",
   "id": "ef7b63f7",
   "metadata": {},
   "source": [
    "### Removing columns that are not useful for visualization"
   ]
  },
  {
   "cell_type": "markdown",
   "id": "0823fbe0",
   "metadata": {},
   "source": [
    "#### Since the number of unique values for Country and Country code columns are 1, this means they do not have any variability and they are not useful for analysis. It is best we remove them."
   ]
  },
  {
   "cell_type": "code",
   "execution_count": 24,
   "id": "5be152fb",
   "metadata": {},
   "outputs": [],
   "source": [
    "# Dropping the country & country_code columns\n",
    "ds.drop(['country', 'country_code'], axis=1, inplace=True)"
   ]
  },
  {
   "cell_type": "markdown",
   "id": "4c87e099",
   "metadata": {},
   "source": [
    "#### Since the House rules column is not useful for visualization, it is best we drop the column."
   ]
  },
  {
   "cell_type": "code",
   "execution_count": 25,
   "id": "a1419c94",
   "metadata": {},
   "outputs": [],
   "source": [
    " ds.drop(['house_rules'], axis=1, inplace=True)"
   ]
  },
  {
   "cell_type": "markdown",
   "id": "f23b5644",
   "metadata": {},
   "source": [
    "#### Since the Name column is not relevant for analysis, it is best we drop the column."
   ]
  },
  {
   "cell_type": "code",
   "execution_count": 26,
   "id": "a0db77a4",
   "metadata": {},
   "outputs": [],
   "source": [
    "ds.drop(['name'], axis=1, inplace=True)"
   ]
  },
  {
   "cell_type": "markdown",
   "id": "df5f7954",
   "metadata": {},
   "source": [
    "### Dealing with Duplicates in the dataset"
   ]
  },
  {
   "cell_type": "code",
   "execution_count": 27,
   "id": "eb735d13",
   "metadata": {},
   "outputs": [
    {
     "data": {
      "text/plain": [
       "0"
      ]
     },
     "execution_count": 27,
     "metadata": {},
     "output_type": "execute_result"
    }
   ],
   "source": [
    "# Dropping duplicates from the dataset\n",
    "ds.drop_duplicates(keep='first', inplace=True)\n",
    "\n",
    "# Checking for any duplicates\n",
    "ds.duplicated().sum()"
   ]
  },
  {
   "cell_type": "markdown",
   "id": "54086656",
   "metadata": {},
   "source": [
    "#### Well there could be more duplicates like the one in License column.\n",
    "#### Let us use host_name, lat, long and price to check for duplicates."
   ]
  },
  {
   "cell_type": "code",
   "execution_count": 28,
   "id": "9dc83cf4",
   "metadata": {
    "scrolled": true
   },
   "outputs": [
    {
     "data": {
      "text/plain": [
       "32752"
      ]
     },
     "execution_count": 28,
     "metadata": {},
     "output_type": "execute_result"
    }
   ],
   "source": [
    "ds.duplicated(subset=['host_name', 'lat', 'long', 'price']).sum()"
   ]
  },
  {
   "cell_type": "markdown",
   "id": "bc38a254",
   "metadata": {},
   "source": [
    "#### That is a lot of duplicates. To handle this, we need to find duplicate entries"
   ]
  },
  {
   "cell_type": "code",
   "execution_count": 29,
   "id": "f9ff74be",
   "metadata": {},
   "outputs": [
    {
     "name": "stdout",
     "output_type": "stream",
     "text": [
      "('(Ari) HENRY LEE', 40.78938, -73.94679, 1179.0)\n",
      "             id      host_id host_identity_verified        host_name  \\\n",
      "10316   6698863  47503557541               verified  (Ari) HENRY LEE   \n",
      "72149  40849229  29667285224               verified  (Ari) HENRY LEE   \n",
      "\n",
      "      neighbourhood_group neighbourhood       lat      long instant_bookable  \\\n",
      "10316           Manhattan   East Harlem  40.78938 -73.94679             True   \n",
      "72149           Manhattan   East Harlem  40.78938 -73.94679             True   \n",
      "\n",
      "      cancellation_policy  ... construction_year   price  service_fee  \\\n",
      "10316            moderate  ...            2020.0  1179.0        236.0   \n",
      "72149            moderate  ...            2020.0  1179.0        236.0   \n",
      "\n",
      "       minimum_nights  number_of_reviews  last_review reviews_per_month  \\\n",
      "10316             7.0                3.0   2017-12-08              0.06   \n",
      "72149             7.0                3.0   2017-12-08              0.06   \n",
      "\n",
      "       review_rate_number  calculated_host_listings_count  availability_365  \n",
      "10316                 1.0                             1.0             403.0  \n",
      "72149                 1.0                             1.0              56.0  \n",
      "\n",
      "[2 rows x 21 columns] \n",
      "\n"
     ]
    }
   ],
   "source": [
    "dup = ds.loc[ds.duplicated(subset=['host_name', 'lat', 'long', 'price'], keep=False)].copy()\n",
    "dup = dup.groupby(['host_name', 'lat', 'long', 'price'])\n",
    "for key, subds in dup:\n",
    "    print(key)\n",
    "    print(pd.DataFrame(subds), '\\n')\n",
    "    break"
   ]
  },
  {
   "cell_type": "markdown",
   "id": "f89cf383",
   "metadata": {},
   "source": [
    "#### This shows that there are many duplicate entries, so it would be best to drop them."
   ]
  },
  {
   "cell_type": "code",
   "execution_count": 30,
   "id": "ff06abb2",
   "metadata": {
    "scrolled": true
   },
   "outputs": [
    {
     "name": "stdout",
     "output_type": "stream",
     "text": [
      "<class 'pandas.core.frame.DataFrame'>\n",
      "Int64Index: 69305 entries, 0 to 102050\n",
      "Data columns (total 21 columns):\n",
      " #   Column                          Non-Null Count  Dtype         \n",
      "---  ------                          --------------  -----         \n",
      " 0   id                              69305 non-null  int64         \n",
      " 1   host_id                         69305 non-null  int64         \n",
      " 2   host_identity_verified          69088 non-null  object        \n",
      " 3   host_name                       68992 non-null  object        \n",
      " 4   neighbourhood_group             69276 non-null  object        \n",
      " 5   neighbourhood                   69289 non-null  object        \n",
      " 6   lat                             69297 non-null  float64       \n",
      " 7   long                            69297 non-null  float64       \n",
      " 8   instant_bookable                69219 non-null  object        \n",
      " 9   cancellation_policy             69248 non-null  object        \n",
      " 10  room_type                       69305 non-null  object        \n",
      " 11  construction_year               69115 non-null  float64       \n",
      " 12  price                           69060 non-null  float64       \n",
      " 13  service_fee                     69064 non-null  float64       \n",
      " 14  minimum_nights                  68942 non-null  float64       \n",
      " 15  number_of_reviews               69153 non-null  float64       \n",
      " 16  last_review                     69305 non-null  datetime64[ns]\n",
      " 17  reviews_per_month               58491 non-null  float64       \n",
      " 18  review_rate_number              69066 non-null  float64       \n",
      " 19  calculated_host_listings_count  69161 non-null  float64       \n",
      " 20  availability_365                68867 non-null  float64       \n",
      "dtypes: datetime64[ns](1), float64(11), int64(2), object(7)\n",
      "memory usage: 11.6+ MB\n"
     ]
    }
   ],
   "source": [
    "# Dropping duplicate entries\n",
    "del dup, subds\n",
    "ds.drop_duplicates(subset=['host_name', 'lat', 'long', 'price'], inplace=True)\n",
    "ds.info()"
   ]
  },
  {
   "cell_type": "markdown",
   "id": "fe536153",
   "metadata": {},
   "source": [
    "### Handling Missing Values"
   ]
  },
  {
   "cell_type": "code",
   "execution_count": 31,
   "id": "1bc1168c",
   "metadata": {
    "scrolled": false
   },
   "outputs": [
    {
     "data": {
      "text/plain": [
       "reviews_per_month                 10814\n",
       "availability_365                    438\n",
       "minimum_nights                      363\n",
       "host_name                           313\n",
       "price                               245\n",
       "service_fee                         241\n",
       "review_rate_number                  239\n",
       "host_identity_verified              217\n",
       "construction_year                   190\n",
       "number_of_reviews                   152\n",
       "calculated_host_listings_count      144\n",
       "instant_bookable                     86\n",
       "cancellation_policy                  57\n",
       "neighbourhood_group                  29\n",
       "neighbourhood                        16\n",
       "long                                  8\n",
       "lat                                   8\n",
       "id                                    0\n",
       "last_review                           0\n",
       "host_id                               0\n",
       "room_type                             0\n",
       "dtype: int64"
      ]
     },
     "execution_count": 31,
     "metadata": {},
     "output_type": "execute_result"
    }
   ],
   "source": [
    "ds.isna().sum().sort_values(ascending=False)"
   ]
  },
  {
   "cell_type": "markdown",
   "id": "8af6073b",
   "metadata": {},
   "source": [
    "### Checking the Host_identity_verified column"
   ]
  },
  {
   "cell_type": "code",
   "execution_count": 32,
   "id": "038a8bfc",
   "metadata": {},
   "outputs": [
    {
     "data": {
      "text/plain": [
       "unconfirmed    34562\n",
       "verified       34526\n",
       "Name: host_identity_verified, dtype: int64"
      ]
     },
     "execution_count": 32,
     "metadata": {},
     "output_type": "execute_result"
    }
   ],
   "source": [
    "# Checking the unique value counts of this column\n",
    "ds['host_identity_verified'].value_counts()"
   ]
  },
  {
   "cell_type": "markdown",
   "id": "c236622a",
   "metadata": {},
   "source": [
    "#### Since there are 217 missing values in this column and 'unconfirmed' appeared more than 'verified' with a close difference, we can replace the missing values with 'unconfirmed'"
   ]
  },
  {
   "cell_type": "code",
   "execution_count": 33,
   "id": "f41a1e51",
   "metadata": {},
   "outputs": [],
   "source": [
    "# Replacing missing values\n",
    "ds.loc[ds['host_identity_verified'].isnull(), 'host_identity_verified'] = 'unconfirmed'"
   ]
  },
  {
   "cell_type": "markdown",
   "id": "974968bb",
   "metadata": {},
   "source": [
    "### Checking the instant_bookable column"
   ]
  },
  {
   "cell_type": "code",
   "execution_count": 34,
   "id": "c3e8010b",
   "metadata": {},
   "outputs": [
    {
     "data": {
      "text/plain": [
       "False    34867\n",
       "True     34352\n",
       "Name: instant_bookable, dtype: int64"
      ]
     },
     "execution_count": 34,
     "metadata": {},
     "output_type": "execute_result"
    }
   ],
   "source": [
    "# Checking the unique value counts of this column\n",
    "ds['instant_bookable'].value_counts()"
   ]
  },
  {
   "cell_type": "markdown",
   "id": "752671b5",
   "metadata": {},
   "source": [
    "#### Since there are 86 missing values in this column, we can replace them with 'True' and it would not affect the slight difference between the unique values"
   ]
  },
  {
   "cell_type": "code",
   "execution_count": 35,
   "id": "d74b49e7",
   "metadata": {},
   "outputs": [],
   "source": [
    "# Replacing missing values\n",
    "ds.loc[ds['instant_bookable'].isnull(), 'instant_bookable'] = 'True'"
   ]
  },
  {
   "cell_type": "markdown",
   "id": "809631b9",
   "metadata": {},
   "source": [
    "### Checking the cancellation_policy column"
   ]
  },
  {
   "cell_type": "code",
   "execution_count": 36,
   "id": "23451af1",
   "metadata": {},
   "outputs": [
    {
     "data": {
      "text/plain": [
       "moderate    23187\n",
       "flexible    23126\n",
       "strict      22935\n",
       "Name: cancellation_policy, dtype: int64"
      ]
     },
     "execution_count": 36,
     "metadata": {},
     "output_type": "execute_result"
    }
   ],
   "source": [
    "# Checking the unique value counts of this column\n",
    "ds['cancellation_policy'].value_counts()"
   ]
  },
  {
   "cell_type": "markdown",
   "id": "91702a69",
   "metadata": {},
   "source": [
    "#### Since there are 57 missing values in this column and 'moderate' appears most with a slight difference with the others, we can replace the missing values with it."
   ]
  },
  {
   "cell_type": "code",
   "execution_count": 37,
   "id": "df3c3490",
   "metadata": {},
   "outputs": [],
   "source": [
    "# Replacing missing values\n",
    "ds.loc[ds['cancellation_policy'].isnull(), 'cancellation_policy'] = 'moderate'"
   ]
  },
  {
   "cell_type": "markdown",
   "id": "3f761a95",
   "metadata": {},
   "source": [
    "### Checking the Neighbourhood column"
   ]
  },
  {
   "cell_type": "code",
   "execution_count": 38,
   "id": "19e0355d",
   "metadata": {},
   "outputs": [
    {
     "data": {
      "text/plain": [
       "16"
      ]
     },
     "execution_count": 38,
     "metadata": {},
     "output_type": "execute_result"
    }
   ],
   "source": [
    "# Checking the missing neighbourhood areas\n",
    "ds.neighbourhood.isnull().sum()"
   ]
  },
  {
   "cell_type": "markdown",
   "id": "0ec16bee",
   "metadata": {},
   "source": [
    "#### Since the number of missing values is small, we can drop them"
   ]
  },
  {
   "cell_type": "code",
   "execution_count": 39,
   "id": "c6d4bedd",
   "metadata": {},
   "outputs": [],
   "source": [
    "# Dropping the missing values\n",
    "ds = ds[ds['neighbourhood'].notna()]"
   ]
  },
  {
   "cell_type": "markdown",
   "id": "3c9f7afe",
   "metadata": {},
   "source": [
    "### Checking the Neighbourhood_group column"
   ]
  },
  {
   "cell_type": "code",
   "execution_count": 40,
   "id": "827c28c3",
   "metadata": {},
   "outputs": [
    {
     "data": {
      "text/plain": [
       "Manhattan        29566\n",
       "Brooklyn         27874\n",
       "Queens            9260\n",
       "Bronx             1911\n",
       "Staten Island      649\n",
       "Name: neighbourhood_group, dtype: int64"
      ]
     },
     "execution_count": 40,
     "metadata": {},
     "output_type": "execute_result"
    }
   ],
   "source": [
    "#Checking the unique value counts of this column\n",
    "ds['neighbourhood_group'].value_counts()"
   ]
  },
  {
   "cell_type": "markdown",
   "id": "3d4ee20b",
   "metadata": {},
   "source": [
    "#### Since there are 29 missing values in the column and 'Manhattan' occured the most, we can replace them with 'Manhattan'"
   ]
  },
  {
   "cell_type": "code",
   "execution_count": 41,
   "id": "9fa832d3",
   "metadata": {},
   "outputs": [],
   "source": [
    "# Replacing missing values\n",
    "ds.loc[ds['neighbourhood_group'].isnull(), 'neighbourhood_group'] = 'Manhattan'"
   ]
  },
  {
   "cell_type": "markdown",
   "id": "887d66b6",
   "metadata": {},
   "source": [
    "### Checking the host_name"
   ]
  },
  {
   "cell_type": "code",
   "execution_count": 42,
   "id": "a4d611ce",
   "metadata": {},
   "outputs": [
    {
     "data": {
      "text/plain": [
       "313"
      ]
     },
     "execution_count": 42,
     "metadata": {},
     "output_type": "execute_result"
    }
   ],
   "source": [
    "# Checking the number of missing values\n",
    "ds.host_name.isnull().sum()"
   ]
  },
  {
   "cell_type": "markdown",
   "id": "e52fbe81",
   "metadata": {},
   "source": [
    "#### We can replace the missing values with 'null'"
   ]
  },
  {
   "cell_type": "code",
   "execution_count": 43,
   "id": "ffc22ca7",
   "metadata": {},
   "outputs": [],
   "source": [
    "# Handling the missing values\n",
    "ds['host_name'] = ds['host_name'].fillna('null')"
   ]
  },
  {
   "cell_type": "markdown",
   "id": "5d8d7ea9",
   "metadata": {},
   "source": [
    "### Checking the Lat and Long Columns"
   ]
  },
  {
   "cell_type": "code",
   "execution_count": 44,
   "id": "9b3b0687",
   "metadata": {},
   "outputs": [
    {
     "data": {
      "text/plain": [
       "8"
      ]
     },
     "execution_count": 44,
     "metadata": {},
     "output_type": "execute_result"
    }
   ],
   "source": [
    "# Checking the number of missing values for these columns\n",
    "ds.lat.isnull().sum()\n",
    "\n",
    "ds.long.isnull().sum()"
   ]
  },
  {
   "cell_type": "markdown",
   "id": "4ba136a0",
   "metadata": {},
   "source": [
    "#### Since there are 8 missing values for both columns, we can drop them"
   ]
  },
  {
   "cell_type": "code",
   "execution_count": 45,
   "id": "45f2d3d1",
   "metadata": {},
   "outputs": [],
   "source": [
    "# For lat column\n",
    "ds= ds[ds['lat'].notna()]\n",
    "\n",
    "# For long column\n",
    "ds = ds[ds['long'].notna()]"
   ]
  },
  {
   "cell_type": "markdown",
   "id": "018a35ae",
   "metadata": {},
   "source": [
    "### Checking the Reviews_per_month column"
   ]
  },
  {
   "cell_type": "code",
   "execution_count": 46,
   "id": "6cadc49a",
   "metadata": {},
   "outputs": [
    {
     "data": {
      "text/plain": [
       "count    58468.000000\n",
       "mean         1.396450\n",
       "std          1.790346\n",
       "min          0.010000\n",
       "25%          0.240000\n",
       "50%          0.790000\n",
       "75%          2.010000\n",
       "max         90.000000\n",
       "Name: reviews_per_month, dtype: float64"
      ]
     },
     "execution_count": 46,
     "metadata": {},
     "output_type": "execute_result"
    }
   ],
   "source": [
    "# Exploring this column\n",
    "ds['reviews_per_month'].describe()\n"
   ]
  },
  {
   "cell_type": "code",
   "execution_count": 47,
   "id": "885c2d2b",
   "metadata": {
    "scrolled": true
   },
   "outputs": [
    {
     "data": {
      "text/plain": [
       "<AxesSubplot:ylabel='reviews_per_month'>"
      ]
     },
     "execution_count": 47,
     "metadata": {},
     "output_type": "execute_result"
    },
    {
     "data": {
      "image/png": "[encoded data removed]",
      "text/plain": [
       "<Figure size 432x288 with 1 Axes>"
      ]
     },
     "metadata": {
      "needs_background": "light"
     },
     "output_type": "display_data"
    }
   ],
   "source": [
    "# plotting a boxplot\n",
    "sns.boxplot(data=ds, y='reviews_per_month')"
   ]
  },
  {
   "cell_type": "markdown",
   "id": "02299ca5",
   "metadata": {},
   "source": [
    "#### Since this data is severely right skewed, we'll use the median to replace the missing values in the column"
   ]
  },
  {
   "cell_type": "code",
   "execution_count": 48,
   "id": "9f906e3f",
   "metadata": {},
   "outputs": [],
   "source": [
    "# Handling the null values\n",
    "ds.loc[ds['reviews_per_month'].isnull(), 'reviews_per_month'] = ds['reviews_per_month'].median()"
   ]
  },
  {
   "cell_type": "code",
   "execution_count": 49,
   "id": "a738278f",
   "metadata": {
    "scrolled": true
   },
   "outputs": [
    {
     "data": {
      "text/plain": [
       "count    69281.000000\n",
       "mean         1.301798\n",
       "std          1.659368\n",
       "min          0.010000\n",
       "25%          0.300000\n",
       "50%          0.790000\n",
       "75%          1.730000\n",
       "max         90.000000\n",
       "Name: reviews_per_month, dtype: float64"
      ]
     },
     "execution_count": 49,
     "metadata": {},
     "output_type": "execute_result"
    }
   ],
   "source": [
    "# Checking the statistics of the column\n",
    "ds['reviews_per_month'].describe()"
   ]
  },
  {
   "cell_type": "markdown",
   "id": "a78a3be5",
   "metadata": {},
   "source": [
    "#### This shows that the median is a good option since the  values are still the same"
   ]
  },
  {
   "cell_type": "markdown",
   "id": "1290e3f0",
   "metadata": {},
   "source": [
    "### Checking the availability_365 columns"
   ]
  },
  {
   "cell_type": "code",
   "execution_count": 50,
   "id": "0905e734",
   "metadata": {
    "scrolled": true
   },
   "outputs": [
    {
     "data": {
      "text/plain": [
       "count    68844.000000\n",
       "mean       153.344460\n",
       "std        134.834574\n",
       "min        -10.000000\n",
       "25%         17.000000\n",
       "50%        127.000000\n",
       "75%        282.000000\n",
       "max        426.000000\n",
       "Name: availability_365, dtype: float64"
      ]
     },
     "execution_count": 50,
     "metadata": {},
     "output_type": "execute_result"
    }
   ],
   "source": [
    "# Exploring the column\n",
    "ds['availability_365'].describe()"
   ]
  },
  {
   "cell_type": "markdown",
   "id": "c9af9f03",
   "metadata": {},
   "source": [
    "#### There is something wrong with the entries in this column. The maximum value should be 365 and the minimum value should be 1 because it is for a year"
   ]
  },
  {
   "cell_type": "code",
   "execution_count": 51,
   "id": "b67cd21d",
   "metadata": {
    "scrolled": true
   },
   "outputs": [
    {
     "data": {
      "text/html": [
       "<div>\n",
       "<style scoped>\n",
       "    .dataframe tbody tr th:only-of-type {\n",
       "        vertical-align: middle;\n",
       "    }\n",
       "\n",
       "    .dataframe tbody tr th {\n",
       "        vertical-align: top;\n",
       "    }\n",
       "\n",
       "    .dataframe thead th {\n",
       "        text-align: right;\n",
       "    }\n",
       "</style>\n",
       "<table border=\"1\" class=\"dataframe\">\n",
       "  <thead>\n",
       "    <tr style=\"text-align: right;\">\n",
       "      <th></th>\n",
       "      <th>id</th>\n",
       "      <th>host_id</th>\n",
       "      <th>host_identity_verified</th>\n",
       "      <th>host_name</th>\n",
       "      <th>neighbourhood_group</th>\n",
       "      <th>neighbourhood</th>\n",
       "      <th>lat</th>\n",
       "      <th>long</th>\n",
       "      <th>instant_bookable</th>\n",
       "      <th>cancellation_policy</th>\n",
       "      <th>...</th>\n",
       "      <th>construction_year</th>\n",
       "      <th>price</th>\n",
       "      <th>service_fee</th>\n",
       "      <th>minimum_nights</th>\n",
       "      <th>number_of_reviews</th>\n",
       "      <th>last_review</th>\n",
       "      <th>reviews_per_month</th>\n",
       "      <th>review_rate_number</th>\n",
       "      <th>calculated_host_listings_count</th>\n",
       "      <th>availability_365</th>\n",
       "    </tr>\n",
       "  </thead>\n",
       "  <tbody>\n",
       "    <tr>\n",
       "      <th>139</th>\n",
       "      <td>1078106</td>\n",
       "      <td>12359551036</td>\n",
       "      <td>unconfirmed</td>\n",
       "      <td>Frederick</td>\n",
       "      <td>Brooklyn</td>\n",
       "      <td>Bedford-Stuyvesant</td>\n",
       "      <td>40.68296</td>\n",
       "      <td>-73.93662</td>\n",
       "      <td>False</td>\n",
       "      <td>flexible</td>\n",
       "      <td>...</td>\n",
       "      <td>2010.0</td>\n",
       "      <td>593.0</td>\n",
       "      <td>119.0</td>\n",
       "      <td>NaN</td>\n",
       "      <td>227.0</td>\n",
       "      <td>2019-06-23</td>\n",
       "      <td>2.09</td>\n",
       "      <td>5.0</td>\n",
       "      <td>2.0</td>\n",
       "      <td>-10.0</td>\n",
       "    </tr>\n",
       "    <tr>\n",
       "      <th>142</th>\n",
       "      <td>1079763</td>\n",
       "      <td>83716006050</td>\n",
       "      <td>unconfirmed</td>\n",
       "      <td>Kellan</td>\n",
       "      <td>Brooklyn</td>\n",
       "      <td>Williamsburg</td>\n",
       "      <td>40.71561</td>\n",
       "      <td>-73.94835</td>\n",
       "      <td>True</td>\n",
       "      <td>moderate</td>\n",
       "      <td>...</td>\n",
       "      <td>2004.0</td>\n",
       "      <td>658.0</td>\n",
       "      <td>132.0</td>\n",
       "      <td>NaN</td>\n",
       "      <td>10.0</td>\n",
       "      <td>2019-06-14</td>\n",
       "      <td>0.10</td>\n",
       "      <td>5.0</td>\n",
       "      <td>1.0</td>\n",
       "      <td>-2.0</td>\n",
       "    </tr>\n",
       "    <tr>\n",
       "      <th>154</th>\n",
       "      <td>1086390</td>\n",
       "      <td>47292670441</td>\n",
       "      <td>unconfirmed</td>\n",
       "      <td>Dainton</td>\n",
       "      <td>Brooklyn</td>\n",
       "      <td>Prospect Heights</td>\n",
       "      <td>40.67410</td>\n",
       "      <td>-73.96595</td>\n",
       "      <td>False</td>\n",
       "      <td>flexible</td>\n",
       "      <td>...</td>\n",
       "      <td>2020.0</td>\n",
       "      <td>810.0</td>\n",
       "      <td>162.0</td>\n",
       "      <td>15.0</td>\n",
       "      <td>4.0</td>\n",
       "      <td>2018-08-27</td>\n",
       "      <td>0.05</td>\n",
       "      <td>3.0</td>\n",
       "      <td>1.0</td>\n",
       "      <td>0.0</td>\n",
       "    </tr>\n",
       "    <tr>\n",
       "      <th>170</th>\n",
       "      <td>1095227</td>\n",
       "      <td>95792367490</td>\n",
       "      <td>unconfirmed</td>\n",
       "      <td>Dexter</td>\n",
       "      <td>Staten Island</td>\n",
       "      <td>St. George</td>\n",
       "      <td>40.64524</td>\n",
       "      <td>-74.08088</td>\n",
       "      <td>True</td>\n",
       "      <td>strict</td>\n",
       "      <td>...</td>\n",
       "      <td>2003.0</td>\n",
       "      <td>1015.0</td>\n",
       "      <td>203.0</td>\n",
       "      <td>131.0</td>\n",
       "      <td>166.0</td>\n",
       "      <td>2019-06-13</td>\n",
       "      <td>1.66</td>\n",
       "      <td>4.0</td>\n",
       "      <td>1.0</td>\n",
       "      <td>-1.0</td>\n",
       "    </tr>\n",
       "    <tr>\n",
       "      <th>236</th>\n",
       "      <td>1131679</td>\n",
       "      <td>74291995690</td>\n",
       "      <td>unconfirmed</td>\n",
       "      <td>Cameron</td>\n",
       "      <td>Manhattan</td>\n",
       "      <td>East Harlem</td>\n",
       "      <td>40.79163</td>\n",
       "      <td>-73.94573</td>\n",
       "      <td>False</td>\n",
       "      <td>flexible</td>\n",
       "      <td>...</td>\n",
       "      <td>2020.0</td>\n",
       "      <td>1052.0</td>\n",
       "      <td>210.0</td>\n",
       "      <td>28.0</td>\n",
       "      <td>183.0</td>\n",
       "      <td>2018-09-29</td>\n",
       "      <td>1.83</td>\n",
       "      <td>2.0</td>\n",
       "      <td>2.0</td>\n",
       "      <td>-6.0</td>\n",
       "    </tr>\n",
       "    <tr>\n",
       "      <th>...</th>\n",
       "      <td>...</td>\n",
       "      <td>...</td>\n",
       "      <td>...</td>\n",
       "      <td>...</td>\n",
       "      <td>...</td>\n",
       "      <td>...</td>\n",
       "      <td>...</td>\n",
       "      <td>...</td>\n",
       "      <td>...</td>\n",
       "      <td>...</td>\n",
       "      <td>...</td>\n",
       "      <td>...</td>\n",
       "      <td>...</td>\n",
       "      <td>...</td>\n",
       "      <td>...</td>\n",
       "      <td>...</td>\n",
       "      <td>...</td>\n",
       "      <td>...</td>\n",
       "      <td>...</td>\n",
       "      <td>...</td>\n",
       "      <td>...</td>\n",
       "    </tr>\n",
       "    <tr>\n",
       "      <th>102042</th>\n",
       "      <td>57359133</td>\n",
       "      <td>68411243647</td>\n",
       "      <td>verified</td>\n",
       "      <td>null</td>\n",
       "      <td>Manhattan</td>\n",
       "      <td>Upper West Side</td>\n",
       "      <td>40.79712</td>\n",
       "      <td>-73.96117</td>\n",
       "      <td>False</td>\n",
       "      <td>strict</td>\n",
       "      <td>...</td>\n",
       "      <td>2012.0</td>\n",
       "      <td>706.0</td>\n",
       "      <td>141.0</td>\n",
       "      <td>1.0</td>\n",
       "      <td>4.0</td>\n",
       "      <td>2017-08-15</td>\n",
       "      <td>0.14</td>\n",
       "      <td>4.0</td>\n",
       "      <td>1.0</td>\n",
       "      <td>0.0</td>\n",
       "    </tr>\n",
       "    <tr>\n",
       "      <th>102045</th>\n",
       "      <td>57360790</td>\n",
       "      <td>15978912806</td>\n",
       "      <td>unconfirmed</td>\n",
       "      <td>null</td>\n",
       "      <td>Queens</td>\n",
       "      <td>Rego Park</td>\n",
       "      <td>40.72460</td>\n",
       "      <td>-73.85688</td>\n",
       "      <td>False</td>\n",
       "      <td>moderate</td>\n",
       "      <td>...</td>\n",
       "      <td>2006.0</td>\n",
       "      <td>NaN</td>\n",
       "      <td>NaN</td>\n",
       "      <td>1.0</td>\n",
       "      <td>0.0</td>\n",
       "      <td>2019-06-14</td>\n",
       "      <td>0.79</td>\n",
       "      <td>3.0</td>\n",
       "      <td>1.0</td>\n",
       "      <td>0.0</td>\n",
       "    </tr>\n",
       "    <tr>\n",
       "      <th>102046</th>\n",
       "      <td>57361342</td>\n",
       "      <td>29964876857</td>\n",
       "      <td>verified</td>\n",
       "      <td>null</td>\n",
       "      <td>Brooklyn</td>\n",
       "      <td>Bushwick</td>\n",
       "      <td>40.69370</td>\n",
       "      <td>-73.91006</td>\n",
       "      <td>True</td>\n",
       "      <td>flexible</td>\n",
       "      <td>...</td>\n",
       "      <td>2016.0</td>\n",
       "      <td>NaN</td>\n",
       "      <td>NaN</td>\n",
       "      <td>5.0</td>\n",
       "      <td>3.0</td>\n",
       "      <td>2018-04-09</td>\n",
       "      <td>0.11</td>\n",
       "      <td>1.0</td>\n",
       "      <td>1.0</td>\n",
       "      <td>0.0</td>\n",
       "    </tr>\n",
       "    <tr>\n",
       "      <th>102047</th>\n",
       "      <td>57361894</td>\n",
       "      <td>92852058426</td>\n",
       "      <td>unconfirmed</td>\n",
       "      <td>null</td>\n",
       "      <td>Brooklyn</td>\n",
       "      <td>Williamsburg</td>\n",
       "      <td>40.71284</td>\n",
       "      <td>-73.96284</td>\n",
       "      <td>False</td>\n",
       "      <td>moderate</td>\n",
       "      <td>...</td>\n",
       "      <td>2005.0</td>\n",
       "      <td>NaN</td>\n",
       "      <td>NaN</td>\n",
       "      <td>7.0</td>\n",
       "      <td>15.0</td>\n",
       "      <td>2018-01-01</td>\n",
       "      <td>0.55</td>\n",
       "      <td>4.0</td>\n",
       "      <td>1.0</td>\n",
       "      <td>0.0</td>\n",
       "    </tr>\n",
       "    <tr>\n",
       "      <th>102049</th>\n",
       "      <td>57362999</td>\n",
       "      <td>80154173698</td>\n",
       "      <td>verified</td>\n",
       "      <td>null</td>\n",
       "      <td>Manhattan</td>\n",
       "      <td>Hell's Kitchen</td>\n",
       "      <td>40.76125</td>\n",
       "      <td>-73.98945</td>\n",
       "      <td>True</td>\n",
       "      <td>strict</td>\n",
       "      <td>...</td>\n",
       "      <td>2020.0</td>\n",
       "      <td>NaN</td>\n",
       "      <td>NaN</td>\n",
       "      <td>1.0</td>\n",
       "      <td>81.0</td>\n",
       "      <td>2019-03-05</td>\n",
       "      <td>2.96</td>\n",
       "      <td>2.0</td>\n",
       "      <td>2.0</td>\n",
       "      <td>0.0</td>\n",
       "    </tr>\n",
       "  </tbody>\n",
       "</table>\n",
       "<p>12652 rows × 21 columns</p>\n",
       "</div>"
      ],
      "text/plain": [
       "              id      host_id host_identity_verified  host_name  \\\n",
       "139      1078106  12359551036            unconfirmed  Frederick   \n",
       "142      1079763  83716006050            unconfirmed     Kellan   \n",
       "154      1086390  47292670441            unconfirmed    Dainton   \n",
       "170      1095227  95792367490            unconfirmed     Dexter   \n",
       "236      1131679  74291995690            unconfirmed    Cameron   \n",
       "...          ...          ...                    ...        ...   \n",
       "102042  57359133  68411243647               verified       null   \n",
       "102045  57360790  15978912806            unconfirmed       null   \n",
       "102046  57361342  29964876857               verified       null   \n",
       "102047  57361894  92852058426            unconfirmed       null   \n",
       "102049  57362999  80154173698               verified       null   \n",
       "\n",
       "       neighbourhood_group       neighbourhood       lat      long  \\\n",
       "139               Brooklyn  Bedford-Stuyvesant  40.68296 -73.93662   \n",
       "142               Brooklyn        Williamsburg  40.71561 -73.94835   \n",
       "154               Brooklyn    Prospect Heights  40.67410 -73.96595   \n",
       "170          Staten Island          St. George  40.64524 -74.08088   \n",
       "236              Manhattan         East Harlem  40.79163 -73.94573   \n",
       "...                    ...                 ...       ...       ...   \n",
       "102042           Manhattan     Upper West Side  40.79712 -73.96117   \n",
       "102045              Queens           Rego Park  40.72460 -73.85688   \n",
       "102046            Brooklyn            Bushwick  40.69370 -73.91006   \n",
       "102047            Brooklyn        Williamsburg  40.71284 -73.96284   \n",
       "102049           Manhattan      Hell's Kitchen  40.76125 -73.98945   \n",
       "\n",
       "       instant_bookable cancellation_policy  ... construction_year   price  \\\n",
       "139               False            flexible  ...            2010.0   593.0   \n",
       "142                True            moderate  ...            2004.0   658.0   \n",
       "154               False            flexible  ...            2020.0   810.0   \n",
       "170                True              strict  ...            2003.0  1015.0   \n",
       "236               False            flexible  ...            2020.0  1052.0   \n",
       "...                 ...                 ...  ...               ...     ...   \n",
       "102042            False              strict  ...            2012.0   706.0   \n",
       "102045            False            moderate  ...            2006.0     NaN   \n",
       "102046             True            flexible  ...            2016.0     NaN   \n",
       "102047            False            moderate  ...            2005.0     NaN   \n",
       "102049             True              strict  ...            2020.0     NaN   \n",
       "\n",
       "        service_fee  minimum_nights  number_of_reviews  last_review  \\\n",
       "139           119.0             NaN              227.0   2019-06-23   \n",
       "142           132.0             NaN               10.0   2019-06-14   \n",
       "154           162.0            15.0                4.0   2018-08-27   \n",
       "170           203.0           131.0              166.0   2019-06-13   \n",
       "236           210.0            28.0              183.0   2018-09-29   \n",
       "...             ...             ...                ...          ...   \n",
       "102042        141.0             1.0                4.0   2017-08-15   \n",
       "102045          NaN             1.0                0.0   2019-06-14   \n",
       "102046          NaN             5.0                3.0   2018-04-09   \n",
       "102047          NaN             7.0               15.0   2018-01-01   \n",
       "102049          NaN             1.0               81.0   2019-03-05   \n",
       "\n",
       "       reviews_per_month  review_rate_number  calculated_host_listings_count  \\\n",
       "139                 2.09                 5.0                             2.0   \n",
       "142                 0.10                 5.0                             1.0   \n",
       "154                 0.05                 3.0                             1.0   \n",
       "170                 1.66                 4.0                             1.0   \n",
       "236                 1.83                 2.0                             2.0   \n",
       "...                  ...                 ...                             ...   \n",
       "102042              0.14                 4.0                             1.0   \n",
       "102045              0.79                 3.0                             1.0   \n",
       "102046              0.11                 1.0                             1.0   \n",
       "102047              0.55                 4.0                             1.0   \n",
       "102049              2.96                 2.0                             2.0   \n",
       "\n",
       "        availability_365  \n",
       "139                -10.0  \n",
       "142                 -2.0  \n",
       "154                  0.0  \n",
       "170                 -1.0  \n",
       "236                 -6.0  \n",
       "...                  ...  \n",
       "102042               0.0  \n",
       "102045               0.0  \n",
       "102046               0.0  \n",
       "102047               0.0  \n",
       "102049               0.0  \n",
       "\n",
       "[12652 rows x 21 columns]"
      ]
     },
     "execution_count": 51,
     "metadata": {},
     "output_type": "execute_result"
    }
   ],
   "source": [
    "# Checking for entries less than 1\n",
    "ds[ds['availability_365']<1]\n"
   ]
  },
  {
   "cell_type": "code",
   "execution_count": 52,
   "id": "1f3b4fc4",
   "metadata": {},
   "outputs": [],
   "source": [
    "# Replacing the entries with null values\n",
    "ds.loc[ds['availability_365']<1, 'availability_365'] = np.nan"
   ]
  },
  {
   "cell_type": "code",
   "execution_count": 53,
   "id": "39f63c10",
   "metadata": {
    "scrolled": true
   },
   "outputs": [
    {
     "data": {
      "text/html": [
       "<div>\n",
       "<style scoped>\n",
       "    .dataframe tbody tr th:only-of-type {\n",
       "        vertical-align: middle;\n",
       "    }\n",
       "\n",
       "    .dataframe tbody tr th {\n",
       "        vertical-align: top;\n",
       "    }\n",
       "\n",
       "    .dataframe thead th {\n",
       "        text-align: right;\n",
       "    }\n",
       "</style>\n",
       "<table border=\"1\" class=\"dataframe\">\n",
       "  <thead>\n",
       "    <tr style=\"text-align: right;\">\n",
       "      <th></th>\n",
       "      <th>id</th>\n",
       "      <th>host_id</th>\n",
       "      <th>host_identity_verified</th>\n",
       "      <th>host_name</th>\n",
       "      <th>neighbourhood_group</th>\n",
       "      <th>neighbourhood</th>\n",
       "      <th>lat</th>\n",
       "      <th>long</th>\n",
       "      <th>instant_bookable</th>\n",
       "      <th>cancellation_policy</th>\n",
       "      <th>...</th>\n",
       "      <th>construction_year</th>\n",
       "      <th>price</th>\n",
       "      <th>service_fee</th>\n",
       "      <th>minimum_nights</th>\n",
       "      <th>number_of_reviews</th>\n",
       "      <th>last_review</th>\n",
       "      <th>reviews_per_month</th>\n",
       "      <th>review_rate_number</th>\n",
       "      <th>calculated_host_listings_count</th>\n",
       "      <th>availability_365</th>\n",
       "    </tr>\n",
       "  </thead>\n",
       "  <tbody>\n",
       "    <tr>\n",
       "      <th>5</th>\n",
       "      <td>1004098</td>\n",
       "      <td>45498551794</td>\n",
       "      <td>verified</td>\n",
       "      <td>Michelle</td>\n",
       "      <td>Manhattan</td>\n",
       "      <td>Murray Hill</td>\n",
       "      <td>40.74767</td>\n",
       "      <td>-73.97500</td>\n",
       "      <td>True</td>\n",
       "      <td>flexible</td>\n",
       "      <td>...</td>\n",
       "      <td>2013.0</td>\n",
       "      <td>577.0</td>\n",
       "      <td>115.0</td>\n",
       "      <td>3.0</td>\n",
       "      <td>74.0</td>\n",
       "      <td>2019-06-22</td>\n",
       "      <td>0.59</td>\n",
       "      <td>3.0</td>\n",
       "      <td>1.0</td>\n",
       "      <td>374.0</td>\n",
       "    </tr>\n",
       "    <tr>\n",
       "      <th>9</th>\n",
       "      <td>1006307</td>\n",
       "      <td>75527839483</td>\n",
       "      <td>unconfirmed</td>\n",
       "      <td>Carl</td>\n",
       "      <td>Manhattan</td>\n",
       "      <td>Upper West Side</td>\n",
       "      <td>40.80178</td>\n",
       "      <td>-73.96723</td>\n",
       "      <td>False</td>\n",
       "      <td>strict</td>\n",
       "      <td>...</td>\n",
       "      <td>2015.0</td>\n",
       "      <td>291.0</td>\n",
       "      <td>58.0</td>\n",
       "      <td>2.0</td>\n",
       "      <td>118.0</td>\n",
       "      <td>2017-07-21</td>\n",
       "      <td>0.99</td>\n",
       "      <td>5.0</td>\n",
       "      <td>1.0</td>\n",
       "      <td>375.0</td>\n",
       "    </tr>\n",
       "    <tr>\n",
       "      <th>25</th>\n",
       "      <td>1015144</td>\n",
       "      <td>48387947293</td>\n",
       "      <td>unconfirmed</td>\n",
       "      <td>Miranda</td>\n",
       "      <td>Brooklyn</td>\n",
       "      <td>Bedford-Stuyvesant</td>\n",
       "      <td>40.68371</td>\n",
       "      <td>-73.94028</td>\n",
       "      <td>True</td>\n",
       "      <td>strict</td>\n",
       "      <td>...</td>\n",
       "      <td>2006.0</td>\n",
       "      <td>1175.0</td>\n",
       "      <td>235.0</td>\n",
       "      <td>2.0</td>\n",
       "      <td>88.0</td>\n",
       "      <td>2019-06-19</td>\n",
       "      <td>0.73</td>\n",
       "      <td>4.0</td>\n",
       "      <td>2.0</td>\n",
       "      <td>372.0</td>\n",
       "    </tr>\n",
       "    <tr>\n",
       "      <th>33</th>\n",
       "      <td>1019562</td>\n",
       "      <td>50968902783</td>\n",
       "      <td>unconfirmed</td>\n",
       "      <td>John</td>\n",
       "      <td>Brooklyn</td>\n",
       "      <td>Greenpoint</td>\n",
       "      <td>40.72219</td>\n",
       "      <td>-73.93762</td>\n",
       "      <td>True</td>\n",
       "      <td>moderate</td>\n",
       "      <td>...</td>\n",
       "      <td>2007.0</td>\n",
       "      <td>858.0</td>\n",
       "      <td>172.0</td>\n",
       "      <td>4.0</td>\n",
       "      <td>197.0</td>\n",
       "      <td>2019-06-15</td>\n",
       "      <td>1.65</td>\n",
       "      <td>NaN</td>\n",
       "      <td>3.0</td>\n",
       "      <td>383.0</td>\n",
       "    </tr>\n",
       "    <tr>\n",
       "      <th>34</th>\n",
       "      <td>1020114</td>\n",
       "      <td>25066620900</td>\n",
       "      <td>verified</td>\n",
       "      <td>Alfred</td>\n",
       "      <td>Manhattan</td>\n",
       "      <td>Harlem</td>\n",
       "      <td>40.82130</td>\n",
       "      <td>-73.95318</td>\n",
       "      <td>True</td>\n",
       "      <td>strict</td>\n",
       "      <td>...</td>\n",
       "      <td>2021.0</td>\n",
       "      <td>545.0</td>\n",
       "      <td>109.0</td>\n",
       "      <td>3.0</td>\n",
       "      <td>273.0</td>\n",
       "      <td>2019-07-01</td>\n",
       "      <td>2.37</td>\n",
       "      <td>NaN</td>\n",
       "      <td>3.0</td>\n",
       "      <td>411.0</td>\n",
       "    </tr>\n",
       "    <tr>\n",
       "      <th>...</th>\n",
       "      <td>...</td>\n",
       "      <td>...</td>\n",
       "      <td>...</td>\n",
       "      <td>...</td>\n",
       "      <td>...</td>\n",
       "      <td>...</td>\n",
       "      <td>...</td>\n",
       "      <td>...</td>\n",
       "      <td>...</td>\n",
       "      <td>...</td>\n",
       "      <td>...</td>\n",
       "      <td>...</td>\n",
       "      <td>...</td>\n",
       "      <td>...</td>\n",
       "      <td>...</td>\n",
       "      <td>...</td>\n",
       "      <td>...</td>\n",
       "      <td>...</td>\n",
       "      <td>...</td>\n",
       "      <td>...</td>\n",
       "      <td>...</td>\n",
       "    </tr>\n",
       "    <tr>\n",
       "      <th>17036</th>\n",
       "      <td>10410319</td>\n",
       "      <td>53341280844</td>\n",
       "      <td>verified</td>\n",
       "      <td>Ephraim</td>\n",
       "      <td>Manhattan</td>\n",
       "      <td>Harlem</td>\n",
       "      <td>40.81589</td>\n",
       "      <td>-73.94648</td>\n",
       "      <td>False</td>\n",
       "      <td>flexible</td>\n",
       "      <td>...</td>\n",
       "      <td>2003.0</td>\n",
       "      <td>749.0</td>\n",
       "      <td>150.0</td>\n",
       "      <td>4.0</td>\n",
       "      <td>125.0</td>\n",
       "      <td>2019-06-20</td>\n",
       "      <td>3.37</td>\n",
       "      <td>4.0</td>\n",
       "      <td>4.0</td>\n",
       "      <td>409.0</td>\n",
       "    </tr>\n",
       "    <tr>\n",
       "      <th>17052</th>\n",
       "      <td>10419156</td>\n",
       "      <td>24203220360</td>\n",
       "      <td>unconfirmed</td>\n",
       "      <td>Josh</td>\n",
       "      <td>Manhattan</td>\n",
       "      <td>Upper West Side</td>\n",
       "      <td>40.76986</td>\n",
       "      <td>-73.98673</td>\n",
       "      <td>False</td>\n",
       "      <td>flexible</td>\n",
       "      <td>...</td>\n",
       "      <td>2018.0</td>\n",
       "      <td>643.0</td>\n",
       "      <td>129.0</td>\n",
       "      <td>1.0</td>\n",
       "      <td>1.0</td>\n",
       "      <td>2016-08-09</td>\n",
       "      <td>0.03</td>\n",
       "      <td>5.0</td>\n",
       "      <td>1.0</td>\n",
       "      <td>383.0</td>\n",
       "    </tr>\n",
       "    <tr>\n",
       "      <th>17053</th>\n",
       "      <td>10419708</td>\n",
       "      <td>5213685166</td>\n",
       "      <td>verified</td>\n",
       "      <td>Chris</td>\n",
       "      <td>Brooklyn</td>\n",
       "      <td>Williamsburg</td>\n",
       "      <td>40.71182</td>\n",
       "      <td>-73.95692</td>\n",
       "      <td>True</td>\n",
       "      <td>strict</td>\n",
       "      <td>...</td>\n",
       "      <td>2012.0</td>\n",
       "      <td>1139.0</td>\n",
       "      <td>228.0</td>\n",
       "      <td>1.0</td>\n",
       "      <td>0.0</td>\n",
       "      <td>2019-06-14</td>\n",
       "      <td>0.79</td>\n",
       "      <td>5.0</td>\n",
       "      <td>1.0</td>\n",
       "      <td>379.0</td>\n",
       "    </tr>\n",
       "    <tr>\n",
       "      <th>17057</th>\n",
       "      <td>10421917</td>\n",
       "      <td>68447568701</td>\n",
       "      <td>verified</td>\n",
       "      <td>Joel</td>\n",
       "      <td>Manhattan</td>\n",
       "      <td>Lower East Side</td>\n",
       "      <td>40.71429</td>\n",
       "      <td>-73.98755</td>\n",
       "      <td>False</td>\n",
       "      <td>moderate</td>\n",
       "      <td>...</td>\n",
       "      <td>2007.0</td>\n",
       "      <td>759.0</td>\n",
       "      <td>152.0</td>\n",
       "      <td>2.0</td>\n",
       "      <td>14.0</td>\n",
       "      <td>2017-07-28</td>\n",
       "      <td>0.38</td>\n",
       "      <td>1.0</td>\n",
       "      <td>1.0</td>\n",
       "      <td>426.0</td>\n",
       "    </tr>\n",
       "    <tr>\n",
       "      <th>85193</th>\n",
       "      <td>48053430</td>\n",
       "      <td>30891001418</td>\n",
       "      <td>unconfirmed</td>\n",
       "      <td>Samantha</td>\n",
       "      <td>Brooklyn</td>\n",
       "      <td>Carroll Gardens</td>\n",
       "      <td>40.68233</td>\n",
       "      <td>-73.99373</td>\n",
       "      <td>False</td>\n",
       "      <td>strict</td>\n",
       "      <td>...</td>\n",
       "      <td>2007.0</td>\n",
       "      <td>969.0</td>\n",
       "      <td>194.0</td>\n",
       "      <td>2.0</td>\n",
       "      <td>0.0</td>\n",
       "      <td>2019-06-14</td>\n",
       "      <td>0.79</td>\n",
       "      <td>5.0</td>\n",
       "      <td>2.0</td>\n",
       "      <td>392.0</td>\n",
       "    </tr>\n",
       "  </tbody>\n",
       "</table>\n",
       "<p>2348 rows × 21 columns</p>\n",
       "</div>"
      ],
      "text/plain": [
       "             id      host_id host_identity_verified host_name  \\\n",
       "5       1004098  45498551794               verified  Michelle   \n",
       "9       1006307  75527839483            unconfirmed      Carl   \n",
       "25      1015144  48387947293            unconfirmed   Miranda   \n",
       "33      1019562  50968902783            unconfirmed      John   \n",
       "34      1020114  25066620900               verified    Alfred   \n",
       "...         ...          ...                    ...       ...   \n",
       "17036  10410319  53341280844               verified   Ephraim   \n",
       "17052  10419156  24203220360            unconfirmed      Josh   \n",
       "17053  10419708   5213685166               verified     Chris   \n",
       "17057  10421917  68447568701               verified      Joel   \n",
       "85193  48053430  30891001418            unconfirmed  Samantha   \n",
       "\n",
       "      neighbourhood_group       neighbourhood       lat      long  \\\n",
       "5               Manhattan         Murray Hill  40.74767 -73.97500   \n",
       "9               Manhattan     Upper West Side  40.80178 -73.96723   \n",
       "25               Brooklyn  Bedford-Stuyvesant  40.68371 -73.94028   \n",
       "33               Brooklyn          Greenpoint  40.72219 -73.93762   \n",
       "34              Manhattan              Harlem  40.82130 -73.95318   \n",
       "...                   ...                 ...       ...       ...   \n",
       "17036           Manhattan              Harlem  40.81589 -73.94648   \n",
       "17052           Manhattan     Upper West Side  40.76986 -73.98673   \n",
       "17053            Brooklyn        Williamsburg  40.71182 -73.95692   \n",
       "17057           Manhattan     Lower East Side  40.71429 -73.98755   \n",
       "85193            Brooklyn     Carroll Gardens  40.68233 -73.99373   \n",
       "\n",
       "      instant_bookable cancellation_policy  ... construction_year   price  \\\n",
       "5                 True            flexible  ...            2013.0   577.0   \n",
       "9                False              strict  ...            2015.0   291.0   \n",
       "25                True              strict  ...            2006.0  1175.0   \n",
       "33                True            moderate  ...            2007.0   858.0   \n",
       "34                True              strict  ...            2021.0   545.0   \n",
       "...                ...                 ...  ...               ...     ...   \n",
       "17036            False            flexible  ...            2003.0   749.0   \n",
       "17052            False            flexible  ...            2018.0   643.0   \n",
       "17053             True              strict  ...            2012.0  1139.0   \n",
       "17057            False            moderate  ...            2007.0   759.0   \n",
       "85193            False              strict  ...            2007.0   969.0   \n",
       "\n",
       "       service_fee  minimum_nights  number_of_reviews  last_review  \\\n",
       "5            115.0             3.0               74.0   2019-06-22   \n",
       "9             58.0             2.0              118.0   2017-07-21   \n",
       "25           235.0             2.0               88.0   2019-06-19   \n",
       "33           172.0             4.0              197.0   2019-06-15   \n",
       "34           109.0             3.0              273.0   2019-07-01   \n",
       "...            ...             ...                ...          ...   \n",
       "17036        150.0             4.0              125.0   2019-06-20   \n",
       "17052        129.0             1.0                1.0   2016-08-09   \n",
       "17053        228.0             1.0                0.0   2019-06-14   \n",
       "17057        152.0             2.0               14.0   2017-07-28   \n",
       "85193        194.0             2.0                0.0   2019-06-14   \n",
       "\n",
       "      reviews_per_month  review_rate_number  calculated_host_listings_count  \\\n",
       "5                  0.59                 3.0                             1.0   \n",
       "9                  0.99                 5.0                             1.0   \n",
       "25                 0.73                 4.0                             2.0   \n",
       "33                 1.65                 NaN                             3.0   \n",
       "34                 2.37                 NaN                             3.0   \n",
       "...                 ...                 ...                             ...   \n",
       "17036              3.37                 4.0                             4.0   \n",
       "17052              0.03                 5.0                             1.0   \n",
       "17053              0.79                 5.0                             1.0   \n",
       "17057              0.38                 1.0                             1.0   \n",
       "85193              0.79                 5.0                             2.0   \n",
       "\n",
       "       availability_365  \n",
       "5                 374.0  \n",
       "9                 375.0  \n",
       "25                372.0  \n",
       "33                383.0  \n",
       "34                411.0  \n",
       "...                 ...  \n",
       "17036             409.0  \n",
       "17052             383.0  \n",
       "17053             379.0  \n",
       "17057             426.0  \n",
       "85193             392.0  \n",
       "\n",
       "[2348 rows x 21 columns]"
      ]
     },
     "execution_count": 53,
     "metadata": {},
     "output_type": "execute_result"
    }
   ],
   "source": [
    "# Checking for entries greater than 365\n",
    "ds[ds['availability_365']>365]"
   ]
  },
  {
   "cell_type": "code",
   "execution_count": 54,
   "id": "318f9832",
   "metadata": {},
   "outputs": [],
   "source": [
    "# Replacing the entries with null values\n",
    "ds.loc[ds['availability_365']>365, 'availability_365'] = np.nan"
   ]
  },
  {
   "cell_type": "code",
   "execution_count": 55,
   "id": "f64e9167",
   "metadata": {},
   "outputs": [
    {
     "data": {
      "text/plain": [
       "count    53844.000000\n",
       "mean       178.842025\n",
       "std        120.338277\n",
       "min          1.000000\n",
       "25%         68.000000\n",
       "50%        171.000000\n",
       "75%        295.000000\n",
       "max        365.000000\n",
       "Name: availability_365, dtype: float64"
      ]
     },
     "execution_count": 55,
     "metadata": {},
     "output_type": "execute_result"
    }
   ],
   "source": [
    "# Checking the statistics of the column\n",
    "ds['availability_365'].describe()\n"
   ]
  },
  {
   "cell_type": "code",
   "execution_count": 56,
   "id": "d29b56fd",
   "metadata": {
    "scrolled": false
   },
   "outputs": [
    {
     "data": {
      "text/plain": [
       "<AxesSubplot:ylabel='availability_365'>"
      ]
     },
     "execution_count": 56,
     "metadata": {},
     "output_type": "execute_result"
    },
    {
     "data": {
      "image/png": "[encoded data removed]",
      "text/plain": [
       "<Figure size 432x288 with 1 Axes>"
      ]
     },
     "metadata": {
      "needs_background": "light"
     },
     "output_type": "display_data"
    }
   ],
   "source": [
    "# Plotting a boxplot\n",
    "sns.boxplot(data=ds, y='availability_365')"
   ]
  },
  {
   "cell_type": "markdown",
   "id": "6e8b33f2",
   "metadata": {},
   "source": [
    "#### This shows there are no outliers in this column. So we can use mean to handle missing values"
   ]
  },
  {
   "cell_type": "code",
   "execution_count": 57,
   "id": "b8f96c85",
   "metadata": {},
   "outputs": [],
   "source": [
    "# Handling null values\n",
    "ds.loc[ds['availability_365'].isnull(), 'availability_365'] = ds['availability_365'].mean()"
   ]
  },
  {
   "cell_type": "code",
   "execution_count": 58,
   "id": "cf6ca831",
   "metadata": {},
   "outputs": [
    {
     "data": {
      "text/plain": [
       "count    69281.000000\n",
       "mean       178.842025\n",
       "std        106.087564\n",
       "min          1.000000\n",
       "25%         89.000000\n",
       "50%        178.842025\n",
       "75%        260.000000\n",
       "max        365.000000\n",
       "Name: availability_365, dtype: float64"
      ]
     },
     "execution_count": 58,
     "metadata": {},
     "output_type": "execute_result"
    }
   ],
   "source": [
    "# Checking the statistics\n",
    "ds['availability_365'].describe()"
   ]
  },
  {
   "cell_type": "markdown",
   "id": "822d0cc8",
   "metadata": {},
   "source": [
    "#### Since there is no big difference, we can conclude that the mean method works for this column."
   ]
  },
  {
   "cell_type": "markdown",
   "id": "178c76b7",
   "metadata": {},
   "source": [
    "### Checking the minimum_nights column"
   ]
  },
  {
   "cell_type": "code",
   "execution_count": 59,
   "id": "603591e5",
   "metadata": {},
   "outputs": [
    {
     "data": {
      "text/plain": [
       "count    68919.000000\n",
       "mean         8.715391\n",
       "std         34.626325\n",
       "min      -1223.000000\n",
       "25%          1.000000\n",
       "50%          3.000000\n",
       "75%          6.000000\n",
       "max       5645.000000\n",
       "Name: minimum_nights, dtype: float64"
      ]
     },
     "execution_count": 59,
     "metadata": {},
     "output_type": "execute_result"
    }
   ],
   "source": [
    "# Exploring the column\n",
    "ds['minimum_nights'].describe()"
   ]
  },
  {
   "cell_type": "markdown",
   "id": "4e3b7f30",
   "metadata": {},
   "source": [
    "#### This shows that there are negative numbers and also large positive numbers"
   ]
  },
  {
   "cell_type": "code",
   "execution_count": 60,
   "id": "dd799766",
   "metadata": {},
   "outputs": [
    {
     "data": {
      "text/plain": [
       "<AxesSubplot:ylabel='minimum_nights'>"
      ]
     },
     "execution_count": 60,
     "metadata": {},
     "output_type": "execute_result"
    },
    {
     "data": {
      "image/png": "[encoded data removed]",
      "text/plain": [
       "<Figure size 432x288 with 1 Axes>"
      ]
     },
     "metadata": {
      "needs_background": "light"
     },
     "output_type": "display_data"
    }
   ],
   "source": [
    "# Plotting a boxplot\n",
    "sns.boxplot(data=ds, y='minimum_nights')"
   ]
  },
  {
   "cell_type": "code",
   "execution_count": 61,
   "id": "03e80277",
   "metadata": {},
   "outputs": [
    {
     "data": {
      "text/html": [
       "<div>\n",
       "<style scoped>\n",
       "    .dataframe tbody tr th:only-of-type {\n",
       "        vertical-align: middle;\n",
       "    }\n",
       "\n",
       "    .dataframe tbody tr th {\n",
       "        vertical-align: top;\n",
       "    }\n",
       "\n",
       "    .dataframe thead th {\n",
       "        text-align: right;\n",
       "    }\n",
       "</style>\n",
       "<table border=\"1\" class=\"dataframe\">\n",
       "  <thead>\n",
       "    <tr style=\"text-align: right;\">\n",
       "      <th></th>\n",
       "      <th>id</th>\n",
       "      <th>host_id</th>\n",
       "      <th>host_identity_verified</th>\n",
       "      <th>host_name</th>\n",
       "      <th>neighbourhood_group</th>\n",
       "      <th>neighbourhood</th>\n",
       "      <th>lat</th>\n",
       "      <th>long</th>\n",
       "      <th>instant_bookable</th>\n",
       "      <th>cancellation_policy</th>\n",
       "      <th>...</th>\n",
       "      <th>construction_year</th>\n",
       "      <th>price</th>\n",
       "      <th>service_fee</th>\n",
       "      <th>minimum_nights</th>\n",
       "      <th>number_of_reviews</th>\n",
       "      <th>last_review</th>\n",
       "      <th>reviews_per_month</th>\n",
       "      <th>review_rate_number</th>\n",
       "      <th>calculated_host_listings_count</th>\n",
       "      <th>availability_365</th>\n",
       "    </tr>\n",
       "  </thead>\n",
       "  <tbody>\n",
       "    <tr>\n",
       "      <th>176</th>\n",
       "      <td>1098541</td>\n",
       "      <td>83631499592</td>\n",
       "      <td>unconfirmed</td>\n",
       "      <td>Frederick</td>\n",
       "      <td>Brooklyn</td>\n",
       "      <td>Fort Greene</td>\n",
       "      <td>40.69098</td>\n",
       "      <td>-73.97113</td>\n",
       "      <td>False</td>\n",
       "      <td>flexible</td>\n",
       "      <td>...</td>\n",
       "      <td>2008.0</td>\n",
       "      <td>1155.0</td>\n",
       "      <td>231.0</td>\n",
       "      <td>-10.0</td>\n",
       "      <td>213.0</td>\n",
       "      <td>2019-06-24</td>\n",
       "      <td>2.00</td>\n",
       "      <td>5.0</td>\n",
       "      <td>2.0</td>\n",
       "      <td>19.000000</td>\n",
       "    </tr>\n",
       "    <tr>\n",
       "      <th>352</th>\n",
       "      <td>1195746</td>\n",
       "      <td>2227683633</td>\n",
       "      <td>unconfirmed</td>\n",
       "      <td>Grant</td>\n",
       "      <td>Brooklyn</td>\n",
       "      <td>Crown Heights</td>\n",
       "      <td>40.67174</td>\n",
       "      <td>-73.95663</td>\n",
       "      <td>True</td>\n",
       "      <td>moderate</td>\n",
       "      <td>...</td>\n",
       "      <td>2009.0</td>\n",
       "      <td>73.0</td>\n",
       "      <td>15.0</td>\n",
       "      <td>-5.0</td>\n",
       "      <td>104.0</td>\n",
       "      <td>2019-06-21</td>\n",
       "      <td>1.04</td>\n",
       "      <td>5.0</td>\n",
       "      <td>1.0</td>\n",
       "      <td>31.000000</td>\n",
       "    </tr>\n",
       "    <tr>\n",
       "      <th>398</th>\n",
       "      <td>1221151</td>\n",
       "      <td>50336791874</td>\n",
       "      <td>verified</td>\n",
       "      <td>Tucker</td>\n",
       "      <td>Brooklyn</td>\n",
       "      <td>Kensington</td>\n",
       "      <td>40.64302</td>\n",
       "      <td>-73.97255</td>\n",
       "      <td>False</td>\n",
       "      <td>flexible</td>\n",
       "      <td>...</td>\n",
       "      <td>2015.0</td>\n",
       "      <td>779.0</td>\n",
       "      <td>156.0</td>\n",
       "      <td>-1.0</td>\n",
       "      <td>82.0</td>\n",
       "      <td>2019-05-19</td>\n",
       "      <td>0.94</td>\n",
       "      <td>2.0</td>\n",
       "      <td>2.0</td>\n",
       "      <td>131.000000</td>\n",
       "    </tr>\n",
       "    <tr>\n",
       "      <th>421</th>\n",
       "      <td>1233854</td>\n",
       "      <td>7389895192</td>\n",
       "      <td>verified</td>\n",
       "      <td>Belinda</td>\n",
       "      <td>Manhattan</td>\n",
       "      <td>Nolita</td>\n",
       "      <td>40.72094</td>\n",
       "      <td>-73.99706</td>\n",
       "      <td>False</td>\n",
       "      <td>flexible</td>\n",
       "      <td>...</td>\n",
       "      <td>2008.0</td>\n",
       "      <td>874.0</td>\n",
       "      <td>175.0</td>\n",
       "      <td>-10.0</td>\n",
       "      <td>68.0</td>\n",
       "      <td>2019-06-10</td>\n",
       "      <td>0.69</td>\n",
       "      <td>5.0</td>\n",
       "      <td>1.0</td>\n",
       "      <td>13.000000</td>\n",
       "    </tr>\n",
       "    <tr>\n",
       "      <th>441</th>\n",
       "      <td>1244900</td>\n",
       "      <td>81186886194</td>\n",
       "      <td>verified</td>\n",
       "      <td>Adelaide</td>\n",
       "      <td>Manhattan</td>\n",
       "      <td>Harlem</td>\n",
       "      <td>40.80497</td>\n",
       "      <td>-73.95016</td>\n",
       "      <td>False</td>\n",
       "      <td>moderate</td>\n",
       "      <td>...</td>\n",
       "      <td>2021.0</td>\n",
       "      <td>920.0</td>\n",
       "      <td>184.0</td>\n",
       "      <td>-12.0</td>\n",
       "      <td>203.0</td>\n",
       "      <td>2019-07-06</td>\n",
       "      <td>2.14</td>\n",
       "      <td>5.0</td>\n",
       "      <td>3.0</td>\n",
       "      <td>77.000000</td>\n",
       "    </tr>\n",
       "    <tr>\n",
       "      <th>478</th>\n",
       "      <td>1265335</td>\n",
       "      <td>89878315253</td>\n",
       "      <td>unconfirmed</td>\n",
       "      <td>Alen</td>\n",
       "      <td>Manhattan</td>\n",
       "      <td>Upper West Side</td>\n",
       "      <td>40.77886</td>\n",
       "      <td>-73.98042</td>\n",
       "      <td>True</td>\n",
       "      <td>strict</td>\n",
       "      <td>...</td>\n",
       "      <td>2022.0</td>\n",
       "      <td>410.0</td>\n",
       "      <td>82.0</td>\n",
       "      <td>-2.0</td>\n",
       "      <td>129.0</td>\n",
       "      <td>2019-06-07</td>\n",
       "      <td>1.33</td>\n",
       "      <td>2.0</td>\n",
       "      <td>1.0</td>\n",
       "      <td>178.842025</td>\n",
       "    </tr>\n",
       "    <tr>\n",
       "      <th>525</th>\n",
       "      <td>1291294</td>\n",
       "      <td>2631536622</td>\n",
       "      <td>verified</td>\n",
       "      <td>Carlos</td>\n",
       "      <td>Brooklyn</td>\n",
       "      <td>Bedford-Stuyvesant</td>\n",
       "      <td>40.68967</td>\n",
       "      <td>-73.95445</td>\n",
       "      <td>False</td>\n",
       "      <td>moderate</td>\n",
       "      <td>...</td>\n",
       "      <td>2022.0</td>\n",
       "      <td>413.0</td>\n",
       "      <td>83.0</td>\n",
       "      <td>-3.0</td>\n",
       "      <td>42.0</td>\n",
       "      <td>2019-05-18</td>\n",
       "      <td>0.44</td>\n",
       "      <td>5.0</td>\n",
       "      <td>1.0</td>\n",
       "      <td>292.000000</td>\n",
       "    </tr>\n",
       "    <tr>\n",
       "      <th>42446</th>\n",
       "      <td>24444262</td>\n",
       "      <td>84040511136</td>\n",
       "      <td>verified</td>\n",
       "      <td>Steven</td>\n",
       "      <td>Bronx</td>\n",
       "      <td>Hunts Point</td>\n",
       "      <td>40.81731</td>\n",
       "      <td>-73.89052</td>\n",
       "      <td>False</td>\n",
       "      <td>moderate</td>\n",
       "      <td>...</td>\n",
       "      <td>2003.0</td>\n",
       "      <td>1200.0</td>\n",
       "      <td>240.0</td>\n",
       "      <td>-1223.0</td>\n",
       "      <td>0.0</td>\n",
       "      <td>2019-06-14</td>\n",
       "      <td>0.79</td>\n",
       "      <td>2.0</td>\n",
       "      <td>4.0</td>\n",
       "      <td>341.000000</td>\n",
       "    </tr>\n",
       "    <tr>\n",
       "      <th>42500</th>\n",
       "      <td>24474086</td>\n",
       "      <td>2679070022</td>\n",
       "      <td>unconfirmed</td>\n",
       "      <td>Tom</td>\n",
       "      <td>Manhattan</td>\n",
       "      <td>Hell's Kitchen</td>\n",
       "      <td>40.76694</td>\n",
       "      <td>-73.98773</td>\n",
       "      <td>True</td>\n",
       "      <td>flexible</td>\n",
       "      <td>...</td>\n",
       "      <td>2009.0</td>\n",
       "      <td>711.0</td>\n",
       "      <td>142.0</td>\n",
       "      <td>-365.0</td>\n",
       "      <td>13.0</td>\n",
       "      <td>2019-07-07</td>\n",
       "      <td>5.91</td>\n",
       "      <td>4.0</td>\n",
       "      <td>4.0</td>\n",
       "      <td>178.842025</td>\n",
       "    </tr>\n",
       "    <tr>\n",
       "      <th>42538</th>\n",
       "      <td>24495073</td>\n",
       "      <td>98469733112</td>\n",
       "      <td>verified</td>\n",
       "      <td>Margie</td>\n",
       "      <td>Brooklyn</td>\n",
       "      <td>Bedford-Stuyvesant</td>\n",
       "      <td>40.68470</td>\n",
       "      <td>-73.94350</td>\n",
       "      <td>True</td>\n",
       "      <td>moderate</td>\n",
       "      <td>...</td>\n",
       "      <td>2022.0</td>\n",
       "      <td>85.0</td>\n",
       "      <td>17.0</td>\n",
       "      <td>-200.0</td>\n",
       "      <td>3.0</td>\n",
       "      <td>2019-04-23</td>\n",
       "      <td>1.06</td>\n",
       "      <td>2.0</td>\n",
       "      <td>1.0</td>\n",
       "      <td>157.000000</td>\n",
       "    </tr>\n",
       "  </tbody>\n",
       "</table>\n",
       "<p>10 rows × 21 columns</p>\n",
       "</div>"
      ],
      "text/plain": [
       "             id      host_id host_identity_verified  host_name  \\\n",
       "176     1098541  83631499592            unconfirmed  Frederick   \n",
       "352     1195746   2227683633            unconfirmed      Grant   \n",
       "398     1221151  50336791874               verified     Tucker   \n",
       "421     1233854   7389895192               verified    Belinda   \n",
       "441     1244900  81186886194               verified   Adelaide   \n",
       "478     1265335  89878315253            unconfirmed       Alen   \n",
       "525     1291294   2631536622               verified     Carlos   \n",
       "42446  24444262  84040511136               verified     Steven   \n",
       "42500  24474086   2679070022            unconfirmed        Tom   \n",
       "42538  24495073  98469733112               verified     Margie   \n",
       "\n",
       "      neighbourhood_group       neighbourhood       lat      long  \\\n",
       "176              Brooklyn         Fort Greene  40.69098 -73.97113   \n",
       "352              Brooklyn       Crown Heights  40.67174 -73.95663   \n",
       "398              Brooklyn          Kensington  40.64302 -73.97255   \n",
       "421             Manhattan              Nolita  40.72094 -73.99706   \n",
       "441             Manhattan              Harlem  40.80497 -73.95016   \n",
       "478             Manhattan     Upper West Side  40.77886 -73.98042   \n",
       "525              Brooklyn  Bedford-Stuyvesant  40.68967 -73.95445   \n",
       "42446               Bronx         Hunts Point  40.81731 -73.89052   \n",
       "42500           Manhattan      Hell's Kitchen  40.76694 -73.98773   \n",
       "42538            Brooklyn  Bedford-Stuyvesant  40.68470 -73.94350   \n",
       "\n",
       "      instant_bookable cancellation_policy  ... construction_year   price  \\\n",
       "176              False            flexible  ...            2008.0  1155.0   \n",
       "352               True            moderate  ...            2009.0    73.0   \n",
       "398              False            flexible  ...            2015.0   779.0   \n",
       "421              False            flexible  ...            2008.0   874.0   \n",
       "441              False            moderate  ...            2021.0   920.0   \n",
       "478               True              strict  ...            2022.0   410.0   \n",
       "525              False            moderate  ...            2022.0   413.0   \n",
       "42446            False            moderate  ...            2003.0  1200.0   \n",
       "42500             True            flexible  ...            2009.0   711.0   \n",
       "42538             True            moderate  ...            2022.0    85.0   \n",
       "\n",
       "       service_fee  minimum_nights  number_of_reviews  last_review  \\\n",
       "176          231.0           -10.0              213.0   2019-06-24   \n",
       "352           15.0            -5.0              104.0   2019-06-21   \n",
       "398          156.0            -1.0               82.0   2019-05-19   \n",
       "421          175.0           -10.0               68.0   2019-06-10   \n",
       "441          184.0           -12.0              203.0   2019-07-06   \n",
       "478           82.0            -2.0              129.0   2019-06-07   \n",
       "525           83.0            -3.0               42.0   2019-05-18   \n",
       "42446        240.0         -1223.0                0.0   2019-06-14   \n",
       "42500        142.0          -365.0               13.0   2019-07-07   \n",
       "42538         17.0          -200.0                3.0   2019-04-23   \n",
       "\n",
       "      reviews_per_month  review_rate_number  calculated_host_listings_count  \\\n",
       "176                2.00                 5.0                             2.0   \n",
       "352                1.04                 5.0                             1.0   \n",
       "398                0.94                 2.0                             2.0   \n",
       "421                0.69                 5.0                             1.0   \n",
       "441                2.14                 5.0                             3.0   \n",
       "478                1.33                 2.0                             1.0   \n",
       "525                0.44                 5.0                             1.0   \n",
       "42446              0.79                 2.0                             4.0   \n",
       "42500              5.91                 4.0                             4.0   \n",
       "42538              1.06                 2.0                             1.0   \n",
       "\n",
       "       availability_365  \n",
       "176           19.000000  \n",
       "352           31.000000  \n",
       "398          131.000000  \n",
       "421           13.000000  \n",
       "441           77.000000  \n",
       "478          178.842025  \n",
       "525          292.000000  \n",
       "42446        341.000000  \n",
       "42500        178.842025  \n",
       "42538        157.000000  \n",
       "\n",
       "[10 rows x 21 columns]"
      ]
     },
     "execution_count": 61,
     "metadata": {},
     "output_type": "execute_result"
    }
   ],
   "source": [
    "# Checking the entries of minimum nights that have negative values\n",
    "ds[ds['minimum_nights']<1]"
   ]
  },
  {
   "cell_type": "markdown",
   "id": "c32deef8",
   "metadata": {},
   "source": [
    "#### It is impossible for this column to have any entry less than a night(1) so we can treat them as null values"
   ]
  },
  {
   "cell_type": "code",
   "execution_count": 62,
   "id": "be6e6406",
   "metadata": {},
   "outputs": [],
   "source": [
    "# Replacing negative values with null values\n",
    "ds.loc[ds['minimum_nights']<1, 'minimum_nights'] = np.nan"
   ]
  },
  {
   "cell_type": "code",
   "execution_count": 63,
   "id": "44c4bb65",
   "metadata": {},
   "outputs": [
    {
     "data": {
      "text/html": [
       "<div>\n",
       "<style scoped>\n",
       "    .dataframe tbody tr th:only-of-type {\n",
       "        vertical-align: middle;\n",
       "    }\n",
       "\n",
       "    .dataframe tbody tr th {\n",
       "        vertical-align: top;\n",
       "    }\n",
       "\n",
       "    .dataframe thead th {\n",
       "        text-align: right;\n",
       "    }\n",
       "</style>\n",
       "<table border=\"1\" class=\"dataframe\">\n",
       "  <thead>\n",
       "    <tr style=\"text-align: right;\">\n",
       "      <th></th>\n",
       "      <th>id</th>\n",
       "      <th>host_id</th>\n",
       "      <th>host_identity_verified</th>\n",
       "      <th>host_name</th>\n",
       "      <th>neighbourhood_group</th>\n",
       "      <th>neighbourhood</th>\n",
       "      <th>lat</th>\n",
       "      <th>long</th>\n",
       "      <th>instant_bookable</th>\n",
       "      <th>cancellation_policy</th>\n",
       "      <th>...</th>\n",
       "      <th>construction_year</th>\n",
       "      <th>price</th>\n",
       "      <th>service_fee</th>\n",
       "      <th>minimum_nights</th>\n",
       "      <th>number_of_reviews</th>\n",
       "      <th>last_review</th>\n",
       "      <th>reviews_per_month</th>\n",
       "      <th>review_rate_number</th>\n",
       "      <th>calculated_host_listings_count</th>\n",
       "      <th>availability_365</th>\n",
       "    </tr>\n",
       "  </thead>\n",
       "  <tbody>\n",
       "    <tr>\n",
       "      <th>167</th>\n",
       "      <td>1093570</td>\n",
       "      <td>29280666536</td>\n",
       "      <td>unconfirmed</td>\n",
       "      <td>Agata</td>\n",
       "      <td>Manhattan</td>\n",
       "      <td>Harlem</td>\n",
       "      <td>40.82704</td>\n",
       "      <td>-73.94907</td>\n",
       "      <td>False</td>\n",
       "      <td>flexible</td>\n",
       "      <td>...</td>\n",
       "      <td>2011.0</td>\n",
       "      <td>375.0</td>\n",
       "      <td>75.0</td>\n",
       "      <td>371.0</td>\n",
       "      <td>2.0</td>\n",
       "      <td>2015-11-02</td>\n",
       "      <td>0.79</td>\n",
       "      <td>4.0</td>\n",
       "      <td>1.0</td>\n",
       "      <td>70.000000</td>\n",
       "    </tr>\n",
       "    <tr>\n",
       "      <th>186</th>\n",
       "      <td>1104064</td>\n",
       "      <td>93242543275</td>\n",
       "      <td>verified</td>\n",
       "      <td>Natalie</td>\n",
       "      <td>Brooklyn</td>\n",
       "      <td>Bedford-Stuyvesant</td>\n",
       "      <td>40.67992</td>\n",
       "      <td>-73.94750</td>\n",
       "      <td>False</td>\n",
       "      <td>strict</td>\n",
       "      <td>...</td>\n",
       "      <td>2015.0</td>\n",
       "      <td>946.0</td>\n",
       "      <td>189.0</td>\n",
       "      <td>366.0</td>\n",
       "      <td>126.0</td>\n",
       "      <td>2019-05-19</td>\n",
       "      <td>1.17</td>\n",
       "      <td>NaN</td>\n",
       "      <td>4.0</td>\n",
       "      <td>332.000000</td>\n",
       "    </tr>\n",
       "    <tr>\n",
       "      <th>263</th>\n",
       "      <td>1146591</td>\n",
       "      <td>4292764830</td>\n",
       "      <td>verified</td>\n",
       "      <td>Reed</td>\n",
       "      <td>Brooklyn</td>\n",
       "      <td>Bedford-Stuyvesant</td>\n",
       "      <td>40.68236</td>\n",
       "      <td>-73.94314</td>\n",
       "      <td>False</td>\n",
       "      <td>flexible</td>\n",
       "      <td>...</td>\n",
       "      <td>2007.0</td>\n",
       "      <td>841.0</td>\n",
       "      <td>168.0</td>\n",
       "      <td>399.0</td>\n",
       "      <td>248.0</td>\n",
       "      <td>2019-06-25</td>\n",
       "      <td>2.39</td>\n",
       "      <td>4.0</td>\n",
       "      <td>2.0</td>\n",
       "      <td>178.842025</td>\n",
       "    </tr>\n",
       "    <tr>\n",
       "      <th>299</th>\n",
       "      <td>1166474</td>\n",
       "      <td>66810551515</td>\n",
       "      <td>unconfirmed</td>\n",
       "      <td>Russell</td>\n",
       "      <td>Brooklyn</td>\n",
       "      <td>Greenpoint</td>\n",
       "      <td>40.73119</td>\n",
       "      <td>-73.95578</td>\n",
       "      <td>False</td>\n",
       "      <td>strict</td>\n",
       "      <td>...</td>\n",
       "      <td>2011.0</td>\n",
       "      <td>614.0</td>\n",
       "      <td>123.0</td>\n",
       "      <td>452.0</td>\n",
       "      <td>6.0</td>\n",
       "      <td>2016-11-13</td>\n",
       "      <td>0.10</td>\n",
       "      <td>4.0</td>\n",
       "      <td>1.0</td>\n",
       "      <td>351.000000</td>\n",
       "    </tr>\n",
       "    <tr>\n",
       "      <th>350</th>\n",
       "      <td>1194641</td>\n",
       "      <td>66643346348</td>\n",
       "      <td>verified</td>\n",
       "      <td>Russell</td>\n",
       "      <td>Brooklyn</td>\n",
       "      <td>Crown Heights</td>\n",
       "      <td>40.67473</td>\n",
       "      <td>-73.94494</td>\n",
       "      <td>False</td>\n",
       "      <td>flexible</td>\n",
       "      <td>...</td>\n",
       "      <td>2003.0</td>\n",
       "      <td>1142.0</td>\n",
       "      <td>228.0</td>\n",
       "      <td>3455.0</td>\n",
       "      <td>0.0</td>\n",
       "      <td>2019-06-14</td>\n",
       "      <td>0.79</td>\n",
       "      <td>1.0</td>\n",
       "      <td>1.0</td>\n",
       "      <td>178.842025</td>\n",
       "    </tr>\n",
       "    <tr>\n",
       "      <th>473</th>\n",
       "      <td>1262574</td>\n",
       "      <td>60243935879</td>\n",
       "      <td>unconfirmed</td>\n",
       "      <td>Sarah</td>\n",
       "      <td>Manhattan</td>\n",
       "      <td>Washington Heights</td>\n",
       "      <td>40.84468</td>\n",
       "      <td>-73.94303</td>\n",
       "      <td>True</td>\n",
       "      <td>strict</td>\n",
       "      <td>...</td>\n",
       "      <td>2016.0</td>\n",
       "      <td>409.0</td>\n",
       "      <td>82.0</td>\n",
       "      <td>398.0</td>\n",
       "      <td>34.0</td>\n",
       "      <td>2019-06-15</td>\n",
       "      <td>0.35</td>\n",
       "      <td>1.0</td>\n",
       "      <td>1.0</td>\n",
       "      <td>182.000000</td>\n",
       "    </tr>\n",
       "    <tr>\n",
       "      <th>1306</th>\n",
       "      <td>1722640</td>\n",
       "      <td>82992796482</td>\n",
       "      <td>unconfirmed</td>\n",
       "      <td>Alessandra</td>\n",
       "      <td>Brooklyn</td>\n",
       "      <td>Bushwick</td>\n",
       "      <td>40.70202</td>\n",
       "      <td>-73.92402</td>\n",
       "      <td>False</td>\n",
       "      <td>strict</td>\n",
       "      <td>...</td>\n",
       "      <td>2011.0</td>\n",
       "      <td>1179.0</td>\n",
       "      <td>236.0</td>\n",
       "      <td>370.0</td>\n",
       "      <td>6.0</td>\n",
       "      <td>2018-04-15</td>\n",
       "      <td>0.09</td>\n",
       "      <td>5.0</td>\n",
       "      <td>1.0</td>\n",
       "      <td>166.000000</td>\n",
       "    </tr>\n",
       "    <tr>\n",
       "      <th>2855</th>\n",
       "      <td>2578153</td>\n",
       "      <td>80972338384</td>\n",
       "      <td>verified</td>\n",
       "      <td>Peter</td>\n",
       "      <td>Manhattan</td>\n",
       "      <td>Battery Park City</td>\n",
       "      <td>40.71239</td>\n",
       "      <td>-74.01620</td>\n",
       "      <td>True</td>\n",
       "      <td>moderate</td>\n",
       "      <td>...</td>\n",
       "      <td>2016.0</td>\n",
       "      <td>198.0</td>\n",
       "      <td>40.0</td>\n",
       "      <td>1000.0</td>\n",
       "      <td>0.0</td>\n",
       "      <td>2019-06-14</td>\n",
       "      <td>0.79</td>\n",
       "      <td>3.0</td>\n",
       "      <td>1.0</td>\n",
       "      <td>88.000000</td>\n",
       "    </tr>\n",
       "    <tr>\n",
       "      <th>5768</th>\n",
       "      <td>4187002</td>\n",
       "      <td>62526606377</td>\n",
       "      <td>verified</td>\n",
       "      <td>Genevieve</td>\n",
       "      <td>Manhattan</td>\n",
       "      <td>Greenwich Village</td>\n",
       "      <td>40.73293</td>\n",
       "      <td>-73.99782</td>\n",
       "      <td>False</td>\n",
       "      <td>moderate</td>\n",
       "      <td>...</td>\n",
       "      <td>2008.0</td>\n",
       "      <td>379.0</td>\n",
       "      <td>76.0</td>\n",
       "      <td>1250.0</td>\n",
       "      <td>2.0</td>\n",
       "      <td>2014-11-09</td>\n",
       "      <td>0.03</td>\n",
       "      <td>2.0</td>\n",
       "      <td>1.0</td>\n",
       "      <td>26.000000</td>\n",
       "    </tr>\n",
       "    <tr>\n",
       "      <th>7356</th>\n",
       "      <td>5064055</td>\n",
       "      <td>88663579912</td>\n",
       "      <td>verified</td>\n",
       "      <td>Aliya</td>\n",
       "      <td>Queens</td>\n",
       "      <td>Long Island City</td>\n",
       "      <td>40.75104</td>\n",
       "      <td>-73.93863</td>\n",
       "      <td>True</td>\n",
       "      <td>moderate</td>\n",
       "      <td>...</td>\n",
       "      <td>2013.0</td>\n",
       "      <td>129.0</td>\n",
       "      <td>26.0</td>\n",
       "      <td>500.0</td>\n",
       "      <td>30.0</td>\n",
       "      <td>2018-06-24</td>\n",
       "      <td>0.57</td>\n",
       "      <td>2.0</td>\n",
       "      <td>1.0</td>\n",
       "      <td>193.000000</td>\n",
       "    </tr>\n",
       "    <tr>\n",
       "      <th>8015</th>\n",
       "      <td>5428021</td>\n",
       "      <td>60995434243</td>\n",
       "      <td>verified</td>\n",
       "      <td>John</td>\n",
       "      <td>Manhattan</td>\n",
       "      <td>Harlem</td>\n",
       "      <td>40.82135</td>\n",
       "      <td>-73.95521</td>\n",
       "      <td>False</td>\n",
       "      <td>moderate</td>\n",
       "      <td>...</td>\n",
       "      <td>2010.0</td>\n",
       "      <td>920.0</td>\n",
       "      <td>184.0</td>\n",
       "      <td>500.0</td>\n",
       "      <td>0.0</td>\n",
       "      <td>2019-06-14</td>\n",
       "      <td>0.79</td>\n",
       "      <td>1.0</td>\n",
       "      <td>1.0</td>\n",
       "      <td>185.000000</td>\n",
       "    </tr>\n",
       "    <tr>\n",
       "      <th>10830</th>\n",
       "      <td>6982745</td>\n",
       "      <td>69119028013</td>\n",
       "      <td>verified</td>\n",
       "      <td>Shining</td>\n",
       "      <td>Queens</td>\n",
       "      <td>Long Island City</td>\n",
       "      <td>40.74654</td>\n",
       "      <td>-73.95778</td>\n",
       "      <td>False</td>\n",
       "      <td>strict</td>\n",
       "      <td>...</td>\n",
       "      <td>2017.0</td>\n",
       "      <td>890.0</td>\n",
       "      <td>178.0</td>\n",
       "      <td>480.0</td>\n",
       "      <td>0.0</td>\n",
       "      <td>2019-06-14</td>\n",
       "      <td>0.79</td>\n",
       "      <td>1.0</td>\n",
       "      <td>1.0</td>\n",
       "      <td>313.000000</td>\n",
       "    </tr>\n",
       "    <tr>\n",
       "      <th>11194</th>\n",
       "      <td>7183782</td>\n",
       "      <td>10818126630</td>\n",
       "      <td>unconfirmed</td>\n",
       "      <td>Laura</td>\n",
       "      <td>Brooklyn</td>\n",
       "      <td>Crown Heights</td>\n",
       "      <td>40.67255</td>\n",
       "      <td>-73.94914</td>\n",
       "      <td>False</td>\n",
       "      <td>moderate</td>\n",
       "      <td>...</td>\n",
       "      <td>2022.0</td>\n",
       "      <td>1156.0</td>\n",
       "      <td>231.0</td>\n",
       "      <td>500.0</td>\n",
       "      <td>10.0</td>\n",
       "      <td>2016-09-22</td>\n",
       "      <td>0.22</td>\n",
       "      <td>3.0</td>\n",
       "      <td>1.0</td>\n",
       "      <td>212.000000</td>\n",
       "    </tr>\n",
       "    <tr>\n",
       "      <th>13405</th>\n",
       "      <td>8404918</td>\n",
       "      <td>43219664735</td>\n",
       "      <td>verified</td>\n",
       "      <td>Glenn H.</td>\n",
       "      <td>Manhattan</td>\n",
       "      <td>Harlem</td>\n",
       "      <td>40.82915</td>\n",
       "      <td>-73.94034</td>\n",
       "      <td>False</td>\n",
       "      <td>moderate</td>\n",
       "      <td>...</td>\n",
       "      <td>2016.0</td>\n",
       "      <td>805.0</td>\n",
       "      <td>161.0</td>\n",
       "      <td>999.0</td>\n",
       "      <td>2.0</td>\n",
       "      <td>2018-01-04</td>\n",
       "      <td>0.07</td>\n",
       "      <td>3.0</td>\n",
       "      <td>1.0</td>\n",
       "      <td>137.000000</td>\n",
       "    </tr>\n",
       "    <tr>\n",
       "      <th>14286</th>\n",
       "      <td>8891494</td>\n",
       "      <td>47208391811</td>\n",
       "      <td>unconfirmed</td>\n",
       "      <td>Amanda</td>\n",
       "      <td>Brooklyn</td>\n",
       "      <td>Kensington</td>\n",
       "      <td>40.64779</td>\n",
       "      <td>-73.97956</td>\n",
       "      <td>True</td>\n",
       "      <td>moderate</td>\n",
       "      <td>...</td>\n",
       "      <td>2005.0</td>\n",
       "      <td>1071.0</td>\n",
       "      <td>214.0</td>\n",
       "      <td>500.0</td>\n",
       "      <td>0.0</td>\n",
       "      <td>2019-06-14</td>\n",
       "      <td>0.79</td>\n",
       "      <td>1.0</td>\n",
       "      <td>1.0</td>\n",
       "      <td>224.000000</td>\n",
       "    </tr>\n",
       "    <tr>\n",
       "      <th>15947</th>\n",
       "      <td>9808864</td>\n",
       "      <td>39894690915</td>\n",
       "      <td>unconfirmed</td>\n",
       "      <td>Sarah</td>\n",
       "      <td>Manhattan</td>\n",
       "      <td>Midtown</td>\n",
       "      <td>40.74513</td>\n",
       "      <td>-73.98475</td>\n",
       "      <td>False</td>\n",
       "      <td>moderate</td>\n",
       "      <td>...</td>\n",
       "      <td>2022.0</td>\n",
       "      <td>1008.0</td>\n",
       "      <td>202.0</td>\n",
       "      <td>366.0</td>\n",
       "      <td>0.0</td>\n",
       "      <td>2019-06-14</td>\n",
       "      <td>0.79</td>\n",
       "      <td>3.0</td>\n",
       "      <td>1.0</td>\n",
       "      <td>93.000000</td>\n",
       "    </tr>\n",
       "    <tr>\n",
       "      <th>26342</th>\n",
       "      <td>15550023</td>\n",
       "      <td>21129170893</td>\n",
       "      <td>unconfirmed</td>\n",
       "      <td>Angie</td>\n",
       "      <td>Brooklyn</td>\n",
       "      <td>Williamsburg</td>\n",
       "      <td>40.71772</td>\n",
       "      <td>-73.95059</td>\n",
       "      <td>False</td>\n",
       "      <td>moderate</td>\n",
       "      <td>...</td>\n",
       "      <td>2009.0</td>\n",
       "      <td>121.0</td>\n",
       "      <td>24.0</td>\n",
       "      <td>999.0</td>\n",
       "      <td>24.0</td>\n",
       "      <td>2018-06-28</td>\n",
       "      <td>1.12</td>\n",
       "      <td>3.0</td>\n",
       "      <td>6.0</td>\n",
       "      <td>249.000000</td>\n",
       "    </tr>\n",
       "    <tr>\n",
       "      <th>34488</th>\n",
       "      <td>20049058</td>\n",
       "      <td>55606424130</td>\n",
       "      <td>verified</td>\n",
       "      <td>Sol</td>\n",
       "      <td>Brooklyn</td>\n",
       "      <td>Bedford-Stuyvesant</td>\n",
       "      <td>40.69974</td>\n",
       "      <td>-73.94658</td>\n",
       "      <td>True</td>\n",
       "      <td>moderate</td>\n",
       "      <td>...</td>\n",
       "      <td>2007.0</td>\n",
       "      <td>886.0</td>\n",
       "      <td>177.0</td>\n",
       "      <td>400.0</td>\n",
       "      <td>0.0</td>\n",
       "      <td>2019-06-14</td>\n",
       "      <td>0.79</td>\n",
       "      <td>3.0</td>\n",
       "      <td>1.0</td>\n",
       "      <td>90.000000</td>\n",
       "    </tr>\n",
       "    <tr>\n",
       "      <th>38665</th>\n",
       "      <td>22356016</td>\n",
       "      <td>1052706778</td>\n",
       "      <td>unconfirmed</td>\n",
       "      <td>Meg</td>\n",
       "      <td>Manhattan</td>\n",
       "      <td>Greenwich Village</td>\n",
       "      <td>40.73094</td>\n",
       "      <td>-73.99900</td>\n",
       "      <td>True</td>\n",
       "      <td>strict</td>\n",
       "      <td>...</td>\n",
       "      <td>2014.0</td>\n",
       "      <td>649.0</td>\n",
       "      <td>130.0</td>\n",
       "      <td>999.0</td>\n",
       "      <td>0.0</td>\n",
       "      <td>2019-06-14</td>\n",
       "      <td>0.79</td>\n",
       "      <td>4.0</td>\n",
       "      <td>1.0</td>\n",
       "      <td>365.000000</td>\n",
       "    </tr>\n",
       "    <tr>\n",
       "      <th>42354</th>\n",
       "      <td>24393450</td>\n",
       "      <td>89525916400</td>\n",
       "      <td>unconfirmed</td>\n",
       "      <td>Teri</td>\n",
       "      <td>Brooklyn</td>\n",
       "      <td>Prospect-Lefferts Gardens</td>\n",
       "      <td>40.66220</td>\n",
       "      <td>-73.96208</td>\n",
       "      <td>True</td>\n",
       "      <td>moderate</td>\n",
       "      <td>...</td>\n",
       "      <td>2012.0</td>\n",
       "      <td>753.0</td>\n",
       "      <td>151.0</td>\n",
       "      <td>452.0</td>\n",
       "      <td>0.0</td>\n",
       "      <td>2019-06-14</td>\n",
       "      <td>0.79</td>\n",
       "      <td>3.0</td>\n",
       "      <td>1.0</td>\n",
       "      <td>129.000000</td>\n",
       "    </tr>\n",
       "    <tr>\n",
       "      <th>42369</th>\n",
       "      <td>24401735</td>\n",
       "      <td>7625316716</td>\n",
       "      <td>unconfirmed</td>\n",
       "      <td>Shai</td>\n",
       "      <td>Manhattan</td>\n",
       "      <td>Upper East Side</td>\n",
       "      <td>40.76174</td>\n",
       "      <td>-73.96625</td>\n",
       "      <td>False</td>\n",
       "      <td>moderate</td>\n",
       "      <td>...</td>\n",
       "      <td>2016.0</td>\n",
       "      <td>360.0</td>\n",
       "      <td>72.0</td>\n",
       "      <td>954.0</td>\n",
       "      <td>1.0</td>\n",
       "      <td>2019-03-12</td>\n",
       "      <td>0.25</td>\n",
       "      <td>3.0</td>\n",
       "      <td>1.0</td>\n",
       "      <td>8.000000</td>\n",
       "    </tr>\n",
       "    <tr>\n",
       "      <th>42398</th>\n",
       "      <td>24417751</td>\n",
       "      <td>29378706293</td>\n",
       "      <td>verified</td>\n",
       "      <td>Elena</td>\n",
       "      <td>Brooklyn</td>\n",
       "      <td>Bushwick</td>\n",
       "      <td>40.70235</td>\n",
       "      <td>-73.92892</td>\n",
       "      <td>True</td>\n",
       "      <td>flexible</td>\n",
       "      <td>...</td>\n",
       "      <td>2013.0</td>\n",
       "      <td>453.0</td>\n",
       "      <td>91.0</td>\n",
       "      <td>5645.0</td>\n",
       "      <td>1.0</td>\n",
       "      <td>2019-06-05</td>\n",
       "      <td>0.88</td>\n",
       "      <td>4.0</td>\n",
       "      <td>1.0</td>\n",
       "      <td>178.842025</td>\n",
       "    </tr>\n",
       "    <tr>\n",
       "      <th>42407</th>\n",
       "      <td>24422722</td>\n",
       "      <td>83669529485</td>\n",
       "      <td>unconfirmed</td>\n",
       "      <td>Gk</td>\n",
       "      <td>Brooklyn</td>\n",
       "      <td>Bay Ridge</td>\n",
       "      <td>40.63189</td>\n",
       "      <td>-74.02322</td>\n",
       "      <td>False</td>\n",
       "      <td>moderate</td>\n",
       "      <td>...</td>\n",
       "      <td>2022.0</td>\n",
       "      <td>843.0</td>\n",
       "      <td>169.0</td>\n",
       "      <td>2645.0</td>\n",
       "      <td>14.0</td>\n",
       "      <td>2019-06-14</td>\n",
       "      <td>3.59</td>\n",
       "      <td>3.0</td>\n",
       "      <td>1.0</td>\n",
       "      <td>271.000000</td>\n",
       "    </tr>\n",
       "    <tr>\n",
       "      <th>47621</th>\n",
       "      <td>27302414</td>\n",
       "      <td>1013673628</td>\n",
       "      <td>unconfirmed</td>\n",
       "      <td>Meg</td>\n",
       "      <td>Brooklyn</td>\n",
       "      <td>Williamsburg</td>\n",
       "      <td>40.70898</td>\n",
       "      <td>-73.94885</td>\n",
       "      <td>False</td>\n",
       "      <td>moderate</td>\n",
       "      <td>...</td>\n",
       "      <td>2017.0</td>\n",
       "      <td>50.0</td>\n",
       "      <td>10.0</td>\n",
       "      <td>500.0</td>\n",
       "      <td>0.0</td>\n",
       "      <td>2019-06-14</td>\n",
       "      <td>0.79</td>\n",
       "      <td>4.0</td>\n",
       "      <td>1.0</td>\n",
       "      <td>331.000000</td>\n",
       "    </tr>\n",
       "    <tr>\n",
       "      <th>67608</th>\n",
       "      <td>38341234</td>\n",
       "      <td>47004141791</td>\n",
       "      <td>unconfirmed</td>\n",
       "      <td>Trudy</td>\n",
       "      <td>Manhattan</td>\n",
       "      <td>Upper East Side</td>\n",
       "      <td>40.77030</td>\n",
       "      <td>-73.96115</td>\n",
       "      <td>False</td>\n",
       "      <td>strict</td>\n",
       "      <td>...</td>\n",
       "      <td>2006.0</td>\n",
       "      <td>777.0</td>\n",
       "      <td>155.0</td>\n",
       "      <td>500.0</td>\n",
       "      <td>11.0</td>\n",
       "      <td>2020-03-17</td>\n",
       "      <td>0.36</td>\n",
       "      <td>4.0</td>\n",
       "      <td>2.0</td>\n",
       "      <td>29.000000</td>\n",
       "    </tr>\n",
       "  </tbody>\n",
       "</table>\n",
       "<p>25 rows × 21 columns</p>\n",
       "</div>"
      ],
      "text/plain": [
       "             id      host_id host_identity_verified   host_name  \\\n",
       "167     1093570  29280666536            unconfirmed       Agata   \n",
       "186     1104064  93242543275               verified     Natalie   \n",
       "263     1146591   4292764830               verified        Reed   \n",
       "299     1166474  66810551515            unconfirmed     Russell   \n",
       "350     1194641  66643346348               verified     Russell   \n",
       "473     1262574  60243935879            unconfirmed       Sarah   \n",
       "1306    1722640  82992796482            unconfirmed  Alessandra   \n",
       "2855    2578153  80972338384               verified       Peter   \n",
       "5768    4187002  62526606377               verified   Genevieve   \n",
       "7356    5064055  88663579912               verified       Aliya   \n",
       "8015    5428021  60995434243               verified        John   \n",
       "10830   6982745  69119028013               verified     Shining   \n",
       "11194   7183782  10818126630            unconfirmed       Laura   \n",
       "13405   8404918  43219664735               verified    Glenn H.   \n",
       "14286   8891494  47208391811            unconfirmed      Amanda   \n",
       "15947   9808864  39894690915            unconfirmed       Sarah   \n",
       "26342  15550023  21129170893            unconfirmed       Angie   \n",
       "34488  20049058  55606424130               verified         Sol   \n",
       "38665  22356016   1052706778            unconfirmed         Meg   \n",
       "42354  24393450  89525916400            unconfirmed        Teri   \n",
       "42369  24401735   7625316716            unconfirmed        Shai   \n",
       "42398  24417751  29378706293               verified       Elena   \n",
       "42407  24422722  83669529485            unconfirmed          Gk   \n",
       "47621  27302414   1013673628            unconfirmed         Meg   \n",
       "67608  38341234  47004141791            unconfirmed       Trudy   \n",
       "\n",
       "      neighbourhood_group              neighbourhood       lat      long  \\\n",
       "167             Manhattan                     Harlem  40.82704 -73.94907   \n",
       "186              Brooklyn         Bedford-Stuyvesant  40.67992 -73.94750   \n",
       "263              Brooklyn         Bedford-Stuyvesant  40.68236 -73.94314   \n",
       "299              Brooklyn                 Greenpoint  40.73119 -73.95578   \n",
       "350              Brooklyn              Crown Heights  40.67473 -73.94494   \n",
       "473             Manhattan         Washington Heights  40.84468 -73.94303   \n",
       "1306             Brooklyn                   Bushwick  40.70202 -73.92402   \n",
       "2855            Manhattan          Battery Park City  40.71239 -74.01620   \n",
       "5768            Manhattan          Greenwich Village  40.73293 -73.99782   \n",
       "7356               Queens           Long Island City  40.75104 -73.93863   \n",
       "8015            Manhattan                     Harlem  40.82135 -73.95521   \n",
       "10830              Queens           Long Island City  40.74654 -73.95778   \n",
       "11194            Brooklyn              Crown Heights  40.67255 -73.94914   \n",
       "13405           Manhattan                     Harlem  40.82915 -73.94034   \n",
       "14286            Brooklyn                 Kensington  40.64779 -73.97956   \n",
       "15947           Manhattan                    Midtown  40.74513 -73.98475   \n",
       "26342            Brooklyn               Williamsburg  40.71772 -73.95059   \n",
       "34488            Brooklyn         Bedford-Stuyvesant  40.69974 -73.94658   \n",
       "38665           Manhattan          Greenwich Village  40.73094 -73.99900   \n",
       "42354            Brooklyn  Prospect-Lefferts Gardens  40.66220 -73.96208   \n",
       "42369           Manhattan            Upper East Side  40.76174 -73.96625   \n",
       "42398            Brooklyn                   Bushwick  40.70235 -73.92892   \n",
       "42407            Brooklyn                  Bay Ridge  40.63189 -74.02322   \n",
       "47621            Brooklyn               Williamsburg  40.70898 -73.94885   \n",
       "67608           Manhattan            Upper East Side  40.77030 -73.96115   \n",
       "\n",
       "      instant_bookable cancellation_policy  ... construction_year   price  \\\n",
       "167              False            flexible  ...            2011.0   375.0   \n",
       "186              False              strict  ...            2015.0   946.0   \n",
       "263              False            flexible  ...            2007.0   841.0   \n",
       "299              False              strict  ...            2011.0   614.0   \n",
       "350              False            flexible  ...            2003.0  1142.0   \n",
       "473               True              strict  ...            2016.0   409.0   \n",
       "1306             False              strict  ...            2011.0  1179.0   \n",
       "2855              True            moderate  ...            2016.0   198.0   \n",
       "5768             False            moderate  ...            2008.0   379.0   \n",
       "7356              True            moderate  ...            2013.0   129.0   \n",
       "8015             False            moderate  ...            2010.0   920.0   \n",
       "10830            False              strict  ...            2017.0   890.0   \n",
       "11194            False            moderate  ...            2022.0  1156.0   \n",
       "13405            False            moderate  ...            2016.0   805.0   \n",
       "14286             True            moderate  ...            2005.0  1071.0   \n",
       "15947            False            moderate  ...            2022.0  1008.0   \n",
       "26342            False            moderate  ...            2009.0   121.0   \n",
       "34488             True            moderate  ...            2007.0   886.0   \n",
       "38665             True              strict  ...            2014.0   649.0   \n",
       "42354             True            moderate  ...            2012.0   753.0   \n",
       "42369            False            moderate  ...            2016.0   360.0   \n",
       "42398             True            flexible  ...            2013.0   453.0   \n",
       "42407            False            moderate  ...            2022.0   843.0   \n",
       "47621            False            moderate  ...            2017.0    50.0   \n",
       "67608            False              strict  ...            2006.0   777.0   \n",
       "\n",
       "       service_fee  minimum_nights  number_of_reviews  last_review  \\\n",
       "167           75.0           371.0                2.0   2015-11-02   \n",
       "186          189.0           366.0              126.0   2019-05-19   \n",
       "263          168.0           399.0              248.0   2019-06-25   \n",
       "299          123.0           452.0                6.0   2016-11-13   \n",
       "350          228.0          3455.0                0.0   2019-06-14   \n",
       "473           82.0           398.0               34.0   2019-06-15   \n",
       "1306         236.0           370.0                6.0   2018-04-15   \n",
       "2855          40.0          1000.0                0.0   2019-06-14   \n",
       "5768          76.0          1250.0                2.0   2014-11-09   \n",
       "7356          26.0           500.0               30.0   2018-06-24   \n",
       "8015         184.0           500.0                0.0   2019-06-14   \n",
       "10830        178.0           480.0                0.0   2019-06-14   \n",
       "11194        231.0           500.0               10.0   2016-09-22   \n",
       "13405        161.0           999.0                2.0   2018-01-04   \n",
       "14286        214.0           500.0                0.0   2019-06-14   \n",
       "15947        202.0           366.0                0.0   2019-06-14   \n",
       "26342         24.0           999.0               24.0   2018-06-28   \n",
       "34488        177.0           400.0                0.0   2019-06-14   \n",
       "38665        130.0           999.0                0.0   2019-06-14   \n",
       "42354        151.0           452.0                0.0   2019-06-14   \n",
       "42369         72.0           954.0                1.0   2019-03-12   \n",
       "42398         91.0          5645.0                1.0   2019-06-05   \n",
       "42407        169.0          2645.0               14.0   2019-06-14   \n",
       "47621         10.0           500.0                0.0   2019-06-14   \n",
       "67608        155.0           500.0               11.0   2020-03-17   \n",
       "\n",
       "      reviews_per_month  review_rate_number  calculated_host_listings_count  \\\n",
       "167                0.79                 4.0                             1.0   \n",
       "186                1.17                 NaN                             4.0   \n",
       "263                2.39                 4.0                             2.0   \n",
       "299                0.10                 4.0                             1.0   \n",
       "350                0.79                 1.0                             1.0   \n",
       "473                0.35                 1.0                             1.0   \n",
       "1306               0.09                 5.0                             1.0   \n",
       "2855               0.79                 3.0                             1.0   \n",
       "5768               0.03                 2.0                             1.0   \n",
       "7356               0.57                 2.0                             1.0   \n",
       "8015               0.79                 1.0                             1.0   \n",
       "10830              0.79                 1.0                             1.0   \n",
       "11194              0.22                 3.0                             1.0   \n",
       "13405              0.07                 3.0                             1.0   \n",
       "14286              0.79                 1.0                             1.0   \n",
       "15947              0.79                 3.0                             1.0   \n",
       "26342              1.12                 3.0                             6.0   \n",
       "34488              0.79                 3.0                             1.0   \n",
       "38665              0.79                 4.0                             1.0   \n",
       "42354              0.79                 3.0                             1.0   \n",
       "42369              0.25                 3.0                             1.0   \n",
       "42398              0.88                 4.0                             1.0   \n",
       "42407              3.59                 3.0                             1.0   \n",
       "47621              0.79                 4.0                             1.0   \n",
       "67608              0.36                 4.0                             2.0   \n",
       "\n",
       "       availability_365  \n",
       "167           70.000000  \n",
       "186          332.000000  \n",
       "263          178.842025  \n",
       "299          351.000000  \n",
       "350          178.842025  \n",
       "473          182.000000  \n",
       "1306         166.000000  \n",
       "2855          88.000000  \n",
       "5768          26.000000  \n",
       "7356         193.000000  \n",
       "8015         185.000000  \n",
       "10830        313.000000  \n",
       "11194        212.000000  \n",
       "13405        137.000000  \n",
       "14286        224.000000  \n",
       "15947         93.000000  \n",
       "26342        249.000000  \n",
       "34488         90.000000  \n",
       "38665        365.000000  \n",
       "42354        129.000000  \n",
       "42369          8.000000  \n",
       "42398        178.842025  \n",
       "42407        271.000000  \n",
       "47621        331.000000  \n",
       "67608         29.000000  \n",
       "\n",
       "[25 rows x 21 columns]"
      ]
     },
     "execution_count": 63,
     "metadata": {},
     "output_type": "execute_result"
    }
   ],
   "source": [
    "# Checking for entries of minimum nights that are more than 365\n",
    "ds[ds['minimum_nights']>365]"
   ]
  },
  {
   "cell_type": "markdown",
   "id": "ed185c29",
   "metadata": {},
   "source": [
    "#### It is impossible to have entries more than a year(365). We can also change them to null values"
   ]
  },
  {
   "cell_type": "code",
   "execution_count": 64,
   "id": "a5b12f85",
   "metadata": {},
   "outputs": [],
   "source": [
    "# Replacing them with null values\n",
    "ds.loc[ds['minimum_nights']>365, 'minimum_nights'] = np.nan"
   ]
  },
  {
   "cell_type": "code",
   "execution_count": 65,
   "id": "2bf3d106",
   "metadata": {},
   "outputs": [
    {
     "data": {
      "text/plain": [
       "count    68884.000000\n",
       "mean         8.383471\n",
       "std         17.431659\n",
       "min          1.000000\n",
       "25%          1.000000\n",
       "50%          3.000000\n",
       "75%          6.000000\n",
       "max        365.000000\n",
       "Name: minimum_nights, dtype: float64"
      ]
     },
     "execution_count": 65,
     "metadata": {},
     "output_type": "execute_result"
    }
   ],
   "source": [
    "# Checking the statistics of the column\n",
    "ds['minimum_nights'].describe()"
   ]
  },
  {
   "cell_type": "markdown",
   "id": "3ef0791b",
   "metadata": {},
   "source": [
    "#### We can see the maximum and minimum values are between 1 to 365. Now let us plot a boxplot to understand the column better"
   ]
  },
  {
   "cell_type": "code",
   "execution_count": 66,
   "id": "a90799df",
   "metadata": {},
   "outputs": [
    {
     "data": {
      "text/plain": [
       "<AxesSubplot:ylabel='minimum_nights'>"
      ]
     },
     "execution_count": 66,
     "metadata": {},
     "output_type": "execute_result"
    },
    {
     "data": {
      "image/png": "[encoded data removed]",
      "text/plain": [
       "<Figure size 432x288 with 1 Axes>"
      ]
     },
     "metadata": {
      "needs_background": "light"
     },
     "output_type": "display_data"
    }
   ],
   "source": [
    "# Plotting a boxplot\n",
    "sns.boxplot(data=ds, y='minimum_nights')"
   ]
  },
  {
   "cell_type": "markdown",
   "id": "964de987",
   "metadata": {},
   "source": [
    "#### This shows that there are no outliers anymore. Let us use the median method to treat null values."
   ]
  },
  {
   "cell_type": "code",
   "execution_count": 67,
   "id": "05d0209c",
   "metadata": {},
   "outputs": [],
   "source": [
    "# Handling the null values\n",
    "ds.loc[ds['minimum_nights'].isnull(), 'minimum_nights'] = ds['minimum_nights'].median()"
   ]
  },
  {
   "cell_type": "code",
   "execution_count": 68,
   "id": "4f16380f",
   "metadata": {},
   "outputs": [
    {
     "data": {
      "text/plain": [
       "count    69281.000000\n",
       "mean         8.352622\n",
       "std         17.386391\n",
       "min          1.000000\n",
       "25%          2.000000\n",
       "50%          3.000000\n",
       "75%          6.000000\n",
       "max        365.000000\n",
       "Name: minimum_nights, dtype: float64"
      ]
     },
     "execution_count": 68,
     "metadata": {},
     "output_type": "execute_result"
    }
   ],
   "source": [
    "# Checking the statistics\n",
    "ds['minimum_nights'].describe()"
   ]
  },
  {
   "cell_type": "markdown",
   "id": "b0f08dd0",
   "metadata": {},
   "source": [
    "#### This shows that the median method works."
   ]
  },
  {
   "cell_type": "markdown",
   "id": "6bbb0de1",
   "metadata": {},
   "source": [
    "### Checking the number_of_reviews column"
   ]
  },
  {
   "cell_type": "code",
   "execution_count": 69,
   "id": "f40676c7",
   "metadata": {},
   "outputs": [
    {
     "data": {
      "text/plain": [
       "count    69129.000000\n",
       "mean        28.046854\n",
       "std         52.083207\n",
       "min          0.000000\n",
       "25%          1.000000\n",
       "50%          7.000000\n",
       "75%         30.000000\n",
       "max       1024.000000\n",
       "Name: number_of_reviews, dtype: float64"
      ]
     },
     "execution_count": 69,
     "metadata": {},
     "output_type": "execute_result"
    }
   ],
   "source": [
    "# Exploring the column\n",
    "ds['number_of_reviews'].describe()"
   ]
  },
  {
   "cell_type": "code",
   "execution_count": 70,
   "id": "e3f3cbc9",
   "metadata": {},
   "outputs": [
    {
     "data": {
      "text/plain": [
       "<AxesSubplot:ylabel='number_of_reviews'>"
      ]
     },
     "execution_count": 70,
     "metadata": {},
     "output_type": "execute_result"
    },
    {
     "data": {
      "image/png": "[encoded data removed]",
      "text/plain": [
       "<Figure size 432x288 with 1 Axes>"
      ]
     },
     "metadata": {
      "needs_background": "light"
     },
     "output_type": "display_data"
    }
   ],
   "source": [
    "# Plotting a boxplot\n",
    "sns.boxplot(data=ds, y='number_of_reviews')"
   ]
  },
  {
   "cell_type": "markdown",
   "id": "a7e720b8",
   "metadata": {},
   "source": [
    "#### This shows there are outliers in this column. So the mean method cannot be used. We can use the median method to handle null values"
   ]
  },
  {
   "cell_type": "code",
   "execution_count": 71,
   "id": "01a86197",
   "metadata": {},
   "outputs": [],
   "source": [
    "# Handling the null values\n",
    "ds.loc[ds['number_of_reviews'].isnull(), 'number_of_reviews'] = ds['number_of_reviews'].median()"
   ]
  },
  {
   "cell_type": "code",
   "execution_count": 72,
   "id": "1480c49b",
   "metadata": {},
   "outputs": [
    {
     "data": {
      "text/plain": [
       "count    69281.000000\n",
       "mean        28.000678\n",
       "std         52.035359\n",
       "min          0.000000\n",
       "25%          1.000000\n",
       "50%          7.000000\n",
       "75%         30.000000\n",
       "max       1024.000000\n",
       "Name: number_of_reviews, dtype: float64"
      ]
     },
     "execution_count": 72,
     "metadata": {},
     "output_type": "execute_result"
    }
   ],
   "source": [
    "# Checking the statistics\n",
    "ds['number_of_reviews'].describe()"
   ]
  },
  {
   "cell_type": "markdown",
   "id": "b06063f3",
   "metadata": {},
   "source": [
    "#### Since there is no difference, this shows that the median method works."
   ]
  },
  {
   "cell_type": "markdown",
   "id": "1193298f",
   "metadata": {},
   "source": [
    "### Checking the review_rate_number column"
   ]
  },
  {
   "cell_type": "code",
   "execution_count": 73,
   "id": "32c3a777",
   "metadata": {},
   "outputs": [
    {
     "data": {
      "text/plain": [
       "count    69042.000000\n",
       "mean         3.322818\n",
       "std          1.257754\n",
       "min          1.000000\n",
       "25%          2.000000\n",
       "50%          3.000000\n",
       "75%          4.000000\n",
       "max          5.000000\n",
       "Name: review_rate_number, dtype: float64"
      ]
     },
     "execution_count": 73,
     "metadata": {},
     "output_type": "execute_result"
    }
   ],
   "source": [
    "# Exploring the column\n",
    "ds['review_rate_number'].describe()"
   ]
  },
  {
   "cell_type": "code",
   "execution_count": 74,
   "id": "e544c731",
   "metadata": {
    "scrolled": true
   },
   "outputs": [
    {
     "data": {
      "text/plain": [
       "<AxesSubplot:ylabel='review_rate_number'>"
      ]
     },
     "execution_count": 74,
     "metadata": {},
     "output_type": "execute_result"
    },
    {
     "data": {
      "image/png": "[encoded data removed]",
      "text/plain": [
       "<Figure size 432x288 with 1 Axes>"
      ]
     },
     "metadata": {
      "needs_background": "light"
     },
     "output_type": "display_data"
    }
   ],
   "source": [
    "# Plotting a boxplot\n",
    "sns.boxplot(data=ds, y='review_rate_number')"
   ]
  },
  {
   "cell_type": "markdown",
   "id": "b1fe3148",
   "metadata": {},
   "source": [
    "### This shows that there are no outliers in this column. We can use the mean method to handle null values"
   ]
  },
  {
   "cell_type": "code",
   "execution_count": 75,
   "id": "f67c6e21",
   "metadata": {},
   "outputs": [],
   "source": [
    "# Handling the null values\n",
    "ds.loc[ds['review_rate_number'].isnull(), 'review_rate_number'] = ds['review_rate_number'].mean()"
   ]
  },
  {
   "cell_type": "code",
   "execution_count": 76,
   "id": "aa5b2173",
   "metadata": {},
   "outputs": [
    {
     "data": {
      "text/plain": [
       "count    69281.000000\n",
       "mean         3.322818\n",
       "std          1.255582\n",
       "min          1.000000\n",
       "25%          2.000000\n",
       "50%          3.000000\n",
       "75%          4.000000\n",
       "max          5.000000\n",
       "Name: review_rate_number, dtype: float64"
      ]
     },
     "execution_count": 76,
     "metadata": {},
     "output_type": "execute_result"
    }
   ],
   "source": [
    "# Checking the statistics\n",
    "ds['review_rate_number'].describe()"
   ]
  },
  {
   "cell_type": "markdown",
   "id": "c69215ec",
   "metadata": {},
   "source": [
    "#### This shows that the mean method works."
   ]
  },
  {
   "cell_type": "markdown",
   "id": "fa20b970",
   "metadata": {},
   "source": [
    "### Checking the calculated_host_listings_count column"
   ]
  },
  {
   "cell_type": "code",
   "execution_count": 77,
   "id": "4562cb6f",
   "metadata": {},
   "outputs": [
    {
     "data": {
      "text/plain": [
       "count    69137.000000\n",
       "mean         8.994778\n",
       "std         34.848338\n",
       "min          1.000000\n",
       "25%          1.000000\n",
       "50%          1.000000\n",
       "75%          3.000000\n",
       "max        332.000000\n",
       "Name: calculated_host_listings_count, dtype: float64"
      ]
     },
     "execution_count": 77,
     "metadata": {},
     "output_type": "execute_result"
    }
   ],
   "source": [
    "# Exploring the column\n",
    "ds['calculated_host_listings_count'].describe()"
   ]
  },
  {
   "cell_type": "code",
   "execution_count": 78,
   "id": "12e44ed8",
   "metadata": {},
   "outputs": [
    {
     "data": {
      "text/plain": [
       "<AxesSubplot:ylabel='calculated_host_listings_count'>"
      ]
     },
     "execution_count": 78,
     "metadata": {},
     "output_type": "execute_result"
    },
    {
     "data": {
      "image/png": "[encoded data removed]",
      "text/plain": [
       "<Figure size 432x288 with 1 Axes>"
      ]
     },
     "metadata": {
      "needs_background": "light"
     },
     "output_type": "display_data"
    }
   ],
   "source": [
    "# Plotting a boxplot\n",
    "sns.boxplot(data=ds, y='calculated_host_listings_count')"
   ]
  },
  {
   "cell_type": "markdown",
   "id": "b96a5921",
   "metadata": {},
   "source": [
    "#### This shows there are outliers in this column. We can use the median to handle null values"
   ]
  },
  {
   "cell_type": "code",
   "execution_count": 79,
   "id": "d455660d",
   "metadata": {},
   "outputs": [],
   "source": [
    "# Handling the null values\n",
    "ds.loc[ds['calculated_host_listings_count'].isnull(), 'calculated_host_listings_count'] = ds['calculated_host_listings_count'].median()"
   ]
  },
  {
   "cell_type": "code",
   "execution_count": 80,
   "id": "dce9335f",
   "metadata": {},
   "outputs": [
    {
     "data": {
      "text/plain": [
       "count    69281.000000\n",
       "mean         8.978161\n",
       "std         34.814006\n",
       "min          1.000000\n",
       "25%          1.000000\n",
       "50%          1.000000\n",
       "75%          3.000000\n",
       "max        332.000000\n",
       "Name: calculated_host_listings_count, dtype: float64"
      ]
     },
     "execution_count": 80,
     "metadata": {},
     "output_type": "execute_result"
    }
   ],
   "source": [
    "# Checking the statistics\n",
    "ds['calculated_host_listings_count'].describe()"
   ]
  },
  {
   "cell_type": "markdown",
   "id": "0d5ab5f0",
   "metadata": {},
   "source": [
    "#### This shows that the median method works"
   ]
  },
  {
   "cell_type": "markdown",
   "id": "8bc4626e",
   "metadata": {},
   "source": [
    "### Checking the price column"
   ]
  },
  {
   "cell_type": "code",
   "execution_count": 81,
   "id": "a24e7446",
   "metadata": {},
   "outputs": [
    {
     "data": {
      "text/plain": [
       "count    69037.000000\n",
       "mean       624.724597\n",
       "std        331.764175\n",
       "min         50.000000\n",
       "25%        338.000000\n",
       "50%        624.000000\n",
       "75%        912.000000\n",
       "max       1200.000000\n",
       "Name: price, dtype: float64"
      ]
     },
     "execution_count": 81,
     "metadata": {},
     "output_type": "execute_result"
    }
   ],
   "source": [
    "# Exploring the column\n",
    "ds['price'].describe()"
   ]
  },
  {
   "cell_type": "code",
   "execution_count": 82,
   "id": "dba2b4f7",
   "metadata": {},
   "outputs": [
    {
     "data": {
      "text/plain": [
       "<AxesSubplot:ylabel='price'>"
      ]
     },
     "execution_count": 82,
     "metadata": {},
     "output_type": "execute_result"
    },
    {
     "data": {
      "image/png": "[encoded data removed]",
      "text/plain": [
       "<Figure size 432x288 with 1 Axes>"
      ]
     },
     "metadata": {
      "needs_background": "light"
     },
     "output_type": "display_data"
    }
   ],
   "source": [
    "# Plotting a boxplot\n",
    "sns.boxplot(data=ds, y='price')"
   ]
  },
  {
   "cell_type": "markdown",
   "id": "1d67ff8a",
   "metadata": {},
   "source": [
    "#### This shows there are no outliers in this column. We can use the mean method to handle null values"
   ]
  },
  {
   "cell_type": "code",
   "execution_count": 83,
   "id": "6d995cee",
   "metadata": {},
   "outputs": [],
   "source": [
    "# Handling the null values\n",
    "ds.loc[ds['price'].isnull(), 'price'] = ds['price'].mean()"
   ]
  },
  {
   "cell_type": "code",
   "execution_count": 84,
   "id": "e83c8b43",
   "metadata": {},
   "outputs": [
    {
     "data": {
      "text/plain": [
       "count    69281.000000\n",
       "mean       624.724597\n",
       "std        331.179433\n",
       "min         50.000000\n",
       "25%        339.000000\n",
       "50%        624.724597\n",
       "75%        911.000000\n",
       "max       1200.000000\n",
       "Name: price, dtype: float64"
      ]
     },
     "execution_count": 84,
     "metadata": {},
     "output_type": "execute_result"
    }
   ],
   "source": [
    "# Checking the statistics\n",
    "ds['price'].describe()"
   ]
  },
  {
   "cell_type": "markdown",
   "id": "b2a8c800",
   "metadata": {},
   "source": [
    "#### This shows that the mean method works."
   ]
  },
  {
   "cell_type": "markdown",
   "id": "af9b81d8",
   "metadata": {},
   "source": [
    "### Checking the service_fee column"
   ]
  },
  {
   "cell_type": "code",
   "execution_count": 85,
   "id": "ef4c3033",
   "metadata": {},
   "outputs": [
    {
     "data": {
      "text/plain": [
       "count    69040.000000\n",
       "mean       124.891599\n",
       "std         66.342366\n",
       "min         10.000000\n",
       "25%         68.000000\n",
       "50%        125.000000\n",
       "75%        182.000000\n",
       "max        240.000000\n",
       "Name: service_fee, dtype: float64"
      ]
     },
     "execution_count": 85,
     "metadata": {},
     "output_type": "execute_result"
    }
   ],
   "source": [
    "# Exploring the column\n",
    "ds['service_fee'].describe()"
   ]
  },
  {
   "cell_type": "code",
   "execution_count": 86,
   "id": "975f8282",
   "metadata": {},
   "outputs": [
    {
     "data": {
      "text/plain": [
       "<AxesSubplot:ylabel='service_fee'>"
      ]
     },
     "execution_count": 86,
     "metadata": {},
     "output_type": "execute_result"
    },
    {
     "data": {
      "image/png": "[encoded data removed]",
      "text/plain": [
       "<Figure size 432x288 with 1 Axes>"
      ]
     },
     "metadata": {
      "needs_background": "light"
     },
     "output_type": "display_data"
    }
   ],
   "source": [
    "# Plotting a boxplot\n",
    "sns.boxplot(data=ds, y='service_fee')"
   ]
  },
  {
   "cell_type": "markdown",
   "id": "9851b8c0",
   "metadata": {},
   "source": [
    "#### This shows there are no outliers in this column. We can use the mean method to handle the null values"
   ]
  },
  {
   "cell_type": "code",
   "execution_count": 87,
   "id": "6153eda9",
   "metadata": {},
   "outputs": [],
   "source": [
    "# Handling the null values\n",
    "ds.loc[ds['service_fee'].isnull(), 'service_fee'] = ds['service_fee'].mean()"
   ]
  },
  {
   "cell_type": "code",
   "execution_count": 88,
   "id": "88434108",
   "metadata": {},
   "outputs": [
    {
     "data": {
      "text/plain": [
       "count    69281.000000\n",
       "mean       124.891599\n",
       "std         66.226875\n",
       "min         10.000000\n",
       "25%         68.000000\n",
       "50%        124.891599\n",
       "75%        182.000000\n",
       "max        240.000000\n",
       "Name: service_fee, dtype: float64"
      ]
     },
     "execution_count": 88,
     "metadata": {},
     "output_type": "execute_result"
    }
   ],
   "source": [
    "# Checking the statistics\n",
    "ds['service_fee'].describe()"
   ]
  },
  {
   "cell_type": "markdown",
   "id": "d29cdd30",
   "metadata": {},
   "source": [
    "#### This shows that the mean method works"
   ]
  },
  {
   "cell_type": "markdown",
   "id": "a1348b02",
   "metadata": {},
   "source": [
    "### Checking the construction_year column"
   ]
  },
  {
   "cell_type": "code",
   "execution_count": 89,
   "id": "af02fe45",
   "metadata": {},
   "outputs": [
    {
     "data": {
      "text/plain": [
       "count    69092.000000\n",
       "mean      2012.491113\n",
       "std          5.763728\n",
       "min       2003.000000\n",
       "25%       2007.000000\n",
       "50%       2012.000000\n",
       "75%       2017.000000\n",
       "max       2022.000000\n",
       "Name: construction_year, dtype: float64"
      ]
     },
     "execution_count": 89,
     "metadata": {},
     "output_type": "execute_result"
    }
   ],
   "source": [
    "# Exploring the column\n",
    "ds['construction_year'].describe()"
   ]
  },
  {
   "cell_type": "code",
   "execution_count": 90,
   "id": "c34cb4d0",
   "metadata": {},
   "outputs": [
    {
     "data": {
      "text/plain": [
       "<AxesSubplot:ylabel='construction_year'>"
      ]
     },
     "execution_count": 90,
     "metadata": {},
     "output_type": "execute_result"
    },
    {
     "data": {
      "image/png": "[encoded data removed]",
      "text/plain": [
       "<Figure size 432x288 with 1 Axes>"
      ]
     },
     "metadata": {
      "needs_background": "light"
     },
     "output_type": "display_data"
    }
   ],
   "source": [
    "# Plot a boxplot\n",
    "sns.boxplot(data=ds, y='construction_year')"
   ]
  },
  {
   "cell_type": "markdown",
   "id": "7f4358db",
   "metadata": {},
   "source": [
    "#### This shows  there are no outliers in this column. We can use the mean method to handle the null values"
   ]
  },
  {
   "cell_type": "code",
   "execution_count": 91,
   "id": "bf9ac1ad",
   "metadata": {},
   "outputs": [],
   "source": [
    "# Handling the null values\n",
    "ds.loc[ds['construction_year'].isnull(), 'construction_year'] = ds['construction_year'].mean()"
   ]
  },
  {
   "cell_type": "code",
   "execution_count": 92,
   "id": "9525359f",
   "metadata": {},
   "outputs": [
    {
     "data": {
      "text/plain": [
       "count    69281.000000\n",
       "mean      2012.491113\n",
       "std          5.755860\n",
       "min       2003.000000\n",
       "25%       2008.000000\n",
       "50%       2012.000000\n",
       "75%       2017.000000\n",
       "max       2022.000000\n",
       "Name: construction_year, dtype: float64"
      ]
     },
     "execution_count": 92,
     "metadata": {},
     "output_type": "execute_result"
    }
   ],
   "source": [
    "# Checking the statistics\n",
    "ds['construction_year'].describe()"
   ]
  },
  {
   "cell_type": "markdown",
   "id": "b822e8b0",
   "metadata": {},
   "source": [
    "#### This shows that the mean method works"
   ]
  },
  {
   "cell_type": "markdown",
   "id": "d65ea3b1",
   "metadata": {},
   "source": [
    "### Confirming there are no missing values in the dataset"
   ]
  },
  {
   "cell_type": "code",
   "execution_count": 93,
   "id": "d4ba44f2",
   "metadata": {
    "scrolled": true
   },
   "outputs": [
    {
     "data": {
      "text/plain": [
       "id                                0\n",
       "host_id                           0\n",
       "host_identity_verified            0\n",
       "host_name                         0\n",
       "neighbourhood_group               0\n",
       "neighbourhood                     0\n",
       "lat                               0\n",
       "long                              0\n",
       "instant_bookable                  0\n",
       "cancellation_policy               0\n",
       "room_type                         0\n",
       "construction_year                 0\n",
       "price                             0\n",
       "service_fee                       0\n",
       "minimum_nights                    0\n",
       "number_of_reviews                 0\n",
       "last_review                       0\n",
       "reviews_per_month                 0\n",
       "review_rate_number                0\n",
       "calculated_host_listings_count    0\n",
       "availability_365                  0\n",
       "dtype: int64"
      ]
     },
     "execution_count": 93,
     "metadata": {},
     "output_type": "execute_result"
    }
   ],
   "source": [
    "ds.isna().sum()"
   ]
  },
  {
   "cell_type": "markdown",
   "id": "1b4c0e37",
   "metadata": {},
   "source": [
    "#### This shows that all the missing values in this dataset have been handled"
   ]
  },
  {
   "cell_type": "markdown",
   "id": "c9ad2d39",
   "metadata": {},
   "source": [
    "### Tranforming Dataset"
   ]
  },
  {
   "cell_type": "markdown",
   "id": "c6b10307",
   "metadata": {},
   "source": [
    "#### This involves changing the data types of some columns from float to int and from int to datetime"
   ]
  },
  {
   "cell_type": "code",
   "execution_count": 94,
   "id": "67be0687",
   "metadata": {
    "scrolled": true
   },
   "outputs": [
    {
     "data": {
      "text/plain": [
       "id                                         int64\n",
       "host_id                                    int64\n",
       "host_identity_verified                    object\n",
       "host_name                                 object\n",
       "neighbourhood_group                       object\n",
       "neighbourhood                             object\n",
       "lat                                      float64\n",
       "long                                     float64\n",
       "instant_bookable                          object\n",
       "cancellation_policy                       object\n",
       "room_type                                 object\n",
       "construction_year                 datetime64[ns]\n",
       "price                                    float64\n",
       "service_fee                              float64\n",
       "minimum_nights                             int32\n",
       "number_of_reviews                          int32\n",
       "last_review                       datetime64[ns]\n",
       "reviews_per_month                        float64\n",
       "review_rate_number                         int32\n",
       "calculated_host_listings_count             int32\n",
       "availability_365                           int32\n",
       "dtype: object"
      ]
     },
     "execution_count": 94,
     "metadata": {},
     "output_type": "execute_result"
    }
   ],
   "source": [
    "# Converting from float to int\n",
    "convert_dict = {'number_of_reviews': int,\n",
    "       'calculated_host_listings_count': int, 'minimum_nights': int, 'review_rate_number': int,\n",
    "       'availability_365': int}\n",
    "ds =ds.astype(convert_dict)\n",
    "\n",
    "# Converting from int to datetime\n",
    "ds['construction_year'] = pd.to_datetime(ds['construction_year'])\n",
    "\n",
    "ds.dtypes"
   ]
  },
  {
   "cell_type": "code",
   "execution_count": 95,
   "id": "b5037bc1",
   "metadata": {},
   "outputs": [
    {
     "data": {
      "text/plain": [
       "(69281, 21)"
      ]
     },
     "execution_count": 95,
     "metadata": {},
     "output_type": "execute_result"
    }
   ],
   "source": [
    "# Checking the shape of the dataset\n",
    "ds.shape"
   ]
  },
  {
   "cell_type": "code",
   "execution_count": 96,
   "id": "ecb4c4de",
   "metadata": {
    "scrolled": true
   },
   "outputs": [
    {
     "name": "stdout",
     "output_type": "stream",
     "text": [
      "<class 'pandas.core.frame.DataFrame'>\n",
      "Int64Index: 69281 entries, 0 to 102050\n",
      "Data columns (total 21 columns):\n",
      " #   Column                          Non-Null Count  Dtype         \n",
      "---  ------                          --------------  -----         \n",
      " 0   id                              69281 non-null  int64         \n",
      " 1   host_id                         69281 non-null  int64         \n",
      " 2   host_identity_verified          69281 non-null  object        \n",
      " 3   host_name                       69281 non-null  object        \n",
      " 4   neighbourhood_group             69281 non-null  object        \n",
      " 5   neighbourhood                   69281 non-null  object        \n",
      " 6   lat                             69281 non-null  float64       \n",
      " 7   long                            69281 non-null  float64       \n",
      " 8   instant_bookable                69281 non-null  object        \n",
      " 9   cancellation_policy             69281 non-null  object        \n",
      " 10  room_type                       69281 non-null  object        \n",
      " 11  construction_year               69281 non-null  datetime64[ns]\n",
      " 12  price                           69281 non-null  float64       \n",
      " 13  service_fee                     69281 non-null  float64       \n",
      " 14  minimum_nights                  69281 non-null  int32         \n",
      " 15  number_of_reviews               69281 non-null  int32         \n",
      " 16  last_review                     69281 non-null  datetime64[ns]\n",
      " 17  reviews_per_month               69281 non-null  float64       \n",
      " 18  review_rate_number              69281 non-null  int32         \n",
      " 19  calculated_host_listings_count  69281 non-null  int32         \n",
      " 20  availability_365                69281 non-null  int32         \n",
      "dtypes: datetime64[ns](2), float64(5), int32(5), int64(2), object(7)\n",
      "memory usage: 10.3+ MB\n"
     ]
    }
   ],
   "source": [
    "# Checking the summary of the dataset\n",
    "ds.info()"
   ]
  },
  {
   "cell_type": "markdown",
   "id": "d81da859",
   "metadata": {},
   "source": [
    "### Saving the dataset"
   ]
  },
  {
   "cell_type": "code",
   "execution_count": 97,
   "id": "80376ee8",
   "metadata": {},
   "outputs": [],
   "source": [
    "ds.to_csv('cleaned_airbnb.csv', index = False)"
   ]
  },
  {
   "cell_type": "markdown",
   "id": "eca7c665",
   "metadata": {},
   "source": [
    "### This dataset has been cleaned, and the final version has been saved for later use."
   ]
  }
 ],
 "metadata": {
  "kernelspec": {
   "display_name": "Python 3 (ipykernel)",
   "language": "python",
   "name": "python3"
  },
  "language_info": {
   "codemirror_mode": {
    "name": "ipython",
    "version": 3
   },
   "file_extension": ".py",
   "mimetype": "text/x-python",
   "name": "python",
   "nbconvert_exporter": "python",
   "pygments_lexer": "ipython3",
   "version": "3.9.12"
  }
 },
 "nbformat": 4,
 "nbformat_minor": 5
}
